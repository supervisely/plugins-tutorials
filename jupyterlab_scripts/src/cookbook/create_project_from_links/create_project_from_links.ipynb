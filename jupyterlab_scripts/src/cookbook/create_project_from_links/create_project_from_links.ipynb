{
 "cells": [
  {
   "cell_type": "markdown",
   "metadata": {},
   "source": [
    "# Create Project with images by urls\n",
    "\n",
    "A standart way to create new Project is to use Import page and upload pictures from hard drive. But this could cause troubles when you already have existing images on web server (i.e Amazon S3). Supervisely provides \"Links\" import plugin to add image to dataset without downloading any data - we just save link to remote image.\n",
    "\n",
    "This cookbook implements the same functional. We will use popular movies posters from IMDB\n",
    "\n",
    "**Input**:\n",
    "- List of image urls\n",
    "\n",
    "**Output**:\n",
    "- New Project with images from input"
   ]
  },
  {
   "cell_type": "markdown",
   "metadata": {},
   "source": [
    "<div style=\"display:flex\">\n",
    "     <div style=\"flex:1;padding-right:5px;\">\n",
    "          <img src=\"https://m.media-amazon.com/images/M/MV5BMjA0MDIwMDYwNl5BMl5BanBnXkFtZTcwMjY0Mzg4Mw@@._V1_SY1000_CR0,0,1350,1000_AL_.jpg\">\n",
    "     </div>\n",
    "     <div style=\"flex:1;padding-left:5px;\">\n",
    "          <img src=\"https://m.media-amazon.com/images/M/MV5BMTc5Njg5Njg2MV5BMl5BanBnXkFtZTgwMjAwMzg5MTE@._V1_SY1000_CR0,0,1332,1000_AL_.jpg\">\n",
    "     </div>\n",
    "</div>"
   ]
  },
  {
   "cell_type": "markdown",
   "metadata": {},
   "source": [
    "## Configuration\n",
    "\n",
    "Edit the following settings for your own case"
   ]
  },
  {
   "cell_type": "code",
   "execution_count": 1,
   "metadata": {},
   "outputs": [],
   "source": [
    "import supervisely_lib as sly\n",
    "import os\n",
    "from slugify import slugify\n",
    "from tqdm import tqdm"
   ]
  },
  {
   "cell_type": "code",
   "execution_count": 2,
   "metadata": {},
   "outputs": [],
   "source": [
    "# Input urls\n",
    "\n",
    "first_dataset_name = \"dataset_01\"\n",
    "links_first_dataset = [\n",
    "\"https://m.media-amazon.com/images/M/MV5BMjA0MDIwMDYwNl5BMl5BanBnXkFtZTcwMjY0Mzg4Mw@@._V1_SY1000_CR0,0,1350,1000_AL_.jpg\",\n",
    "\"https://m.media-amazon.com/images/M/MV5BMTc5Njg5Njg2MV5BMl5BanBnXkFtZTgwMjAwMzg5MTE@._V1_SY1000_CR0,0,1332,1000_AL_.jpg\",\n",
    "\"https://m.media-amazon.com/images/M/MV5BMjA5ODU3NTI0Ml5BMl5BanBnXkFtZTcwODczMTk2Mw@@._V1_SX1777_CR0,0,1777,756_AL_.jpg\"]\n",
    "\n",
    "second_dataset_name = \"dataset_02\"\n",
    "links_second_dataset = [\n",
    "\"https://m.media-amazon.com/images/M/MV5BMTY3MzMzMDgyMF5BMl5BanBnXkFtZTcwMzY0OTk1Mw@@._V1_SX1500_CR0,0,1500,999_AL_.jpg\",\n",
    "\"https://m.media-amazon.com/images/M/MV5BMjk3NTYyMzc4Nl5BMl5BanBnXkFtZTcwODU3ODMzMw@@._V1_SY1000_CR0,0,1413,1000_AL_.jpg\",\n",
    "\"https://m.media-amazon.com/images/M/MV5BNzM4OTkzMjcxOF5BMl5BanBnXkFtZTgwMTkxMjI1MTI@._V1_SX1777_CR0,0,1777,738_AL_.jpg\",\n",
    "\"https://m.media-amazon.com/images/M/MV5BMTgwMTgxMTgwMl5BMl5BanBnXkFtZTcwODM5OTQyNw@@._V1_SY1000_SX1480_AL_.jpg\",\n",
    "\"https://m.media-amazon.com/images/M/MV5BMjA3NTEwOTMxMV5BMl5BanBnXkFtZTgwMjMyODgxMzE@._V1_SX1500_CR0,0,1500,999_AL_.jpg\",\n",
    "\"https://m.media-amazon.com/images/M/MV5BMzY0MDg5MTU5OV5BMl5BanBnXkFtZTcwMDUzNTIwNA@@._V1_SY1000_CR0,0,1488,1000_AL_.jpg\",\n",
    "\"https://m.media-amazon.com/images/M/MV5BMTczMDE3NzU2M15BMl5BanBnXkFtZTcwNjkwNjM5NA@@._V1_.jpg\"]\n",
    "\n",
    "# Output Project\n",
    "team_name = \"jupyter_tutorials\"\n",
    "workspace_name = \"cookbook\"\n",
    "project_name = \"project_from_links\"\n",
    "\n",
    "# Obtain server address and your api_token from environment variables\n",
    "# Edit those values if you run this notebook on your own PC\n",
    "address = os.environ['SERVER_ADDRESS']\n",
    "token = os.environ['API_TOKEN']"
   ]
  },
  {
   "cell_type": "code",
   "execution_count": 3,
   "metadata": {},
   "outputs": [],
   "source": [
    "# Initialize API object\n",
    "api = sly.Api(address, token)"
   ]
  },
  {
   "cell_type": "markdown",
   "metadata": {},
   "source": [
    "## Verify input values\n",
    "\n",
    "Test that context (team / workspace / project) exists"
   ]
  },
  {
   "cell_type": "code",
   "execution_count": 4,
   "metadata": {},
   "outputs": [
    {
     "name": "stdout",
     "output_type": "stream",
     "text": [
      "Team: id=30, name=jupyter_tutorials\n",
      "Workspace: id=76, name=cookbook\n"
     ]
    }
   ],
   "source": [
    "# Get IDs of team and workspace\n",
    "\n",
    "team = api.team.get_info_by_name(team_name)\n",
    "if team is None:\n",
    "    raise RuntimeError(\"Team {!r} not found\".format(team_name))\n",
    "\n",
    "workspace = api.workspace.get_info_by_name(team.id, workspace_name)\n",
    "if workspace is None:\n",
    "    raise RuntimeError(\"Workspace {!r} not found\".format(workspace_name))\n",
    "    \n",
    "print(\"Team: id={}, name={}\".format(team.id, team.name))\n",
    "print(\"Workspace: id={}, name={}\".format(workspace.id, workspace.name))"
   ]
  },
  {
   "cell_type": "markdown",
   "metadata": {},
   "source": [
    "## Create empty Project"
   ]
  },
  {
   "cell_type": "code",
   "execution_count": 5,
   "metadata": {},
   "outputs": [
    {
     "name": "stdout",
     "output_type": "stream",
     "text": [
      "Project: id=1324, name=project_from_links\n"
     ]
    }
   ],
   "source": [
    "# check if project already exists. If yes - generate new free name\n",
    "if api.project.exists(workspace.id, project_name):\n",
    "    project_name = api.project.get_free_name(workspace.id, project_name)\n",
    "    \n",
    "# create remote project\n",
    "project = api.project.create(workspace.id, project_name)\n",
    "print(\"Project: id={}, name={}\".format(project.id, project.name))"
   ]
  },
  {
   "cell_type": "markdown",
   "metadata": {},
   "source": [
    "## Add remote images\n",
    "\n",
    "We will use `api.image.upload_link` and `api.image.add_link` methods"
   ]
  },
  {
   "cell_type": "code",
   "execution_count": 6,
   "metadata": {},
   "outputs": [
    {
     "name": "stderr",
     "output_type": "stream",
     "text": [
      "Process links: 100%|██████████| 3/3 [00:00<00:00, 126.63it/s]\n",
      "Process links: 100%|██████████| 7/7 [00:00<00:00, 278.46it/s]\n"
     ]
    }
   ],
   "source": [
    "for dataset_name, dataset_links in zip([first_dataset_name, second_dataset_name], [links_first_dataset, links_second_dataset]):\n",
    "    dataset = api.dataset.create(project.id, dataset_name)\n",
    "    with tqdm(total=len(dataset_links), desc=\"Process links\") as progress_bar:\n",
    "        for links in sly.batched(dataset_links):\n",
    "            names = []\n",
    "            for link in links:\n",
    "                # Get image name from url and slugify it\n",
    "                image_name = slugify(sly.fs.get_file_name(link))\n",
    "                image_ext = sly.fs.get_file_ext(link)\n",
    "                names.append(\"{}{}\".format(image_name, image_ext))\n",
    "\n",
    "            # Add new images to dataset via links\n",
    "            # We will retrieve some fields like MIME type or file size\n",
    "            # Image itself won't be stored on our servers\n",
    "            api.image.upload_links(dataset.id, names, links)\n",
    "            progress_bar.update(len(links))"
   ]
  },
  {
   "cell_type": "code",
   "execution_count": 7,
   "metadata": {},
   "outputs": [
    {
     "name": "stdout",
     "output_type": "stream",
     "text": [
      "Project 'project_from_links' has been sucessfully uploaded\n",
      "Number of uploaded images:  10\n"
     ]
    }
   ],
   "source": [
    "print(\"Project {!r} has been sucessfully uploaded\".format(project.name))\n",
    "print(\"Number of uploaded images: \", api.project.get_images_count(project.id))"
   ]
  },
  {
   "cell_type": "code",
   "execution_count": null,
   "metadata": {},
   "outputs": [],
   "source": []
  }
 ],
 "metadata": {
  "kernelspec": {
   "display_name": "Python 3",
   "language": "python",
   "name": "python3"
  },
  "language_info": {
   "codemirror_mode": {
    "name": "ipython",
    "version": 3
   },
   "file_extension": ".py",
   "mimetype": "text/x-python",
   "name": "python",
   "nbconvert_exporter": "python",
   "pygments_lexer": "ipython3",
   "version": "3.6.5"
  }
 },
 "nbformat": 4,
 "nbformat_minor": 2
}
