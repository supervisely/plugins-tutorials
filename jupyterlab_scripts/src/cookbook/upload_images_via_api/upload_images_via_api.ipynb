{
 "cells": [
  {
   "cell_type": "markdown",
   "metadata": {},
   "source": [
    "This script demonstrates how to upload images to dataset via API without creating project structure in Supervisely format. If you are interesting in uploading Supervisely format from hard drive to Supervisely Cloud Instance, please follow this tutorial: https://supervise.ly/explore/notebooks/upload-project-31/overview "
   ]
  },
  {
   "cell_type": "code",
   "execution_count": 1,
   "metadata": {
    "collapsed": true
   },
   "outputs": [],
   "source": [
    "import supervisely_lib as sly\n",
    "import os"
   ]
  },
  {
   "cell_type": "code",
   "execution_count": 2,
   "metadata": {},
   "outputs": [],
   "source": [
    "# Context\n",
    "team_name = 'max'\n",
    "workspace_name = 'test_upload_api'\n",
    "\n",
    "project_name = 'new_proj'\n",
    "dataset_name = 'ds_01'\n",
    "\n",
    "\n",
    "address = os.environ['SERVER_ADDRESS']\n",
    "token = os.environ['API_TOKEN']\n",
    "api = sly.Api(address, token)"
   ]
  },
  {
   "cell_type": "code",
   "execution_count": 3,
   "metadata": {},
   "outputs": [],
   "source": [
    "'''\n",
    "images\n",
    "├── a.jpg\n",
    "├── b.jpg\n",
    "└── c.jpg\n",
    "'''\n",
    "images_dir = '/workdir/src/cookbook/upload_images_via_api/images'"
   ]
  },
  {
   "cell_type": "code",
   "execution_count": 4,
   "metadata": {},
   "outputs": [
    {
     "name": "stdout",
     "output_type": "stream",
     "text": [
      "Team: id=600, name=max\n",
      "Workspace: id=16977, name=test_upload_api\n"
     ]
    }
   ],
   "source": [
    "# Get IDs of team and workspace\n",
    "team = api.team.get_info_by_name(team_name)\n",
    "if team is None:\n",
    "    raise RuntimeError(\"Team {!r} not found\".format(team_name))\n",
    "\n",
    "workspace = api.workspace.get_info_by_name(team.id, workspace_name)\n",
    "if workspace is None:\n",
    "    raise RuntimeError(\"Workspace {!r} not found\".format(workspace_name))\n",
    "\n",
    "print(\"Team: id={}, name={}\".format(team.id, team.name))\n",
    "print(\"Workspace: id={}, name={}\".format(workspace.id, workspace.name))"
   ]
  },
  {
   "cell_type": "code",
   "execution_count": 7,
   "metadata": {},
   "outputs": [],
   "source": [
    "project = api.project.get_info_by_name(workspace.id, project_name)\n",
    "if project is None:\n",
    "    project = api.project.create(workspace.id, project_name, change_name_if_conflict=True)\n",
    "\n",
    "dataset = api.dataset.get_info_by_name(project.id, dataset_name)\n",
    "if dataset is None:\n",
    "    dataset = api.dataset.create(project.id, dataset_name, change_name_if_conflict=True)"
   ]
  },
  {
   "cell_type": "code",
   "execution_count": 8,
   "metadata": {},
   "outputs": [],
   "source": [
    "img_paths = sly.fs.list_files(images_dir)\n",
    "for img_path in img_paths:\n",
    "    img_name = sly.fs.get_file_name_with_ext(img_path)\n",
    "    api.image.upload_path(dataset.id, img_name, img_path)"
   ]
  },
  {
   "cell_type": "code",
   "execution_count": null,
   "metadata": {},
   "outputs": [],
   "source": []
  }
 ],
 "metadata": {
  "kernelspec": {
   "display_name": "Python 3",
   "language": "python",
   "name": "python3"
  },
  "language_info": {
   "codemirror_mode": {
    "name": "ipython",
    "version": 3
   },
   "file_extension": ".py",
   "mimetype": "text/x-python",
   "name": "python",
   "nbconvert_exporter": "python",
   "pygments_lexer": "ipython3",
   "version": "3.6.5"
  }
 },
 "nbformat": 4,
 "nbformat_minor": 2
}
