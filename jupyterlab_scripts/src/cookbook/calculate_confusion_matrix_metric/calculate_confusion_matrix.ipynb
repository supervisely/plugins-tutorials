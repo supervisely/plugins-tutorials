{
 "cells": [
  {
   "cell_type": "markdown",
   "metadata": {},
   "source": [
    "# Calculate Confusion Matrix\n",
    "\n",
    "A ready-to-use script to calculate confusion matrix.\n",
    "\n",
    "**Input**:\n",
    "- Existing project annotated with both ground truth and predicted objects.\n",
    "- At least one pair of corresponding ground truth and prediction class names, e.g. (\"person\", \"person_predicted\").\n",
    "\n",
    "**Output**:\n",
    "- Confusion matrix as a Python dict with counts of matched object for each combination of classes.\n"
   ]
  },
  {
   "cell_type": "markdown",
   "metadata": {},
   "source": [
    "## Imports"
   ]
  },
  {
   "cell_type": "code",
   "execution_count": 1,
   "metadata": {},
   "outputs": [],
   "source": [
    "import supervisely_lib as sly\n",
    "import os\n",
    "import collections\n",
    "import itertools\n",
    "import numpy as np\n",
    "import matplotlib.pyplot as plt\n",
    "\n",
    "from supervisely_lib.metric.confusion_matrix_metric import CONFUSION_MATRIX, UNMATCHED_GT, UNMATCHED_PREDICTIONS\n",
    "\n",
    "from tqdm import tqdm\n",
    "%matplotlib inline"
   ]
  },
  {
   "cell_type": "markdown",
   "metadata": {},
   "source": [
    "## Configuration\n",
    "\n",
    "Edit the following settings for your own case"
   ]
  },
  {
   "cell_type": "code",
   "execution_count": 2,
   "metadata": {},
   "outputs": [],
   "source": [
    "# Change this field to the name of your team, where target workspace exists.\n",
    "team_name = \"jupyter_tutorials\"\n",
    "\n",
    "# Change this field to the of your workspace, where target project exists.\n",
    "workspace_name = \"metrics_tutorials\"\n",
    "\n",
    "# Change this field to the name of your target project.\n",
    "project_name = \"confusion_matrix_demo_project\"\n",
    "\n",
    "# Configure the following dictionary so that is will match pairs of ground truth and\n",
    "# predicted object classes for which the confusion matrix will be caluclated.\n",
    "classes_mapping = {\n",
    "    \"bike\": \"motorbike_pred\",\n",
    "    \"dog\": \"dog_pred\",\n",
    "    \"person\": \"person_pred\",\n",
    "}\n",
    "\n",
    "# Minimum intersection over uinon value for which to overlapping objects will be\n",
    "# considered to have matched. Increase to only take close matches into account;\n",
    "# decrease to also consider less significant overlaps.\n",
    "iou_threshold = 0.5\n",
    "\n",
    "# If you are running this notebook on a Supervisely web instance, the connection\n",
    "# Edit those values if you run this notebook on your own PC\n",
    "# details below will be filled in from environment variables automatically.\n",
    "#\n",
    "# If you are running this notebook locally on your own machine, edit to fill in the\n",
    "# connection details manually. You can find your access token at\n",
    "# \"Your name on the top right\" -> \"Account settings\" -> \"API token\".\n",
    "address = os.environ['SERVER_ADDRESS']\n",
    "token = os.environ['API_TOKEN']"
   ]
  },
  {
   "cell_type": "markdown",
   "metadata": {},
   "source": [
    "## Script setup\n",
    "\n",
    "Initialize Supervisely API to remotely manage your projects"
   ]
  },
  {
   "cell_type": "code",
   "execution_count": 3,
   "metadata": {},
   "outputs": [],
   "source": [
    "# Initialize API object\n",
    "api = sly.Api(address, token)"
   ]
  },
  {
   "cell_type": "markdown",
   "metadata": {},
   "source": [
    "## Verify input values\n",
    "\n",
    "Test that context (team / workspace / project) exists"
   ]
  },
  {
   "cell_type": "code",
   "execution_count": 4,
   "metadata": {},
   "outputs": [
    {
     "name": "stdout",
     "output_type": "stream",
     "text": [
      "Team: id=3, name=jupyter_tutorials\n",
      "Workspace: id=10, name=metrics_tutorials\n",
      "Project: id=401, name=confusion_matrix_demo_project\n"
     ]
    }
   ],
   "source": [
    "team = api.team.get_info_by_name(team_name)\n",
    "if team is None:\n",
    "    raise RuntimeError(\"Team {!r} not found\".format(team_name))\n",
    "\n",
    "workspace = api.workspace.get_info_by_name(team.id, workspace_name)\n",
    "if workspace is None:\n",
    "    raise RuntimeError(\"Workspace {!r} not found\".format(workspace_name))\n",
    "    \n",
    "project = api.project.get_info_by_name(workspace.id, project_name)\n",
    "if project is None:\n",
    "    raise RuntimeError(\"Project {!r} not found\".format(project_name))\n",
    "    \n",
    "print(\"Team: id={}, name={}\".format(team.id, team.name))\n",
    "print(\"Workspace: id={}, name={}\".format(workspace.id, workspace.name))\n",
    "print(\"Project: id={}, name={}\".format(project.id, project.name))"
   ]
  },
  {
   "cell_type": "markdown",
   "metadata": {},
   "source": [
    "## Get source project meta\n",
    "\n",
    "Project meta contains information about classes and tags."
   ]
  },
  {
   "cell_type": "code",
   "execution_count": 5,
   "metadata": {},
   "outputs": [],
   "source": [
    "meta_json = api.project.get_meta(project.id)\n",
    "meta = sly.ProjectMeta.from_json(meta_json)\n",
    "\n",
    "# check that all classes exist\n",
    "project_classes_names = list(classes_mapping.keys()) + list(classes_mapping.values())\n",
    "\n",
    "for class_name in project_classes_names:\n",
    "    if not meta.obj_classes.has_key(class_name):\n",
    "        raise RuntimeError(\"Class {!r} not found in source project {!r}\".format(class_name, project.name))"
   ]
  },
  {
   "cell_type": "markdown",
   "metadata": {},
   "source": [
    "## Create metric evaluator"
   ]
  },
  {
   "cell_type": "code",
   "execution_count": 6,
   "metadata": {},
   "outputs": [],
   "source": [
    "confusion_matrix_evaluator = sly.ConfusionMatrixMetric(classes_mapping, iou_threshold)"
   ]
  },
  {
   "cell_type": "markdown",
   "metadata": {},
   "source": [
    "## Iterate over all images, and calculate metric by annotations pairs"
   ]
  },
  {
   "cell_type": "code",
   "execution_count": 7,
   "metadata": {},
   "outputs": [
    {
     "name": "stdout",
     "output_type": "stream",
     "text": [
      "Processing: project = 'confusion_matrix_demo_project', dataset = 'dataset_02'\n"
     ]
    },
    {
     "name": "stderr",
     "output_type": "stream",
     "text": [
      "Process annotations: 100%|██████████| 2/2 [00:00<00:00, 42.69it/s]"
     ]
    },
    {
     "name": "stdout",
     "output_type": "stream",
     "text": [
      "Processing: project = 'confusion_matrix_demo_project', dataset = 'dataset_01'\n"
     ]
    },
    {
     "name": "stderr",
     "output_type": "stream",
     "text": [
      "\n",
      "Process annotations: 100%|██████████| 3/3 [00:00<00:00, 21.75it/s]\n"
     ]
    }
   ],
   "source": [
    "for dataset in api.dataset.get_list(project.id):\n",
    "    \n",
    "    # generate dataset name in destination project if it exists\n",
    "    print(\"Processing: project = {!r}, dataset = {!r}\".format(project.name, dataset.name), flush=True)\n",
    "    \n",
    "    images = api.image.get_list(dataset.id)\n",
    "    with tqdm(total=len(images), desc=\"Process annotations\") as progress_bar:\n",
    "        for batch in sly.batched(images):\n",
    "            image_ids = [image_info.id for image_info in batch]\n",
    "            ann_infos = api.annotation.download_batch(dataset.id, image_ids)\n",
    "            \n",
    "            for ann_info in ann_infos:\n",
    "                ann = sly.Annotation.from_json(ann_info.annotation, meta)\n",
    "                # We are using the same annotation on the both side of the metric computation\n",
    "                # (classes_mapping provides the corresponding classes that we will look for\n",
    "                # in the annotation), but it is also possible to use different annotations\n",
    "                # on left and right, e.g. to compare the source hand-labeled project to a\n",
    "                # neural netork inference result.\n",
    "                confusion_matrix_evaluator.add_pair(ann, ann)\n",
    "            \n",
    "            progress_bar.update(len(batch))"
   ]
  },
  {
   "cell_type": "markdown",
   "metadata": {},
   "source": [
    "## Print results with default logger\n",
    "\n",
    "The results are logged with the default Supervisely logger, so that the same code can be used in any custom plugin, and the log output would be nicely formatted in the task log."
   ]
  },
  {
   "cell_type": "code",
   "execution_count": 8,
   "metadata": {},
   "outputs": [
    {
     "name": "stderr",
     "output_type": "stream",
     "text": [
      "{\"message\": \"                                                                                \", \"timestamp\": \"2019-04-24T14:14:34.537Z\", \"level\": \"info\"}\n",
      "{\"message\": \"***************** Result metrics values for 0.5 IoU threshold ******************\", \"timestamp\": \"2019-04-24T14:14:34.538Z\", \"level\": \"info\"}\n",
      "{\"message\": \"******************************* Confusion matrix *******************************\", \"timestamp\": \"2019-04-24T14:14:34.539Z\", \"level\": \"info\"}\n",
      "{\"message\": \"                       motorbike_pred         dog_pred          person_pred       False Negatives   \", \"timestamp\": \"2019-04-24T14:14:34.542Z\", \"level\": \"info\"}\n",
      "{\"message\": \"        bike                 2                   0                   0                   1          \", \"timestamp\": \"2019-04-24T14:14:34.544Z\", \"level\": \"info\"}\n",
      "{\"message\": \"                                                                                \", \"timestamp\": \"2019-04-24T14:14:34.545Z\", \"level\": \"info\"}\n",
      "{\"message\": \"        dog                  0                   1                   0                   0          \", \"timestamp\": \"2019-04-24T14:14:34.547Z\", \"level\": \"info\"}\n",
      "{\"message\": \"                                                                                \", \"timestamp\": \"2019-04-24T14:14:34.548Z\", \"level\": \"info\"}\n",
      "{\"message\": \"       person                0                   0                   4                   2          \", \"timestamp\": \"2019-04-24T14:14:34.549Z\", \"level\": \"info\"}\n",
      "{\"message\": \"                                                                                \", \"timestamp\": \"2019-04-24T14:14:34.550Z\", \"level\": \"info\"}\n",
      "{\"message\": \"  False Positives            0                   0                   3                   0          \", \"timestamp\": \"2019-04-24T14:14:34.551Z\", \"level\": \"info\"}\n",
      "{\"message\": \"                                                                                \", \"timestamp\": \"2019-04-24T14:14:34.551Z\", \"level\": \"info\"}\n"
     ]
    }
   ],
   "source": [
    "confusion_matrix_evaluator.log_total_metrics()"
   ]
  },
  {
   "cell_type": "markdown",
   "metadata": {},
   "source": [
    "## Print results manually"
   ]
  },
  {
   "cell_type": "code",
   "execution_count": 9,
   "metadata": {},
   "outputs": [],
   "source": [
    "# Metrics for each pair of classes separately.\n",
    "results = confusion_matrix_evaluator.get_metrics()\n",
    "\n",
    "def plot_confusion_matrix(confusion_matrix, gt_classes, pred_classes, cmap=plt.cm.Blues):\n",
    "    plt.figure(figsize=(10, 10))\n",
    "    plt.imshow(confusion_matrix, interpolation='nearest', cmap=cmap)\n",
    "    plt.title('Confusion matrix')\n",
    "    plt.colorbar()\n",
    "    tick_marks = np.arange(len(gt_classes))\n",
    "    plt.xticks(tick_marks, pred_classes, rotation=45)\n",
    "    plt.yticks(tick_marks, gt_classes)\n",
    "\n",
    "    color_thresh = confusion_matrix.max() / 2.\n",
    "    for gt_idx, pred_idx in itertools.product(range(confusion_matrix.shape[0]),\n",
    "                                              range(confusion_matrix.shape[1])):\n",
    "        num_matches = confusion_matrix[gt_idx, pred_idx]\n",
    "        plt.text(pred_idx, gt_idx, format(num_matches, 'd'),\n",
    "                 horizontalalignment=\"center\",\n",
    "                 color=\"white\" if num_matches > color_thresh else \"black\")\n",
    "\n",
    "    plt.ylabel('True classes')\n",
    "    plt.xlabel('Predicted classes')\n",
    "    plt.tight_layout()\n",
    "\n",
    "num_classes = len(classes_mapping)\n",
    "conf_mat = np.zeros((num_classes + 1, num_classes + 1), dtype=np.int32)\n",
    "\n",
    "sorted_gt_names = sorted(classes_mapping.keys())\n",
    "ordered_pred_names = [classes_mapping[gt_name] for gt_name in sorted_gt_names]\n",
    "\n",
    "for gt_idx, gt_class in enumerate(sorted_gt_names):\n",
    "    for pred_idx, pred_class in enumerate(ordered_pred_names):\n",
    "        conf_mat[gt_idx, pred_idx] = results[CONFUSION_MATRIX][(gt_class, pred_class)]\n",
    "        conf_mat[gt_idx, num_classes] = results[UNMATCHED_GT][gt_class]\n",
    "        conf_mat[num_classes, pred_idx] = results[UNMATCHED_PREDICTIONS][pred_class]\n",
    "        \n",
    "gt_classes = sorted_gt_names + ['False Positives']\n",
    "pred_classes  = ordered_pred_names + ['False Negatives']"
   ]
  },
  {
   "cell_type": "code",
   "execution_count": 10,
   "metadata": {},
   "outputs": [
    {
     "data": {
      "image/png": "[encoded data removed]",
      "text/plain": [
       "<Figure size 720x720 with 2 Axes>"
      ]
     },
     "metadata": {
      "needs_background": "light"
     },
     "output_type": "display_data"
    }
   ],
   "source": [
    "plot_confusion_matrix(conf_mat, gt_classes, pred_classes)"
   ]
  },
  {
   "cell_type": "markdown",
   "metadata": {},
   "source": [
    "# Done!"
   ]
  },
  {
   "cell_type": "code",
   "execution_count": null,
   "metadata": {},
   "outputs": [],
   "source": []
  }
 ],
 "metadata": {
  "kernelspec": {
   "display_name": "Python 3",
   "language": "python",
   "name": "python3"
  },
  "language_info": {
   "codemirror_mode": {
    "name": "ipython",
    "version": 3
   },
   "file_extension": ".py",
   "mimetype": "text/x-python",
   "name": "python",
   "nbconvert_exporter": "python",
   "pygments_lexer": "ipython3",
   "version": "3.6.5"
  }
 },
 "nbformat": 4,
 "nbformat_minor": 2
}
