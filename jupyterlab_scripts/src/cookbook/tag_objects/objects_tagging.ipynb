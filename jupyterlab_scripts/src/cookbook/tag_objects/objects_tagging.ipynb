{
 "cells": [
  {
   "cell_type": "markdown",
   "metadata": {},
   "source": [
    "# Train-validation tagging\n",
    "\n",
    "This notebook shows how to split a training dataset into train and validation folds using tags.\n",
    "\n",
    "**Input**:\n",
    "- Source project.\n",
    "\n",
    "**Output**:\n",
    "- New project with bitmap and polygon objects tagged by `area` tag with their respective area in pixels."
   ]
  },
  {
   "cell_type": "markdown",
   "metadata": {},
   "source": [
    "## Configuration\n",
    "\n",
    "Edit the following settings for your own case"
   ]
  },
  {
   "cell_type": "code",
   "execution_count": 1,
   "metadata": {},
   "outputs": [],
   "source": [
    "import supervisely_lib as sly\n",
    "from tqdm import tqdm\n",
    "import random\n",
    "import os"
   ]
  },
  {
   "cell_type": "code",
   "execution_count": 2,
   "metadata": {},
   "outputs": [],
   "source": [
    "team_name = \"jupyter_tutorials\"\n",
    "workspace_name = \"cookbook\"\n",
    "project_name = \"tutorial_project\"\n",
    "\n",
    "dst_project_name = \"tutorial_project_tagged\"\n",
    "\n",
    "area_tag_meta = sly.TagMeta('area', sly.TagValueType.ANY_NUMBER)\n",
    "\n",
    "# Obtain server address and your api_token from environment variables\n",
    "# Edit those values if you run this notebook on your own PC\n",
    "address = os.environ['SERVER_ADDRESS']\n",
    "token = os.environ['API_TOKEN']"
   ]
  },
  {
   "cell_type": "code",
   "execution_count": 3,
   "metadata": {},
   "outputs": [],
   "source": [
    "# Initialize API object\n",
    "api = sly.Api(address, token)"
   ]
  },
  {
   "cell_type": "markdown",
   "metadata": {},
   "source": [
    "## Verify input values\n",
    "\n",
    "Test that context (team / workspace / project) exists"
   ]
  },
  {
   "cell_type": "code",
   "execution_count": 4,
   "metadata": {},
   "outputs": [
    {
     "name": "stdout",
     "output_type": "stream",
     "text": [
      "Team: id=5, name=jupyter_tutorials\n",
      "Workspace: id=8, name=cookbook\n",
      "Project: id=711, name=tutorial_project\n"
     ]
    }
   ],
   "source": [
    "# Get IDs of team, workspace and project by names\n",
    "\n",
    "team = api.team.get_info_by_name(team_name)\n",
    "if team is None:\n",
    "    raise RuntimeError(\"Team {!r} not found\".format(team_name))\n",
    "\n",
    "workspace = api.workspace.get_info_by_name(team.id, workspace_name)\n",
    "if workspace is None:\n",
    "    raise RuntimeError(\"Workspace {!r} not found\".format(workspace_name))\n",
    "    \n",
    "project = api.project.get_info_by_name(workspace.id, project_name)\n",
    "if project is None:\n",
    "    raise RuntimeError(\"Project {!r} not found\".format(project_name))\n",
    "    \n",
    "print(\"Team: id={}, name={}\".format(team.id, team.name))\n",
    "print(\"Workspace: id={}, name={}\".format(workspace.id, workspace.name))\n",
    "print(\"Project: id={}, name={}\".format(project.id, project.name))"
   ]
  },
  {
   "cell_type": "markdown",
   "metadata": {},
   "source": [
    "## Get Source ProjectMeta"
   ]
  },
  {
   "cell_type": "code",
   "execution_count": 5,
   "metadata": {},
   "outputs": [
    {
     "name": "stdout",
     "output_type": "stream",
     "text": [
      "Source ProjectMeta: \n",
      " ProjectMeta:\n",
      "Object Classes\n",
      "+--------+-----------+----------------+\n",
      "|  Name  |   Shape   |     Color      |\n",
      "+--------+-----------+----------------+\n",
      "|  bike  | Rectangle | [246, 255, 0]  |\n",
      "|  car   |  Polygon  | [190, 85, 206] |\n",
      "|  dog   |  Polygon  |  [253, 0, 0]   |\n",
      "| person |   Bitmap  |  [0, 255, 18]  |\n",
      "+--------+-----------+----------------+\n",
      "Tags\n",
      "+---------------+--------------+-----------------------+\n",
      "|      Name     |  Value type  |    Possible values    |\n",
      "+---------------+--------------+-----------------------+\n",
      "|   car_color   |  any_string  |          None         |\n",
      "|  cars_number  |  any_number  |          None         |\n",
      "|      like     |     none     |          None         |\n",
      "| person_gender | oneof_string |   ['male', 'female']  |\n",
      "|    situated   | oneof_string | ['inside', 'outside'] |\n",
      "|  vehicle_age  | oneof_string | ['modern', 'vintage'] |\n",
      "+---------------+--------------+-----------------------+\n",
      "\n"
     ]
    }
   ],
   "source": [
    "meta_json = api.project.get_meta(project.id)\n",
    "meta = sly.ProjectMeta.from_json(meta_json)\n",
    "print(\"Source ProjectMeta: \\n\", meta)"
   ]
  },
  {
   "cell_type": "markdown",
   "metadata": {},
   "source": [
    "## Construct Destination ProjectMeta"
   ]
  },
  {
   "cell_type": "code",
   "execution_count": 6,
   "metadata": {},
   "outputs": [
    {
     "name": "stdout",
     "output_type": "stream",
     "text": [
      "Destination ProjectMeta:\n",
      " ProjectMeta:\n",
      "Object Classes\n",
      "+--------+-----------+----------------+\n",
      "|  Name  |   Shape   |     Color      |\n",
      "+--------+-----------+----------------+\n",
      "|  bike  | Rectangle | [246, 255, 0]  |\n",
      "|  car   |  Polygon  | [190, 85, 206] |\n",
      "|  dog   |  Polygon  |  [253, 0, 0]   |\n",
      "| person |   Bitmap  |  [0, 255, 18]  |\n",
      "+--------+-----------+----------------+\n",
      "Tags\n",
      "+---------------+--------------+-----------------------+\n",
      "|      Name     |  Value type  |    Possible values    |\n",
      "+---------------+--------------+-----------------------+\n",
      "|   car_color   |  any_string  |          None         |\n",
      "|  cars_number  |  any_number  |          None         |\n",
      "|      like     |     none     |          None         |\n",
      "| person_gender | oneof_string |   ['male', 'female']  |\n",
      "|    situated   | oneof_string | ['inside', 'outside'] |\n",
      "|  vehicle_age  | oneof_string | ['modern', 'vintage'] |\n",
      "|      area     |  any_number  |          None         |\n",
      "+---------------+--------------+-----------------------+\n",
      "\n"
     ]
    }
   ],
   "source": [
    "dst_meta = meta.add_tag_meta(area_tag_meta)\n",
    "print(\"Destination ProjectMeta:\\n\", dst_meta)"
   ]
  },
  {
   "cell_type": "markdown",
   "metadata": {},
   "source": [
    "## Create Destination project"
   ]
  },
  {
   "cell_type": "code",
   "execution_count": 7,
   "metadata": {},
   "outputs": [
    {
     "name": "stdout",
     "output_type": "stream",
     "text": [
      "Destination project name:  tutorial_project_tagged\n"
     ]
    }
   ],
   "source": [
    "# check if destination project already exists. If yes - generate new free name\n",
    "if api.project.exists(workspace.id, dst_project_name):\n",
    "    dst_project_name = api.project.get_free_name(workspace.id, dst_project_name)\n",
    "print(\"Destination project name: \", dst_project_name)"
   ]
  },
  {
   "cell_type": "code",
   "execution_count": 8,
   "metadata": {},
   "outputs": [
    {
     "name": "stdout",
     "output_type": "stream",
     "text": [
      "Destination project has been created: id=713, name='tutorial_project_tagged'\n"
     ]
    }
   ],
   "source": [
    "dst_project = api.project.create(workspace.id, dst_project_name)\n",
    "api.project.update_meta(dst_project.id, dst_meta.to_json())\n",
    "print(\"Destination project has been created: id={}, name={!r}\".format(dst_project.id, dst_project.name))"
   ]
  },
  {
   "cell_type": "markdown",
   "metadata": {},
   "source": [
    "## Iterate over all images, tag them and add to destination project"
   ]
  },
  {
   "cell_type": "code",
   "execution_count": 9,
   "metadata": {},
   "outputs": [
    {
     "name": "stdout",
     "output_type": "stream",
     "text": [
      "Dataset: dataset_01\n"
     ]
    },
    {
     "name": "stderr",
     "output_type": "stream",
     "text": [
      "Process annotations: 100%|██████████| 3/3 [00:00<00:00, 14.31it/s]"
     ]
    },
    {
     "name": "stdout",
     "output_type": "stream",
     "text": [
      "Dataset: dataset_02\n"
     ]
    },
    {
     "name": "stderr",
     "output_type": "stream",
     "text": [
      "\n",
      "Process annotations: 100%|██████████| 2/2 [00:00<00:00, 13.23it/s]\n"
     ]
    }
   ],
   "source": [
    "for dataset in api.dataset.get_list(project.id):\n",
    "    print('Dataset: {}'.format(dataset.name), flush=True)\n",
    "    dst_dataset = api.dataset.create(dst_project.id, dataset.name)\n",
    "    \n",
    "    images = api.image.get_list(dataset.id)\n",
    "    with tqdm(total=len(images), desc=\"Process annotations\") as progress_bar:\n",
    "        for batch in sly.batched(images):\n",
    "            image_ids = [image_info.id for image_info in batch]\n",
    "            image_names = [image_info.name for image_info in batch]\n",
    "            \n",
    "            ann_infos = api.annotation.download_batch(dataset.id, image_ids)\n",
    "\n",
    "            anns_to_upload = []\n",
    "            for ann_info in ann_infos:\n",
    "                ann = sly.Annotation.from_json(ann_info.annotation, meta)\n",
    "\n",
    "                tagged_labels = []\n",
    "                for label in ann.labels:\n",
    "                    if label.obj_class.geometry_type in (sly.Bitmap, sly.Polygon):\n",
    "                        area_tag = sly.Tag(area_tag_meta, value=label.area)\n",
    "                        label = label.add_tag(area_tag)\n",
    "                    tagged_labels.append(label)\n",
    "                ann = ann.clone(labels=tagged_labels)\n",
    "                anns_to_upload.append(ann)\n",
    "            \n",
    "            dst_image_infos = api.image.upload_ids(dst_dataset.id, image_names, image_ids)\n",
    "            dst_image_ids = [image_info.id for image_info in dst_image_infos]\n",
    "            api.annotation.upload_anns(dst_image_ids, anns_to_upload)\n",
    "            progress_bar.update(len(batch))"
   ]
  },
  {
   "cell_type": "code",
   "execution_count": 10,
   "metadata": {},
   "outputs": [
    {
     "name": "stdout",
     "output_type": "stream",
     "text": [
      "Project 'tutorial_project_tagged' has been sucessfully uploaded\n",
      "Number of images:  5\n"
     ]
    }
   ],
   "source": [
    "print(\"Project {!r} has been sucessfully uploaded\".format(dst_project.name))\n",
    "print(\"Number of images: \", api.project.get_images_count(dst_project.id))"
   ]
  },
  {
   "cell_type": "code",
   "execution_count": null,
   "metadata": {},
   "outputs": [],
   "source": []
  }
 ],
 "metadata": {
  "kernelspec": {
   "display_name": "Python 3",
   "language": "python",
   "name": "python3"
  },
  "language_info": {
   "codemirror_mode": {
    "name": "ipython",
    "version": 3
   },
   "file_extension": ".py",
   "mimetype": "text/x-python",
   "name": "python",
   "nbconvert_exporter": "python",
   "pygments_lexer": "ipython3",
   "version": "3.6.5"
  }
 },
 "nbformat": 4,
 "nbformat_minor": 2
}
