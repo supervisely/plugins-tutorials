{
 "cells": [
  {
   "cell_type": "markdown",
   "metadata": {},
   "source": [
    "## Tags Distribution\n",
    "\n",
    "This notebook plots distribution of image tags for a given project.\n",
    "\n",
    "**Input**:\n",
    "- Source project\n",
    "\n",
    "**Output**:\n",
    "- Tag distribution plot"
   ]
  },
  {
   "cell_type": "markdown",
   "metadata": {},
   "source": [
    "## Configuration\n",
    "\n",
    "Edit the following settings for your own case"
   ]
  },
  {
   "cell_type": "code",
   "execution_count": 1,
   "metadata": {},
   "outputs": [],
   "source": [
    "%matplotlib inline"
   ]
  },
  {
   "cell_type": "code",
   "execution_count": 2,
   "metadata": {},
   "outputs": [],
   "source": [
    "import supervisely_lib as sly\n",
    "import os\n",
    "from tqdm import tqdm\n",
    "from collections import defaultdict\n",
    "import matplotlib.pyplot as plt\n",
    "import seaborn as sns\n",
    "sns.set(color_codes=True)"
   ]
  },
  {
   "cell_type": "code",
   "execution_count": 3,
   "metadata": {},
   "outputs": [],
   "source": [
    "team_name = \"jupyter_tutorials\"\n",
    "workspace_name = \"cookbook\"\n",
    "project_name = \"lemons_annotated_01\"\n",
    "\n",
    "# Obtain server address and your api_token from environment variables\n",
    "# Edit those values if you run this notebook on your own PC\n",
    "address = os.environ['SERVER_ADDRESS']\n",
    "token = os.environ['API_TOKEN']"
   ]
  },
  {
   "cell_type": "code",
   "execution_count": 4,
   "metadata": {},
   "outputs": [],
   "source": [
    "# Initialize API object\n",
    "api = sly.Api(address, token)"
   ]
  },
  {
   "cell_type": "markdown",
   "metadata": {},
   "source": [
    "## Verify input values\n",
    "\n",
    "Test that context (team / workspace / project) exists"
   ]
  },
  {
   "cell_type": "code",
   "execution_count": 5,
   "metadata": {},
   "outputs": [
    {
     "name": "stdout",
     "output_type": "stream",
     "text": [
      "Team: id=30, name=jupyter_tutorials\n",
      "Workspace: id=76, name=cookbook\n",
      "Project: id=1294, name=lemons_annotated_01\n"
     ]
    }
   ],
   "source": [
    "# Get IDs of team, workspace and project by names\n",
    "\n",
    "team = api.team.get_info_by_name(team_name)\n",
    "if team is None:\n",
    "    raise RuntimeError(\"Team {!r} not found\".format(team_name))\n",
    "\n",
    "workspace = api.workspace.get_info_by_name(team.id, workspace_name)\n",
    "if workspace is None:\n",
    "    raise RuntimeError(\"Workspace {!r} not found\".format(workspace_name))\n",
    "    \n",
    "project = api.project.get_info_by_name(workspace.id, project_name)\n",
    "if project is None:\n",
    "    raise RuntimeError(\"Project {!r} not found\".format(project_name))\n",
    "    \n",
    "print(\"Team: id={}, name={}\".format(team.id, team.name))\n",
    "print(\"Workspace: id={}, name={}\".format(workspace.id, workspace.name))\n",
    "print(\"Project: id={}, name={}\".format(project.id, project.name))"
   ]
  },
  {
   "cell_type": "markdown",
   "metadata": {},
   "source": [
    "## Get Source ProjectMeta"
   ]
  },
  {
   "cell_type": "code",
   "execution_count": 6,
   "metadata": {},
   "outputs": [
    {
     "name": "stdout",
     "output_type": "stream",
     "text": [
      "Source ProjectMeta: \n",
      " ProjectMeta:\n",
      "Object Classes\n",
      "+-------+--------+----------------+\n",
      "|  Name | Shape  |     Color      |\n",
      "+-------+--------+----------------+\n",
      "|  kiwi | Bitmap |  [255, 0, 0]   |\n",
      "| lemon | Bitmap | [81, 198, 170] |\n",
      "+-------+--------+----------------+\n",
      "Image Tags\n",
      "+-------+------------+-----------------+\n",
      "|  Name | Value type | Possible values |\n",
      "+-------+------------+-----------------+\n",
      "| train |    none    |       None      |\n",
      "|  val  |    none    |       None      |\n",
      "+-------+------------+-----------------+\n",
      "Object Tags\n",
      "+------+------------+-----------------+\n",
      "| Name | Value type | Possible values |\n",
      "+------+------------+-----------------+\n",
      "+------+------------+-----------------+\n",
      "\n"
     ]
    }
   ],
   "source": [
    "meta_json = api.project.get_meta(project.id)\n",
    "meta = sly.ProjectMeta.from_json(meta_json)\n",
    "print(\"Source ProjectMeta: \\n\", meta)"
   ]
  },
  {
   "cell_type": "code",
   "execution_count": 7,
   "metadata": {},
   "outputs": [
    {
     "name": "stdout",
     "output_type": "stream",
     "text": [
      "Dataset: ds1\n"
     ]
    },
    {
     "name": "stderr",
     "output_type": "stream",
     "text": [
      "Process annotations: 100%|██████████| 6/6 [00:00<00:00, 151.76it/s]\n"
     ]
    }
   ],
   "source": [
    "tags_counter = defaultdict(int)\n",
    "tags_counter_raw_json = defaultdict(int)\n",
    "\n",
    "for dataset in api.dataset.get_list(project.id):\n",
    "    print('Dataset: {}'.format(dataset.name), flush=True)\n",
    "    images = api.image.get_list(dataset.id)\n",
    "    \n",
    "    with tqdm(total=len(images), desc=\"Process annotations\") as progress_bar:\n",
    "        for batch in sly.batched(images):\n",
    "            image_ids = [image_info.id for image_info in batch]\n",
    "            \n",
    "            ann_infos = api.annotation.download_batch(dataset.id, image_ids)\n",
    "            for ann_info in ann_infos:\n",
    "                ann_json = ann_info.annotation\n",
    "                ann = sly.Annotation.from_json(ann_json, meta)\n",
    "                \n",
    "                # count tags using SDK\n",
    "                for tag in ann.img_tags:\n",
    "                    tags_counter[tag.meta.name] += 1 \n",
    "\n",
    "                # count tags using raw JSON annotation\n",
    "                for tag in ann_json[\"tags\"]:\n",
    "                    name = tag if (type(tag) is str) else tag[\"name\"]\n",
    "                    tags_counter_raw_json[name] += 1 \n",
    "                \n",
    "            progress_bar.update(len(batch))"
   ]
  },
  {
   "cell_type": "markdown",
   "metadata": {},
   "source": [
    "## Distribution (using SDK)"
   ]
  },
  {
   "cell_type": "code",
   "execution_count": 8,
   "metadata": {},
   "outputs": [
    {
     "name": "stdout",
     "output_type": "stream",
     "text": [
      "[('train', 4), ('val', 2)]\n"
     ]
    },
    {
     "data": {
      "image/png": "[encoded data removed]",
      "text/plain": [
       "<Figure size 432x288 with 1 Axes>"
      ]
     },
     "metadata": {},
     "output_type": "display_data"
    }
   ],
   "source": [
    "sorted_list = sorted(tags_counter.items(), key=lambda kv: kv[1], reverse=True)\n",
    "print(sorted_list)\n",
    "x = [item[0] for item in sorted_list]\n",
    "y = [item[1] for item in sorted_list]\n",
    "ax = sns.barplot(x=x, y=y)"
   ]
  },
  {
   "cell_type": "markdown",
   "metadata": {},
   "source": [
    "## Distribution (using raw JSON data - for debug purposes)"
   ]
  },
  {
   "cell_type": "code",
   "execution_count": 9,
   "metadata": {},
   "outputs": [
    {
     "name": "stdout",
     "output_type": "stream",
     "text": [
      "[('train', 4), ('val', 2)]\n"
     ]
    },
    {
     "data": {
      "image/png": "[encoded data removed]",
      "text/plain": [
       "<Figure size 432x288 with 1 Axes>"
      ]
     },
     "metadata": {},
     "output_type": "display_data"
    }
   ],
   "source": [
    "sorted_list = sorted(tags_counter_raw_json.items(), key=lambda kv: kv[1], reverse=True)\n",
    "print(sorted_list)\n",
    "x = [item[0] for item in sorted_list]\n",
    "y = [item[1] for item in sorted_list]\n",
    "ax = sns.barplot(x=x, y=y)"
   ]
  },
  {
   "cell_type": "markdown",
   "metadata": {},
   "source": [
    "# Done!"
   ]
  }
 ],
 "metadata": {
  "kernelspec": {
   "display_name": "Python 3",
   "language": "python",
   "name": "python3"
  },
  "language_info": {
   "codemirror_mode": {
    "name": "ipython",
    "version": 3
   },
   "file_extension": ".py",
   "mimetype": "text/x-python",
   "name": "python",
   "nbconvert_exporter": "python",
   "pygments_lexer": "ipython3",
   "version": "3.6.5"
  }
 },
 "nbformat": 4,
 "nbformat_minor": 2
}
