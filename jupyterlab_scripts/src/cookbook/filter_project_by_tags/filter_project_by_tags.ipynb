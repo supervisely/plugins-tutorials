{
 "cells": [
  {
   "cell_type": "markdown",
   "metadata": {},
   "source": [
    "# Filter project by tags\n",
    "\n",
    "Notebook creates new project with only the images from the source project that contain given tags\n",
    "\n",
    "**Input**:\n",
    "- Source project\n",
    "- Set of tags\n",
    "\n",
    "**Output**:\n",
    "- New project with images that contain given tags"
   ]
  },
  {
   "cell_type": "markdown",
   "metadata": {},
   "source": [
    "## Configuration\n",
    "\n",
    "Edit the following settings for your own case"
   ]
  },
  {
   "cell_type": "code",
   "execution_count": 1,
   "metadata": {},
   "outputs": [],
   "source": [
    "import supervisely_lib as sly\n",
    "import os\n",
    "from tqdm import tqdm"
   ]
  },
  {
   "cell_type": "code",
   "execution_count": 2,
   "metadata": {},
   "outputs": [],
   "source": [
    "team_name = \"jupyter_tutorials\"\n",
    "workspace_name = \"cookbook\"\n",
    "project_name = \"lemons_annotated_01\"\n",
    "\n",
    "dst_project_name = \"lemons_annotated_01_filtered\"\n",
    "\n",
    "filter_tag_names = {'train', 'tag_name1', 'tag_name2'}\n",
    "\n",
    "# Obtain server address and your api_token from environment variables\n",
    "# Edit those values if you run this notebook on your own PC\n",
    "address = os.environ['SERVER_ADDRESS']\n",
    "token = os.environ['API_TOKEN']"
   ]
  },
  {
   "cell_type": "code",
   "execution_count": 3,
   "metadata": {},
   "outputs": [],
   "source": [
    "# Initialize API object\n",
    "api = sly.Api(address, token)"
   ]
  },
  {
   "cell_type": "markdown",
   "metadata": {},
   "source": [
    "## Verify input values\n",
    "\n",
    "Test that context (team / workspace / project) exists"
   ]
  },
  {
   "cell_type": "code",
   "execution_count": 4,
   "metadata": {},
   "outputs": [
    {
     "name": "stdout",
     "output_type": "stream",
     "text": [
      "Team: id=30, name=jupyter_tutorials\n",
      "Workspace: id=76, name=cookbook\n",
      "Project: id=1294, name=lemons_annotated_01\n"
     ]
    }
   ],
   "source": [
    "# Get IDs of team, workspace and project by names\n",
    "\n",
    "team = api.team.get_info_by_name(team_name)\n",
    "if team is None:\n",
    "    raise RuntimeError(\"Team {!r} not found\".format(team_name))\n",
    "\n",
    "workspace = api.workspace.get_info_by_name(team.id, workspace_name)\n",
    "if workspace is None:\n",
    "    raise RuntimeError(\"Workspace {!r} not found\".format(workspace_name))\n",
    "    \n",
    "project = api.project.get_info_by_name(workspace.id, project_name)\n",
    "if project is None:\n",
    "    raise RuntimeError(\"Project {!r} not found\".format(project_name))\n",
    "    \n",
    "print(\"Team: id={}, name={}\".format(team.id, team.name))\n",
    "print(\"Workspace: id={}, name={}\".format(workspace.id, workspace.name))\n",
    "print(\"Project: id={}, name={}\".format(project.id, project.name))"
   ]
  },
  {
   "cell_type": "markdown",
   "metadata": {},
   "source": [
    "## Get Source ProjectMeta"
   ]
  },
  {
   "cell_type": "code",
   "execution_count": 5,
   "metadata": {},
   "outputs": [
    {
     "name": "stdout",
     "output_type": "stream",
     "text": [
      "Source ProjectMeta: \n",
      " ProjectMeta:\n",
      "Object Classes\n",
      "+-------+--------+----------------+\n",
      "|  Name | Shape  |     Color      |\n",
      "+-------+--------+----------------+\n",
      "|  kiwi | Bitmap |  [255, 0, 0]   |\n",
      "| lemon | Bitmap | [81, 198, 170] |\n",
      "+-------+--------+----------------+\n",
      "Image Tags\n",
      "+-------+------------+-----------------+\n",
      "|  Name | Value type | Possible values |\n",
      "+-------+------------+-----------------+\n",
      "| train |    none    |       None      |\n",
      "|  val  |    none    |       None      |\n",
      "+-------+------------+-----------------+\n",
      "Object Tags\n",
      "+------+------------+-----------------+\n",
      "| Name | Value type | Possible values |\n",
      "+------+------------+-----------------+\n",
      "+------+------------+-----------------+\n",
      "\n"
     ]
    }
   ],
   "source": [
    "project = api.project.get_info_by_name(workspace.id, project_name)\n",
    "meta_json = api.project.get_meta(project.id)\n",
    "meta = sly.ProjectMeta.from_json(meta_json)\n",
    "print(\"Source ProjectMeta: \\n\", meta)"
   ]
  },
  {
   "cell_type": "markdown",
   "metadata": {},
   "source": [
    "## Construct Destination ProjectMeta"
   ]
  },
  {
   "cell_type": "code",
   "execution_count": 6,
   "metadata": {},
   "outputs": [
    {
     "name": "stdout",
     "output_type": "stream",
     "text": [
      "Destination ProjectMeta:\n",
      " ProjectMeta:\n",
      "Object Classes\n",
      "+-------+--------+----------------+\n",
      "|  Name | Shape  |     Color      |\n",
      "+-------+--------+----------------+\n",
      "|  kiwi | Bitmap |  [255, 0, 0]   |\n",
      "| lemon | Bitmap | [81, 198, 170] |\n",
      "+-------+--------+----------------+\n",
      "Image Tags\n",
      "+-------+------------+-----------------+\n",
      "|  Name | Value type | Possible values |\n",
      "+-------+------------+-----------------+\n",
      "| train |    none    |       None      |\n",
      "|  val  |    none    |       None      |\n",
      "+-------+------------+-----------------+\n",
      "Object Tags\n",
      "+------+------------+-----------------+\n",
      "| Name | Value type | Possible values |\n",
      "+------+------------+-----------------+\n",
      "+------+------------+-----------------+\n",
      "\n"
     ]
    }
   ],
   "source": [
    "dst_meta = meta\n",
    "print(\"Destination ProjectMeta:\\n\", dst_meta)"
   ]
  },
  {
   "cell_type": "markdown",
   "metadata": {},
   "source": [
    "## Create Destination project"
   ]
  },
  {
   "cell_type": "code",
   "execution_count": 7,
   "metadata": {},
   "outputs": [
    {
     "name": "stdout",
     "output_type": "stream",
     "text": [
      "Destination project name:  lemons_annotated_01_filtered\n"
     ]
    }
   ],
   "source": [
    "# check if destination project already exists. If yes - generate new free name\n",
    "if api.project.exists(workspace.id, dst_project_name):\n",
    "    dst_project_name = api.project.get_free_name(workspace.id, dst_project_name)\n",
    "print(\"Destination project name: \", dst_project_name)"
   ]
  },
  {
   "cell_type": "code",
   "execution_count": 8,
   "metadata": {},
   "outputs": [
    {
     "name": "stdout",
     "output_type": "stream",
     "text": [
      "Destination project has been created: id=1326, name='lemons_annotated_01_filtered'\n"
     ]
    }
   ],
   "source": [
    "dst_project = api.project.create(workspace.id, dst_project_name)\n",
    "api.project.update_meta(dst_project.id, dst_meta.to_json())\n",
    "print(\"Destination project has been created: id={}, name={!r}\".format(dst_project.id, dst_project.name))"
   ]
  },
  {
   "cell_type": "markdown",
   "metadata": {},
   "source": [
    "## Iterate over all images, filter them by tags and add to destination project"
   ]
  },
  {
   "cell_type": "code",
   "execution_count": 9,
   "metadata": {},
   "outputs": [
    {
     "name": "stdout",
     "output_type": "stream",
     "text": [
      "Dataset: ds1\n"
     ]
    },
    {
     "name": "stderr",
     "output_type": "stream",
     "text": [
      "Process annotations: 100%|██████████| 6/6 [00:00<00:00, 28.80it/s]\n"
     ]
    }
   ],
   "source": [
    "num_filtered_images = 0\n",
    "for dataset in api.dataset.get_list(project.id):\n",
    "    print('Dataset: {}'.format(dataset.name), flush=True)\n",
    "    dst_dataset = api.dataset.create(dst_project.id, dataset.name)\n",
    "\n",
    "    images = api.image.get_list(dataset.id)\n",
    "    with tqdm(total=len(images), desc=\"Process annotations\") as progress_bar:\n",
    "        for batch in sly.batched(images):\n",
    "            image_ids = [image_info.id for image_info in batch]\n",
    "            image_names = [image_info.name for image_info in batch]\n",
    "            \n",
    "            ann_infos = api.annotation.download_batch(dataset.id, image_ids)\n",
    "            \n",
    "            image_names_after_filter = []\n",
    "            image_ids_after_filter = []\n",
    "            anns_after_filter = []\n",
    "            for img_name, img_id, ann_info in zip(image_names, image_ids, ann_infos):\n",
    "                ann_json = ann_info.annotation\n",
    "                ann = sly.Annotation.from_json(ann_json, meta)\n",
    "                \n",
    "                if any(ann.img_tags.has_key(tag_name) for tag_name in filter_tag_names):\n",
    "                    image_names_after_filter.append(img_name)\n",
    "                    image_ids_after_filter.append(img_id)\n",
    "                    anns_after_filter.append(ann)\n",
    "\n",
    "            dst_image_infos = api.image.upload_ids(dst_dataset.id, image_names_after_filter, image_ids_after_filter)\n",
    "            dst_image_ids = [image_info.id for image_info in dst_image_infos]\n",
    "            api.annotation.upload_anns(dst_image_ids, anns_after_filter)\n",
    "            \n",
    "            num_filtered_images += len(image_names_after_filter)\n",
    "            progress_bar.update(len(batch))"
   ]
  },
  {
   "cell_type": "code",
   "execution_count": 10,
   "metadata": {},
   "outputs": [
    {
     "name": "stdout",
     "output_type": "stream",
     "text": [
      "Project 'lemons_annotated_01_filtered' has been sucessfully uploaded\n",
      "Project contains 4 images\n",
      "Number of filtered images: 4\n"
     ]
    }
   ],
   "source": [
    "print(\"Project {!r} has been sucessfully uploaded\".format(dst_project.name))\n",
    "print(\"Project contains {} images\".format(api.project.get_images_count(dst_project.id)))\n",
    "print(\"Number of filtered images:\", num_filtered_images)"
   ]
  },
  {
   "cell_type": "code",
   "execution_count": null,
   "metadata": {},
   "outputs": [],
   "source": []
  }
 ],
 "metadata": {
  "kernelspec": {
   "display_name": "Python 3",
   "language": "python",
   "name": "python3"
  },
  "language_info": {
   "codemirror_mode": {
    "name": "ipython",
    "version": 3
   },
   "file_extension": ".py",
   "mimetype": "text/x-python",
   "name": "python",
   "nbconvert_exporter": "python",
   "pygments_lexer": "ipython3",
   "version": "3.6.5"
  }
 },
 "nbformat": 4,
 "nbformat_minor": 2
}
