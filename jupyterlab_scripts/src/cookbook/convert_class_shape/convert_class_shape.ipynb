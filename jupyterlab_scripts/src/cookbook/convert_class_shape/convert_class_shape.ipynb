{
 "cells": [
  {
   "cell_type": "markdown",
   "metadata": {},
   "source": [
    "# Convert class shape\n",
    "\n",
    "Script converts all objects of selected classes to bitmaps, bounding boxes or to polygons.\n",
    "\n",
    "**Input**:\n",
    "- Existing Project (e.g. \"london_roads\")\n",
    "- Conversion rules (see below \"_conversions_\" dict)\n",
    "\n",
    "**Output**:\n",
    "- New Project with converted objects"
   ]
  },
  {
   "cell_type": "markdown",
   "metadata": {},
   "source": [
    "## Configuration\n",
    "\n",
    "Edit the following settings for your own case"
   ]
  },
  {
   "cell_type": "code",
   "execution_count": 1,
   "metadata": {},
   "outputs": [],
   "source": [
    "import supervisely_lib as sly\n",
    "import collections\n",
    "import os\n",
    "from tqdm import tqdm"
   ]
  },
  {
   "cell_type": "code",
   "execution_count": 2,
   "metadata": {},
   "outputs": [],
   "source": [
    "team_name = \"jupyter_tutorials\"\n",
    "workspace_name = \"cookbook\"\n",
    "project_name = \"tutorial_project\"\n",
    "\n",
    "dst_project_name = \"converted_project\"\n",
    "\n",
    "ClassConversion = collections.namedtuple('ClassConversion', 'dst_name dst_shape save_src_class')\n",
    "\n",
    "# You can convert shape of any class only to BoundignBox (Rectangle) or to Bitmap.\n",
    "# Also you can convert \"Bitmap shape to Polygon\"\n",
    "conversions = {\n",
    "    \"car\": ClassConversion(dst_name=\"car_bbox\", dst_shape=sly.Rectangle, save_src_class=True),\n",
    "    \"dog\": ClassConversion(dst_name=\"dog_bitmap\", dst_shape=sly.Bitmap, save_src_class=False),\n",
    "    \"person\": ClassConversion(dst_name=\"person_poly\", dst_shape=sly.Polygon, save_src_class=False)}\n",
    "\n",
    "# Obtain server address and your api_token from environment variables\n",
    "# Edit those values if you run this notebook on your own PC\n",
    "address = os.environ['SERVER_ADDRESS']\n",
    "token = os.environ['API_TOKEN']"
   ]
  },
  {
   "cell_type": "markdown",
   "metadata": {},
   "source": [
    "## Script setup\n",
    "\n",
    "Import nessesary packages and initialize Supervisely API to remotely manage your projects"
   ]
  },
  {
   "cell_type": "code",
   "execution_count": 3,
   "metadata": {},
   "outputs": [],
   "source": [
    "# Initialize API object\n",
    "api = sly.Api(address, token)"
   ]
  },
  {
   "cell_type": "markdown",
   "metadata": {},
   "source": [
    "## Verify input values\n",
    "\n",
    "Test that context (team / workspace / project) exists"
   ]
  },
  {
   "cell_type": "code",
   "execution_count": 4,
   "metadata": {},
   "outputs": [
    {
     "name": "stdout",
     "output_type": "stream",
     "text": [
      "Team: id=3, name=jupyter_tutorials\n",
      "Workspace: id=9, name=cookbook\n",
      "Project: id=10, name=tutorial_project\n"
     ]
    }
   ],
   "source": [
    "# Get IDs of team, workspace and project by names\n",
    "\n",
    "team = api.team.get_info_by_name(team_name)\n",
    "if team is None:\n",
    "    raise RuntimeError(\"Team {!r} not found\".format(team_name))\n",
    "\n",
    "workspace = api.workspace.get_info_by_name(team.id, workspace_name)\n",
    "if workspace is None:\n",
    "    raise RuntimeError(\"Workspace {!r} not found\".format(workspace_name))\n",
    "    \n",
    "project = api.project.get_info_by_name(workspace.id, project_name)\n",
    "if project is None:\n",
    "    raise RuntimeError(\"Project {!r} not found\".format(project_name))\n",
    "    \n",
    "print(\"Team: id={}, name={}\".format(team.id, team.name))\n",
    "print(\"Workspace: id={}, name={}\".format(workspace.id, workspace.name))\n",
    "print(\"Project: id={}, name={}\".format(project.id, project.name))"
   ]
  },
  {
   "cell_type": "markdown",
   "metadata": {},
   "source": [
    "## Get Project Meta of Source Project\n",
    "\n",
    "Project Meta contains information about classes and tags# Get source project meta"
   ]
  },
  {
   "cell_type": "code",
   "execution_count": 5,
   "metadata": {},
   "outputs": [],
   "source": [
    "meta_json = api.project.get_meta(project.id)\n",
    "meta = sly.ProjectMeta.from_json(meta_json)\n",
    "\n",
    "# Check if all classes exist\n",
    "for src_name in conversions.keys():\n",
    "    if meta.get_obj_class(src_name) is None:\n",
    "        raise RuntimeError(\n",
    "            \"Class {!r} not found in source project {!r}\".format(src_name, project.name))"
   ]
  },
  {
   "cell_type": "markdown",
   "metadata": {},
   "source": [
    "## Create Destination project"
   ]
  },
  {
   "cell_type": "code",
   "execution_count": 6,
   "metadata": {},
   "outputs": [
    {
     "name": "stdout",
     "output_type": "stream",
     "text": [
      "Destination project: id=443, name='converted_project'\n"
     ]
    }
   ],
   "source": [
    "# check if destination project name already exists. If yes - generate new free name\n",
    "if api.project.exists(workspace.id, dst_project_name):\n",
    "    dst_project_name = api.project.get_free_name(workspace.id, dst_project_name)\n",
    "    \n",
    "# create remote project\n",
    "dst_project = api.project.create(workspace.id, dst_project_name)\n",
    "\n",
    "print(\"Destination project: id={}, name={!r}\".format(dst_project.id, dst_project.name))"
   ]
  },
  {
   "cell_type": "markdown",
   "metadata": {},
   "source": [
    "## Construct Destination ProjectMeta"
   ]
  },
  {
   "cell_type": "code",
   "execution_count": 7,
   "metadata": {},
   "outputs": [
    {
     "name": "stdout",
     "output_type": "stream",
     "text": [
      "ProjectMeta:\n",
      "Object Classes\n",
      "+-------------+-----------+----------------+\n",
      "|     Name    |   Shape   |     Color      |\n",
      "+-------------+-----------+----------------+\n",
      "|     car     |  Polygon  | [190, 85, 206] |\n",
      "|     bike    | Rectangle | [246, 255, 0]  |\n",
      "|   car_bbox  | Rectangle | [190, 85, 206] |\n",
      "|  dog_bitmap |   Bitmap  |  [253, 0, 0]   |\n",
      "| person_poly |  Polygon  |  [0, 255, 18]  |\n",
      "+-------------+-----------+----------------+\n",
      "Tags\n",
      "+---------------+--------------+-----------------------+\n",
      "|      Name     |  Value type  |    Possible values    |\n",
      "+---------------+--------------+-----------------------+\n",
      "|   car_color   |  any_string  |          None         |\n",
      "|  cars_number  |  any_number  |          None         |\n",
      "|      like     |     none     |          None         |\n",
      "| person_gender | oneof_string |   ['male', 'female']  |\n",
      "|    situated   | oneof_string | ['inside', 'outside'] |\n",
      "|  vehicle_age  | oneof_string | ['modern', 'vintage'] |\n",
      "+---------------+--------------+-----------------------+\n",
      "\n"
     ]
    }
   ],
   "source": [
    "# Remove old classes and create new ones\n",
    "\n",
    "class_mapping = {}\n",
    "\n",
    "dst_meta = meta.clone()\n",
    "for src_name, conversion_config in conversions.items():\n",
    "    obj_class = dst_meta.get_obj_class(src_name)\n",
    "    if not conversion_config.save_src_class:\n",
    "        dst_meta = dst_meta.delete_obj_class(src_name)\n",
    "    \n",
    "    new_obj_class = obj_class.clone(\n",
    "        name=conversion_config.dst_name, geometry_type=conversion_config.dst_shape)\n",
    "    dst_meta = dst_meta.add_obj_class(new_obj_class)\n",
    "    \n",
    "    class_mapping[obj_class.name] = new_obj_class\n",
    "\n",
    "api.project.update_meta(dst_project.id, dst_meta.to_json())\n",
    "print(dst_meta)"
   ]
  },
  {
   "cell_type": "markdown",
   "metadata": {},
   "source": [
    "## Helper function, takes annotation, converts labels and returns new annotation"
   ]
  },
  {
   "cell_type": "code",
   "execution_count": 8,
   "metadata": {},
   "outputs": [],
   "source": [
    "def convert_classes(ann):\n",
    "    labels = ann.labels\n",
    "    new_labels = []\n",
    "    for label in labels:\n",
    "        dst_class = class_mapping.get(label.obj_class.name, None)\n",
    "        \n",
    "        if dst_class is not None:\n",
    "            conversion_config = conversions[label.obj_class.name]\n",
    "            if conversion_config.save_src_class:\n",
    "                new_labels.append(label)\n",
    "            \n",
    "            dest_shape = conversion_config.dst_shape\n",
    "            if dest_shape is sly.Bitmap:\n",
    "                converted_geometries = sly.geometry_to_bitmap(label.geometry)\n",
    "            elif dest_shape is sly.Rectangle:\n",
    "                converted_geometries = [label.geometry.to_bbox()]\n",
    "            elif dest_shape is sly.Polygon:\n",
    "                if label.obj_class.geometry_type is not sly.Bitmap:\n",
    "                    raise ValueError(\n",
    "                        f'Only class with {sly.Bitmap.geometry_name()!r} geometry is '\n",
    "                        f'possible to convert to polygon. '\n",
    "                        f'Received {label.obj_class.geometry_type.geometry_name()!r} geometry type.') \n",
    "                converted_geometries = label.geometry.to_contours()\n",
    "                # Approximate contours (optional)\n",
    "                converted_geometries = [poly.approx_dp(1) for poly in converted_geometries]\n",
    "            else:\n",
    "                raise ValueError(\n",
    "                    'Unsupported destination shape ({}) type!'.format(dest_shape.geometry_name()))\n",
    "            \n",
    "            for geometry in converted_geometries:\n",
    "                new_label = label.clone(obj_class=dst_class, geometry=geometry)\n",
    "                new_labels.append(new_label) \n",
    "        else:\n",
    "            new_labels.append(label)  \n",
    "    return ann.clone(labels=new_labels)"
   ]
  },
  {
   "cell_type": "markdown",
   "metadata": {},
   "source": [
    "## Iterate over all images, convert and upload to destination project"
   ]
  },
  {
   "cell_type": "code",
   "execution_count": 9,
   "metadata": {},
   "outputs": [
    {
     "name": "stdout",
     "output_type": "stream",
     "text": [
      "Processing: project = 'tutorial_project', dataset = 'dataset_01'\n"
     ]
    },
    {
     "name": "stderr",
     "output_type": "stream",
     "text": [
      "Process annotations: 100%|██████████| 3/3 [00:00<00:00,  7.68it/s]"
     ]
    },
    {
     "name": "stdout",
     "output_type": "stream",
     "text": [
      "Processing: project = 'tutorial_project', dataset = 'dataset_02'\n"
     ]
    },
    {
     "name": "stderr",
     "output_type": "stream",
     "text": [
      "\n",
      "Process annotations: 100%|██████████| 2/2 [00:00<00:00,  8.96it/s]\n"
     ]
    }
   ],
   "source": [
    " for dataset in api.dataset.get_list(project.id):\n",
    "    \n",
    "    # generate dataset name in destination project if it exists\n",
    "    dst_dataset_name = dataset.name\n",
    "    if api.dataset.exists(dst_project.id, dst_dataset_name):\n",
    "        dst_dataset_name = api.dataset.get_free_name(dst_project.id, dst_project_name)\n",
    "    # create new dataset in destination project\n",
    "    dst_dataset = api.dataset.create(dst_project.id, dst_dataset_name)\n",
    "\n",
    "    print(\"Processing: project = {!r}, dataset = {!r}\".format(project.name, dataset.name), flush=True)\n",
    "    # add images and annotations from source dataset to destination dataset\n",
    "    \n",
    "    images = api.image.get_list(dataset.id)\n",
    "    with tqdm(total=len(images), desc=\"Process annotations\") as progress_bar:\n",
    "        for batch in sly.batched(images):\n",
    "            image_ids = [image_info.id for image_info in batch]\n",
    "            image_names = [image_info.name for image_info in batch]\n",
    "            \n",
    "            ann_infos = api.annotation.download_batch(dataset.id, image_ids)\n",
    "\n",
    "            anns_to_upload = []\n",
    "            for ann_info in ann_infos:\n",
    "                ann = sly.Annotation.from_json(ann_info.annotation, meta)\n",
    "                new_ann = convert_classes(ann)\n",
    "                anns_to_upload.append(new_ann)\n",
    "            \n",
    "            dst_image_infos = api.image.upload_ids(dst_dataset.id, image_names, image_ids)\n",
    "            dst_image_ids = [image_info.id for image_info in dst_image_infos]\n",
    "            api.annotation.upload_anns(dst_image_ids, anns_to_upload)\n",
    "            progress_bar.update(len(batch))"
   ]
  },
  {
   "cell_type": "markdown",
   "metadata": {},
   "source": [
    "## Done!"
   ]
  },
  {
   "cell_type": "code",
   "execution_count": null,
   "metadata": {},
   "outputs": [],
   "source": []
  }
 ],
 "metadata": {
  "kernelspec": {
   "display_name": "Python 3",
   "language": "python",
   "name": "python3"
  },
  "language_info": {
   "codemirror_mode": {
    "name": "ipython",
    "version": 3
   },
   "file_extension": ".py",
   "mimetype": "text/x-python",
   "name": "python",
   "nbconvert_exporter": "python",
   "pygments_lexer": "ipython3",
   "version": "3.6.5"
  }
 },
 "nbformat": 4,
 "nbformat_minor": 2
}
