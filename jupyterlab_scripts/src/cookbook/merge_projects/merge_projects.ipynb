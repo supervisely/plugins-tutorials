{
 "cells": [
  {
   "cell_type": "markdown",
   "metadata": {},
   "source": [
    "# Merge projects\n",
    "\n",
    "This script will merge several projects into a single one.\n",
    "\n",
    "**Input:**\n",
    "- List of existing projects.\n",
    "\n",
    "**Output**:\n",
    "- New project with all the data from the input projects."
   ]
  },
  {
   "cell_type": "markdown",
   "metadata": {},
   "source": [
    "## Configuration\n",
    "\n",
    "Edit the following settings for your own case"
   ]
  },
  {
   "cell_type": "code",
   "execution_count": 1,
   "metadata": {},
   "outputs": [],
   "source": [
    "import supervisely_lib as sly\n",
    "import os\n",
    "from tqdm import tqdm"
   ]
  },
  {
   "cell_type": "code",
   "execution_count": 2,
   "metadata": {},
   "outputs": [],
   "source": [
    "src_project_names = ['lemons_annotated', 'roads_annotated']\n",
    "dst_project_name = 'merged_project'\n",
    "\n",
    "# Context\n",
    "team_name = \"jupyter_tutorials\"\n",
    "workspace_name = \"cookbook\"\n",
    "\n",
    "# Obtain server address and your api_token from environment variables\n",
    "# Edit those values if you run this notebook on your own PC\n",
    "address = os.environ['SERVER_ADDRESS']\n",
    "token = os.environ['API_TOKEN']"
   ]
  },
  {
   "cell_type": "code",
   "execution_count": 3,
   "metadata": {},
   "outputs": [],
   "source": [
    "# Initialize API object\n",
    "api = sly.Api(address, token)"
   ]
  },
  {
   "cell_type": "markdown",
   "metadata": {},
   "source": [
    "## Verify input values\n",
    "\n",
    "Test that context (team / workspace / project) exists"
   ]
  },
  {
   "cell_type": "code",
   "execution_count": 4,
   "metadata": {},
   "outputs": [
    {
     "name": "stdout",
     "output_type": "stream",
     "text": [
      "Team: id=30, name=jupyter_tutorials\n",
      "Workspace: id=76, name=cookbook\n"
     ]
    }
   ],
   "source": [
    "# Get IDs of team and workspace\n",
    "team = api.team.get_info_by_name(team_name)\n",
    "if team is None:\n",
    "    raise RuntimeError(\"Team {!r} not found\".format(team_name))\n",
    "\n",
    "workspace = api.workspace.get_info_by_name(team.id, workspace_name)\n",
    "if workspace is None:\n",
    "    raise RuntimeError(\"Workspace {!r} not found\".format(workspace_name))\n",
    "    \n",
    "print(\"Team: id={}, name={}\".format(team.id, team.name))\n",
    "print(\"Workspace: id={}, name={}\".format(workspace.id, workspace.name))"
   ]
  },
  {
   "cell_type": "code",
   "execution_count": 5,
   "metadata": {},
   "outputs": [],
   "source": [
    "# Check if all input projects exist\n",
    "src_projects = []\n",
    "for project_name in src_project_names:\n",
    "    src_project = api.project.get_info_by_name(workspace.id, project_name)\n",
    "    if src_project is not None:\n",
    "        src_projects.append(src_project)\n",
    "    else:\n",
    "        raise RuntimeError(\"Project {!r} not found\".format(project_name))"
   ]
  },
  {
   "cell_type": "markdown",
   "metadata": {},
   "source": [
    "## Create output Project"
   ]
  },
  {
   "cell_type": "code",
   "execution_count": 6,
   "metadata": {},
   "outputs": [
    {
     "name": "stdout",
     "output_type": "stream",
     "text": [
      "Project: id=1327, name='merged_project'\n"
     ]
    }
   ],
   "source": [
    "# Check if destination project name already exists. If yes - generate new free name\n",
    "if api.project.exists(workspace.id, dst_project_name):\n",
    "    dst_project_name = api.project.get_free_name(workspace.id, dst_project_name)\n",
    "    \n",
    "# create remote project\n",
    "dst_project = api.project.create(workspace.id, dst_project_name)\n",
    "print(\"Project: id={}, name={!r}\".format(dst_project.id, dst_project.name))"
   ]
  },
  {
   "cell_type": "markdown",
   "metadata": {},
   "source": [
    "## Create output Meta\n",
    "\n",
    "Generate ProjectMeta for new Project by merging all source ProjectMeta's. The result will contain a union of all the object classes and tags from the input projects, if all those tags and classes respectively are compatible (i.e. classes with the same name must have the same geometry type, and tags with the same name must have the same range of values)."
   ]
  },
  {
   "cell_type": "code",
   "execution_count": 7,
   "metadata": {},
   "outputs": [],
   "source": [
    "destination_meta = sly.ProjectMeta()\n",
    "for project in src_projects:\n",
    "    src_meta_json = api.project.get_meta(project.id)\n",
    "    src_meta = sly.ProjectMeta.from_json(src_meta_json)\n",
    "    destination_meta = destination_meta.merge(src_meta)\n",
    "\n",
    "api.project.update_meta(dst_project.id, destination_meta.to_json())"
   ]
  },
  {
   "cell_type": "markdown",
   "metadata": {},
   "source": [
    "## Create output datasets and add images"
   ]
  },
  {
   "cell_type": "code",
   "execution_count": 8,
   "metadata": {},
   "outputs": [
    {
     "data": {
      "text/plain": [
       "ProjectInfo(id=1327, name='merged_project', description='', size='0', readme='', workspace_id=76, created_at='2019-04-11T08:37:35.448Z', updated_at='2019-04-11T08:37:35.448Z')"
      ]
     },
     "execution_count": 8,
     "metadata": {},
     "output_type": "execute_result"
    }
   ],
   "source": [
    "api.project.get_info_by_id(dst_project.id)"
   ]
  },
  {
   "cell_type": "code",
   "execution_count": 9,
   "metadata": {},
   "outputs": [
    {
     "name": "stdout",
     "output_type": "stream",
     "text": [
      "Processing: project = 'lemons_annotated', dataset = 'ds1'\n"
     ]
    },
    {
     "name": "stderr",
     "output_type": "stream",
     "text": [
      "100%|██████████| 6/6 [00:00<00:00, 28.62it/s]"
     ]
    },
    {
     "name": "stdout",
     "output_type": "stream",
     "text": [
      "Processing: project = 'roads_annotated', dataset = 'ds1'\n"
     ]
    },
    {
     "name": "stderr",
     "output_type": "stream",
     "text": [
      "\n",
      "100%|██████████| 10/10 [00:00<00:00, 72.17it/s]\n"
     ]
    }
   ],
   "source": [
    "# add datasets, images and annotations to destination project\n",
    "for project in src_projects:\n",
    "    for dataset in api.dataset.get_list(project.id):\n",
    "        print(\"Processing: project = {!r}, dataset = {!r}\".format(project.name, dataset.name), flush=True)\n",
    "        \n",
    "        # generate dataset name in destination project if it exists\n",
    "        dst_dataset_name = dataset.name\n",
    "        if api.dataset.exists(dst_project.id, dst_dataset_name):\n",
    "            dst_dataset_name = api.dataset.get_free_name(dst_project.id, dst_dataset_name)\n",
    "        \n",
    "        # create new dataset in destination project\n",
    "        dst_dataset = api.dataset.create(dst_project.id, dst_dataset_name)\n",
    "        \n",
    "        images = api.image.get_list(dataset.id)\n",
    "        with tqdm(total=len(images)) as progress_bar:\n",
    "            for batch in sly.batched(images):\n",
    "                image_ids = [image_info.id for image_info in batch]\n",
    "                image_names = [image_info.name for image_info in batch]\n",
    "                \n",
    "                # get image annotations\n",
    "                ann_infos = api.annotation.download_batch(dataset.id, image_ids)\n",
    "                ann_jsons = [ann_info.annotation for ann_info in ann_infos]\n",
    "                \n",
    "                # add images to destination dataset by id\n",
    "                dst_images = api.image.upload_ids(dst_dataset.id, image_names, image_ids)\n",
    "                \n",
    "                # upload annotations to destination images\n",
    "                dst_image_ids = [dst_img_info.id for dst_img_info in dst_images]\n",
    "                api.annotation.upload_jsons(dst_image_ids, ann_jsons)\n",
    "                        \n",
    "                progress_bar.update(len(batch))"
   ]
  },
  {
   "cell_type": "code",
   "execution_count": 10,
   "metadata": {},
   "outputs": [
    {
     "name": "stdout",
     "output_type": "stream",
     "text": [
      "Project 'merged_project' has been sucessfully uploaded\n",
      "Number of uploaded images:  16\n"
     ]
    }
   ],
   "source": [
    "print(\"Project {!r} has been sucessfully uploaded\".format(dst_project.name))\n",
    "print(\"Number of uploaded images: \", api.project.get_images_count(dst_project.id))"
   ]
  },
  {
   "cell_type": "code",
   "execution_count": null,
   "metadata": {},
   "outputs": [],
   "source": []
  }
 ],
 "metadata": {
  "kernelspec": {
   "display_name": "Python 3",
   "language": "python",
   "name": "python3"
  },
  "language_info": {
   "codemirror_mode": {
    "name": "ipython",
    "version": 3
   },
   "file_extension": ".py",
   "mimetype": "text/x-python",
   "name": "python",
   "nbconvert_exporter": "python",
   "pygments_lexer": "ipython3",
   "version": "3.6.5"
  }
 },
 "nbformat": 4,
 "nbformat_minor": 2
}
