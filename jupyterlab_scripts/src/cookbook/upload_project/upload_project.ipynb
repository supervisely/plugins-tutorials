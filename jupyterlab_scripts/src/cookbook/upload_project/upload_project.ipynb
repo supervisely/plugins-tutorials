{
 "cells": [
  {
   "cell_type": "markdown",
   "metadata": {},
   "source": [
    "# Upload project\n",
    "\n",
    "How to upload data to Supervisely using API\n",
    "\n",
    "**Input**:\n",
    "- Local folder with Project in Supervisely format\n",
    "\n",
    "**Output**:\n",
    "- New Project in Supervisely"
   ]
  },
  {
   "cell_type": "markdown",
   "metadata": {},
   "source": [
    "## Configuration\n",
    "\n",
    "Edit the following settings for your own case"
   ]
  },
  {
   "cell_type": "code",
   "execution_count": 1,
   "metadata": {},
   "outputs": [],
   "source": [
    "import supervisely_lib as sly\n",
    "import os\n",
    "import json\n",
    "from tqdm import tqdm"
   ]
  },
  {
   "cell_type": "code",
   "execution_count": 2,
   "metadata": {},
   "outputs": [],
   "source": [
    "# Local folder with Project\n",
    "project_directory = './tutorial_project'\n",
    "\n",
    "# New Project\n",
    "team_name = \"jupyter_tutorials\"\n",
    "workspace_name = \"cookbook\"\n",
    "project_name = \"uploaded_project\"\n",
    "\n",
    "# Obtain server address and your api_token from environment variables\n",
    "# Edit those values if you run this notebook on your own PC\n",
    "address = os.environ['SERVER_ADDRESS']\n",
    "token = os.environ['API_TOKEN']"
   ]
  },
  {
   "cell_type": "code",
   "execution_count": 3,
   "metadata": {},
   "outputs": [],
   "source": [
    "# Initialize API object\n",
    "api = sly.Api(address, token)"
   ]
  },
  {
   "cell_type": "markdown",
   "metadata": {},
   "source": [
    "## Verify input values\n",
    "\n",
    "Test that context (team / workspace / project) exists"
   ]
  },
  {
   "cell_type": "code",
   "execution_count": 4,
   "metadata": {},
   "outputs": [
    {
     "name": "stdout",
     "output_type": "stream",
     "text": [
      "Team: id=30, name=jupyter_tutorials\n",
      "Workspace: id=76, name=cookbook\n"
     ]
    }
   ],
   "source": [
    "# get IDs of team, workspace and project by names\n",
    "\n",
    "team = api.team.get_info_by_name(team_name)\n",
    "if team is None:\n",
    "    raise RuntimeError(\"Team {!r} not found\".format(team_name))\n",
    "\n",
    "workspace = api.workspace.get_info_by_name(team.id, workspace_name)\n",
    "if workspace is None:\n",
    "    raise RuntimeError(\"Workspace {!r} not found\".format(workspace_name))\n",
    "    \n",
    "print(\"Team: id={}, name={}\".format(team.id, team.name))\n",
    "print(\"Workspace: id={}, name={}\".format(workspace.id, workspace.name))"
   ]
  },
  {
   "cell_type": "markdown",
   "metadata": {},
   "source": [
    "## Read local Project"
   ]
  },
  {
   "cell_type": "code",
   "execution_count": 5,
   "metadata": {},
   "outputs": [],
   "source": [
    "# read project from directory \n",
    "project_fs = sly.Project(project_directory, sly.OpenMode.READ)"
   ]
  },
  {
   "cell_type": "markdown",
   "metadata": {},
   "source": [
    "## Create remote Project"
   ]
  },
  {
   "cell_type": "code",
   "execution_count": 6,
   "metadata": {},
   "outputs": [],
   "source": [
    "# check if project already exists. If yes - generate new free name\n",
    "if api.project.exists(workspace.id, project_name):\n",
    "    project_name = api.project.get_free_name(workspace.id, project_name)"
   ]
  },
  {
   "cell_type": "code",
   "execution_count": 7,
   "metadata": {},
   "outputs": [
    {
     "name": "stdout",
     "output_type": "stream",
     "text": [
      "Project: id=1337, name=uploaded_project\n"
     ]
    }
   ],
   "source": [
    "# create remote project and set corresponding meta information\n",
    "project = api.project.create(workspace.id, project_name)\n",
    "api.project.update_meta(project.id, project_fs.meta.to_json())\n",
    "print(\"Project: id={}, name={}\".format(project.id, project.name))"
   ]
  },
  {
   "cell_type": "code",
   "execution_count": 8,
   "metadata": {},
   "outputs": [
    {
     "name": "stdout",
     "output_type": "stream",
     "text": [
      "Dataset: dataset_01. Will upload 3 images with annotations\n"
     ]
    },
    {
     "name": "stderr",
     "output_type": "stream",
     "text": [
      "Upload images: 100%|██████████| 3/3 [00:00<00:00, 49.11it/s]\n",
      "Upload annotations: 100%|██████████| 3/3 [00:00<00:00, 22.74it/s]\n"
     ]
    },
    {
     "name": "stdout",
     "output_type": "stream",
     "text": [
      "Dataset: dataset_02. Will upload 2 images with annotations\n"
     ]
    },
    {
     "name": "stderr",
     "output_type": "stream",
     "text": [
      "Upload images: 100%|██████████| 2/2 [00:00<00:00, 39.81it/s]\n",
      "Upload annotations: 100%|██████████| 2/2 [00:00<00:00, 29.52it/s]\n"
     ]
    }
   ],
   "source": [
    "# iterate over datasets, images and thier annotations in directory and upload that data to remote server\n",
    "for dataset_fs in project_fs:\n",
    "    dataset = api.dataset.create(project.id, dataset_fs.name)\n",
    "    \n",
    "    names, img_paths, ann_paths = [], [], []\n",
    "    for item_name in dataset_fs:\n",
    "        img_path, ann_path = dataset_fs.get_item_paths(item_name)\n",
    "        names.append(item_name)\n",
    "        img_paths.append(img_path)\n",
    "        ann_paths.append(ann_path)\n",
    "    \n",
    "    print(\"Dataset: {}. Will upload {} images with annotations\".format(dataset.name, len(img_paths)), flush=True)\n",
    "    with tqdm(total=len(names), desc=\"Upload images\") as progress_bar:\n",
    "        img_infos = api.image.upload_paths(dataset.id, names, img_paths, progress_bar.update)\n",
    "    \n",
    "    image_ids = [img_info.id for img_info in img_infos]\n",
    "    with tqdm(total=len(names), desc=\"Upload annotations\") as progress_bar:\n",
    "        api.annotation.upload_paths(image_ids, ann_paths, progress_bar.update)     "
   ]
  },
  {
   "cell_type": "code",
   "execution_count": 9,
   "metadata": {},
   "outputs": [
    {
     "name": "stdout",
     "output_type": "stream",
     "text": [
      "Project 'uploaded_project' has been sucessfully uploaded\n",
      "Number of uploaded images:  5\n"
     ]
    }
   ],
   "source": [
    "print(\"Project {!r} has been sucessfully uploaded\".format(project_name))\n",
    "print(\"Number of uploaded images: \", api.project.get_images_count(project.id))"
   ]
  },
  {
   "cell_type": "code",
   "execution_count": null,
   "metadata": {},
   "outputs": [],
   "source": []
  }
 ],
 "metadata": {
  "kernelspec": {
   "display_name": "Python 3",
   "language": "python",
   "name": "python3"
  },
  "language_info": {
   "codemirror_mode": {
    "name": "ipython",
    "version": 3
   },
   "file_extension": ".py",
   "mimetype": "text/x-python",
   "name": "python",
   "nbconvert_exporter": "python",
   "pygments_lexer": "ipython3",
   "version": "3.6.5"
  }
 },
 "nbformat": 4,
 "nbformat_minor": 2
}
