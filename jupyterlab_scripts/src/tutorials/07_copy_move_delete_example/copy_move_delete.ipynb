{
 "cells": [
  {
   "cell_type": "markdown",
   "metadata": {},
   "source": [
    "# Imports"
   ]
  },
  {
   "cell_type": "code",
   "execution_count": 1,
   "metadata": {},
   "outputs": [],
   "source": [
    "import os\n",
    "import supervisely_lib as sly"
   ]
  },
  {
   "cell_type": "markdown",
   "metadata": {},
   "source": [
    "# Initialize API access with your credentials"
   ]
  },
  {
   "cell_type": "code",
   "execution_count": 2,
   "metadata": {},
   "outputs": [
    {
     "name": "stdout",
     "output_type": "stream",
     "text": [
      "Server address:  http://192.168.1.69:5555\n",
      "Your API token:  HfQ2owV8QjwojwnTiaPzIyEZtncIBjISnQqgBzKmDTjTL6WmV80kbd9J5DHu8PnCPVBqWBUXcOQlqjUBiCrQuUBxh562iaqAzqa4z80lJYjvxTFky5RbHDXregjOf2y8\n"
     ]
    }
   ],
   "source": [
    "address = os.environ['SERVER_ADDRESS']\n",
    "token = os.environ['API_TOKEN']\n",
    "\n",
    "print(\"Server address: \", address)\n",
    "print(\"Your API token: \", token)\n",
    "\n",
    "# Initialize the API access object.\n",
    "api = sly.Api(address, token)"
   ]
  },
  {
   "cell_type": "markdown",
   "metadata": {},
   "source": [
    "# Script parameters"
   ]
  },
  {
   "cell_type": "code",
   "execution_count": 3,
   "metadata": {},
   "outputs": [],
   "source": [
    "team_name = \"max\"\n",
    "workspace_name = \"First Workspace\"\n",
    "project_name = \"tutorial_project\"  # will be clonned from Explore page"
   ]
  },
  {
   "cell_type": "markdown",
   "metadata": {},
   "source": [
    "# Verify parameters"
   ]
  },
  {
   "cell_type": "code",
   "execution_count": 4,
   "metadata": {},
   "outputs": [
    {
     "name": "stdout",
     "output_type": "stream",
     "text": [
      "Team: id=4, name=max\n",
      "Workspace: id=7, name=First Workspace\n"
     ]
    }
   ],
   "source": [
    "team = api.team.get_info_by_name(team_name)\n",
    "if team is None:\n",
    "    raise RuntimeError(\"Team {!r} not found\".format(team_name))\n",
    "\n",
    "workspace = api.workspace.get_info_by_name(team.id, workspace_name)\n",
    "if workspace is None:\n",
    "    raise RuntimeError(\"Workspace {!r} not found\".format(workspace_name))\n",
    "\n",
    "print(\"Team: id={}, name={}\".format(team.id, team.name))\n",
    "print(\"Workspace: id={}, name={}\".format(workspace.id, workspace.name))"
   ]
  },
  {
   "cell_type": "markdown",
   "metadata": {},
   "source": [
    "# Clone demo project from Explore page"
   ]
  },
  {
   "cell_type": "code",
   "execution_count": 5,
   "metadata": {},
   "outputs": [
    {
     "name": "stdout",
     "output_type": "stream",
     "text": [
      "Project 'tutorial_project' not found, will be clonned from explore\n",
      "Project (id=510, name=tutorial_project) has been sucessfully cloned from explore\n"
     ]
    }
   ],
   "source": [
    "project = api.project.get_info_by_name(workspace.id, project_name)\n",
    "if project is None:\n",
    "    print(\"Project {!r} not found, will be clonned from explore\".format(project_name))\n",
    "else:\n",
    "    print('Project with the same name {!r} already exists, '\n",
    "          'demo project will be clonned from Explore page and saved to with the new name'.format(project_name))\n",
    "    project_name = api.project.get_free_name(workspace.id, project_name)\n",
    "task_id = api.project.clone_from_explore('Supervisely/Demo/tutorial_project', workspace.id, project_name)\n",
    "api.task.wait(task_id, api.task.Status.FINISHED)\n",
    "project = api.project.get_info_by_name(workspace.id, project_name)\n",
    "print(\"Project (id={}, name={}) has been sucessfully cloned from explore\".format(project.id, project.name))"
   ]
  },
  {
   "cell_type": "markdown",
   "metadata": {},
   "source": [
    "# Helper functions"
   ]
  },
  {
   "cell_type": "code",
   "execution_count": 6,
   "metadata": {},
   "outputs": [],
   "source": [
    "def print_compact_project_structure(project):\n",
    "    datasets = api.dataset.get_list(project.id)\n",
    "    print(\"\\nProject {!r} contains {} datasets:\".format(project.name, len(datasets)))\n",
    "    for dataset in datasets:\n",
    "        print(\"Id: {:<5} Name: {:<25s} images count: {:<5}\".format(dataset.id, dataset.name, dataset.images_count))"
   ]
  },
  {
   "cell_type": "markdown",
   "metadata": {},
   "source": [
    "# Use cases: copy/move/delete"
   ]
  },
  {
   "cell_type": "markdown",
   "metadata": {},
   "source": [
    "## Print original project structure"
   ]
  },
  {
   "cell_type": "code",
   "execution_count": 7,
   "metadata": {},
   "outputs": [
    {
     "name": "stdout",
     "output_type": "stream",
     "text": [
      "\n",
      "Project 'tutorial_project' contains 2 datasets:\n",
      "Id: 1581  Name: dataset_01                images count: 3    \n",
      "Id: 1582  Name: dataset_02                images count: 2    \n"
     ]
    }
   ],
   "source": [
    "print_compact_project_structure(project)"
   ]
  },
  {
   "cell_type": "markdown",
   "metadata": {},
   "source": [
    "## Copy dataset"
   ]
  },
  {
   "cell_type": "code",
   "execution_count": 8,
   "metadata": {},
   "outputs": [
    {
     "name": "stdout",
     "output_type": "stream",
     "text": [
      "\n",
      "Project 'tutorial_project' contains 3 datasets:\n",
      "Id: 1581  Name: dataset_01                images count: 3    \n",
      "Id: 1582  Name: dataset_02                images count: 2    \n",
      "Id: 1583  Name: dataset_01_copied         images count: 3    \n"
     ]
    }
   ],
   "source": [
    "dataset = api.dataset.get_info_by_name(project.id, 'dataset_01')\n",
    "copied_dataset = api.dataset.copy(project.id, dataset.id, 'dataset_01_copied', change_name_if_conflict=True, with_annotations=True)\n",
    "print_compact_project_structure(project)"
   ]
  },
  {
   "cell_type": "markdown",
   "metadata": {},
   "source": [
    "## Copy images from one dataset to another"
   ]
  },
  {
   "cell_type": "code",
   "execution_count": 9,
   "metadata": {},
   "outputs": [
    {
     "name": "stdout",
     "output_type": "stream",
     "text": [
      "\n",
      "Project 'tutorial_project' contains 3 datasets:\n",
      "Id: 1581  Name: dataset_01                images count: 3    \n",
      "Id: 1582  Name: dataset_02                images count: 5    \n",
      "Id: 1583  Name: dataset_01_copied         images count: 3    \n"
     ]
    }
   ],
   "source": [
    "src_dataset = api.dataset.get_info_by_name(project.id, 'dataset_01')\n",
    "dst_dataset = api.dataset.get_info_by_name(project.id, 'dataset_02')\n",
    "\n",
    "src_images = api.image.get_list(src_dataset.id)\n",
    "src_image_ids = [image.id for image in src_images]\n",
    "new_images = api.image.copy_batch(dst_dataset.id, src_image_ids, change_name_if_conflict=True, with_annotations=True)\n",
    "\n",
    "print_compact_project_structure(project)"
   ]
  },
  {
   "cell_type": "markdown",
   "metadata": {},
   "source": [
    "## Move some images to new dataset"
   ]
  },
  {
   "cell_type": "code",
   "execution_count": 10,
   "metadata": {},
   "outputs": [
    {
     "name": "stdout",
     "output_type": "stream",
     "text": [
      "\n",
      "Project 'tutorial_project' contains 4 datasets:\n",
      "Id: 1581  Name: dataset_01                images count: 3    \n",
      "Id: 1582  Name: dataset_02                images count: 2    \n",
      "Id: 1583  Name: dataset_01_copied         images count: 3    \n",
      "Id: 1584  Name: moved_images              images count: 3    \n"
     ]
    }
   ],
   "source": [
    "src_dataset = api.dataset.get_info_by_name(project.id, 'dataset_02')\n",
    "dst_dataset = api.dataset.create(project.id, 'moved_images')\n",
    "\n",
    "all_dataset_images = api.image.get_list(src_dataset.id)\n",
    "image_ids_to_move = [image.id for image in all_dataset_images][:3]\n",
    "\n",
    "new_images = api.image.move_batch(dst_dataset.id, image_ids_to_move, change_name_if_conflict=True, with_annotations=False)\n",
    "\n",
    "print_compact_project_structure(project)"
   ]
  },
  {
   "cell_type": "markdown",
   "metadata": {},
   "source": [
    "## Delete images from dataset"
   ]
  },
  {
   "cell_type": "code",
   "execution_count": 11,
   "metadata": {},
   "outputs": [
    {
     "name": "stdout",
     "output_type": "stream",
     "text": [
      "\n",
      "Project 'tutorial_project' contains 4 datasets:\n",
      "Id: 1581  Name: dataset_01                images count: 3    \n",
      "Id: 1582  Name: dataset_02                images count: 2    \n",
      "Id: 1583  Name: dataset_01_copied         images count: 3    \n",
      "Id: 1584  Name: moved_images              images count: 1    \n"
     ]
    }
   ],
   "source": [
    "src_dataset = api.dataset.get_info_by_name(project.id, 'moved_images')\n",
    "all_dataset_images = api.image.get_list(src_dataset.id)\n",
    "\n",
    "image_ids_to_remove = [image.id for image in all_dataset_images][:2]\n",
    "api.image.remove_batch(image_ids_to_remove)\n",
    "\n",
    "print_compact_project_structure(project)"
   ]
  },
  {
   "cell_type": "markdown",
   "metadata": {},
   "source": [
    "## Remove datasets from project"
   ]
  },
  {
   "cell_type": "code",
   "execution_count": 12,
   "metadata": {},
   "outputs": [
    {
     "name": "stdout",
     "output_type": "stream",
     "text": [
      "\n",
      "Project 'tutorial_project' contains 2 datasets:\n",
      "Id: 1581  Name: dataset_01                images count: 3    \n",
      "Id: 1582  Name: dataset_02                images count: 2    \n"
     ]
    }
   ],
   "source": [
    "dataset1 = api.dataset.get_info_by_name(project.id, 'moved_images')\n",
    "dataset2 = api.dataset.get_info_by_name(project.id, 'dataset_01_copied')\n",
    "\n",
    "ids_to_remove = [dataset1.id, dataset2.id]\n",
    "api.dataset.remove_batch(ids_to_remove)\n",
    "\n",
    "print_compact_project_structure(project)"
   ]
  },
  {
   "cell_type": "markdown",
   "metadata": {},
   "source": [
    "## Remove entire demo project"
   ]
  },
  {
   "cell_type": "code",
   "execution_count": 13,
   "metadata": {},
   "outputs": [
    {
     "name": "stdout",
     "output_type": "stream",
     "text": [
      "Project 'tutorial_project' has been successfully removed\n"
     ]
    }
   ],
   "source": [
    "api.project.remove(project.id)\n",
    "project = api.project.get_info_by_name(workspace.id, project_name)\n",
    "if project is None:\n",
    "    print('Project {!r} has been successfully removed'.format(project_name))"
   ]
  }
 ],
 "metadata": {
  "kernelspec": {
   "display_name": "Python 3",
   "language": "python",
   "name": "python3"
  },
  "language_info": {
   "codemirror_mode": {
    "name": "ipython",
    "version": 3
   },
   "file_extension": ".py",
   "mimetype": "text/x-python",
   "name": "python",
   "nbconvert_exporter": "python",
   "pygments_lexer": "ipython3",
   "version": "3.6.5"
  }
 },
 "nbformat": 4,
 "nbformat_minor": 2
}
