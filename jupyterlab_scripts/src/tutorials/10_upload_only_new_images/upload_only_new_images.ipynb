{
 "cells": [
  {
   "cell_type": "markdown",
   "metadata": {},
   "source": [
    "# Supervisely Tutorial #10"
   ]
  },
  {
   "cell_type": "markdown",
   "metadata": {},
   "source": [
    "In this tutorial we will show how to check that files are already uploaded to the server and how to upload only the new ones"
   ]
  },
  {
   "cell_type": "markdown",
   "metadata": {},
   "source": [
    "# Imports"
   ]
  },
  {
   "cell_type": "code",
   "execution_count": 21,
   "metadata": {},
   "outputs": [],
   "source": [
    "import os\n",
    "import supervisely_lib as sly"
   ]
  },
  {
   "cell_type": "code",
   "execution_count": 31,
   "metadata": {},
   "outputs": [],
   "source": [
    "import pprint"
   ]
  },
  {
   "cell_type": "code",
   "execution_count": 52,
   "metadata": {},
   "outputs": [],
   "source": [
    "from datetime import datetime"
   ]
  },
  {
   "cell_type": "markdown",
   "metadata": {},
   "source": [
    "# Initialize API access with your credentials"
   ]
  },
  {
   "cell_type": "code",
   "execution_count": 22,
   "metadata": {},
   "outputs": [
    {
     "name": "stdout",
     "output_type": "stream",
     "text": [
      "Server address:  https://app.supervise.ly/\n"
     ]
    }
   ],
   "source": [
    "address = os.environ['SERVER_ADDRESS']\n",
    "token = os.environ['API_TOKEN']\n",
    "\n",
    "print(\"Server address: \", address)\n",
    "#print(\"Your API token: \", token)"
   ]
  },
  {
   "cell_type": "markdown",
   "metadata": {},
   "source": [
    "# Initialize the API access object"
   ]
  },
  {
   "cell_type": "code",
   "execution_count": 23,
   "metadata": {},
   "outputs": [],
   "source": [
    "api = sly.Api(address, token)"
   ]
  },
  {
   "cell_type": "markdown",
   "metadata": {},
   "source": [
    "# Script parameters"
   ]
  },
  {
   "cell_type": "code",
   "execution_count": 29,
   "metadata": {},
   "outputs": [],
   "source": [
    "team_name = \"max\"\n",
    "workspace_name = \"cats and dogs\"\n",
    "project_name = \"project_x\"\n",
    "\n",
    "target_dir = 'images_to_upload'"
   ]
  },
  {
   "cell_type": "markdown",
   "metadata": {},
   "source": [
    "# Verify parameters"
   ]
  },
  {
   "cell_type": "code",
   "execution_count": 25,
   "metadata": {},
   "outputs": [
    {
     "name": "stdout",
     "output_type": "stream",
     "text": [
      "Team: id=600, name='max'\n",
      "Workspace: id=26846, name='cats and dogs'\n"
     ]
    }
   ],
   "source": [
    "team = api.team.get_info_by_name(team_name)\n",
    "if team is None:\n",
    "    raise RuntimeError(\"Team {!r} not found\".format(team_name))\n",
    "\n",
    "workspace = api.workspace.get_info_by_name(team.id, workspace_name)\n",
    "if workspace is None:\n",
    "    raise RuntimeError(\"Workspace {!r} not found\".format(workspace_name))\n",
    "\n",
    "print(\"Team: id={}, name={!r}\".format(team.id, team.name))\n",
    "print(\"Workspace: id={}, name={!r}\".format(workspace.id, workspace.name))"
   ]
  },
  {
   "cell_type": "markdown",
   "metadata": {},
   "source": [
    "# Find project or create the new one"
   ]
  },
  {
   "cell_type": "code",
   "execution_count": 26,
   "metadata": {},
   "outputs": [
    {
     "name": "stdout",
     "output_type": "stream",
     "text": [
      "Project: id=60333, name='project_x'\n"
     ]
    }
   ],
   "source": [
    "project = api.project.get_info_by_name(workspace.id, project_name)\n",
    "if project is None:\n",
    "    project = api.project.create(workspace.id, project_name, 'project for uploading new images', change_name_if_conflict=False)\n",
    "print(\"Project: id={}, name={!r}\".format(project.id, project.name))"
   ]
  },
  {
   "cell_type": "markdown",
   "metadata": {},
   "source": [
    "# Get paths of all images in a directory"
   ]
  },
  {
   "cell_type": "code",
   "execution_count": 45,
   "metadata": {},
   "outputs": [
    {
     "name": "stdout",
     "output_type": "stream",
     "text": [
      "['images_to_upload/adorable-animal-blur-cat-617278.jpg',\n",
      " 'images_to_upload/image_02.jpeg',\n",
      " 'images_to_upload/grey-and-white-short-fur-cat-104827.jpg',\n",
      " 'images_to_upload/image_02_y.jpeg',\n",
      " 'images_to_upload/image_01.jpeg',\n",
      " 'images_to_upload/adult-black-pug-1851164.jpg',\n",
      " 'images_to_upload/image_01_x.jpeg',\n",
      " 'images_to_upload/IMG_0315.jpg',\n",
      " 'images_to_upload/image_03.jpeg',\n",
      " 'images_to_upload/adorable-animal-breed-canine-434090.jpg']\n"
     ]
    }
   ],
   "source": [
    "images_paths = sly.fs.list_files('images_to_upload')\n",
    "pprint.pprint(images_paths)"
   ]
  },
  {
   "cell_type": "markdown",
   "metadata": {},
   "source": [
    "# Calculate hashes for all images paths"
   ]
  },
  {
   "cell_type": "code",
   "execution_count": 46,
   "metadata": {},
   "outputs": [
    {
     "name": "stdout",
     "output_type": "stream",
     "text": [
      "{'7bssCHBSspbfU5IXyAy89NE4ZtT13seIEyP46CvHw3I=': 'images_to_upload/image_03.jpeg',\n",
      " 'QZXPQjcsXMuSSxHtK00qlDys+zo4o08tlNbwF8po1S8=': 'images_to_upload/image_02_y.jpeg',\n",
      " 'RjO0Jfb0mKyoChaimr7yfAx5L9kQoWBr3Vd3vza/+Vc=': 'images_to_upload/image_01.jpeg',\n",
      " 'TeHa9M1gQTz2F1hh4oQL7LWRaiWTEVP/gM+Ae9mTZaU=': 'images_to_upload/image_02.jpeg',\n",
      " 'Y2H/xhCs61l8nwRr2howW71PJFtS/GGaRac3tOkxc/w=': 'images_to_upload/adorable-animal-blur-cat-617278.jpg',\n",
      " 'Y9+aWgu2XXF3hdPV2nZauQoyLZxajAGAGPt0AZSEMqw=': 'images_to_upload/image_01_x.jpeg',\n",
      " 'gNbD/201JoxZe2xGcxuAA6DEUcBIwQRGXBGehEYs8ZY=': 'images_to_upload/adorable-animal-breed-canine-434090.jpg',\n",
      " 'om8cqJRQTV2ir/hh8/B7NkQvabuj8CUNcSuGeW7i8WE=': 'images_to_upload/grey-and-white-short-fur-cat-104827.jpg',\n",
      " 'pB6T7Fn262CNnevD0YQFtfcJg4m53LZzLx8S9TmJ5No=': 'images_to_upload/adult-black-pug-1851164.jpg',\n",
      " 'z0Muc7aDmSS6GuC+xrx9VBOJEfbKK5i/fCSDcsJFcaI=': 'images_to_upload/IMG_0315.jpg'}\n"
     ]
    }
   ],
   "source": [
    "hash_to_image = {}\n",
    "images_hashes = []\n",
    "\n",
    "for idx, item in enumerate(images_paths):\n",
    "    item_hash = sly.fs.get_file_hash(item)\n",
    "    images_hashes.append(item_hash)\n",
    "    hash_to_image[item_hash] = item\n",
    "#pprint.pprint(images_hashes)\n",
    "pprint.pprint(hash_to_image)"
   ]
  },
  {
   "cell_type": "markdown",
   "metadata": {},
   "source": [
    "# Get hashes that are already on server"
   ]
  },
  {
   "cell_type": "code",
   "execution_count": 47,
   "metadata": {},
   "outputs": [
    {
     "name": "stdout",
     "output_type": "stream",
     "text": [
      "{'7bssCHBSspbfU5IXyAy89NE4ZtT13seIEyP46CvHw3I=': 'images_to_upload/image_03.jpeg',\n",
      " 'QZXPQjcsXMuSSxHtK00qlDys+zo4o08tlNbwF8po1S8=': 'images_to_upload/image_02_y.jpeg',\n",
      " 'RjO0Jfb0mKyoChaimr7yfAx5L9kQoWBr3Vd3vza/+Vc=': 'images_to_upload/image_01.jpeg',\n",
      " 'TeHa9M1gQTz2F1hh4oQL7LWRaiWTEVP/gM+Ae9mTZaU=': 'images_to_upload/image_02.jpeg',\n",
      " 'Y9+aWgu2XXF3hdPV2nZauQoyLZxajAGAGPt0AZSEMqw=': 'images_to_upload/image_01_x.jpeg',\n",
      " 'z0Muc7aDmSS6GuC+xrx9VBOJEfbKK5i/fCSDcsJFcaI=': 'images_to_upload/IMG_0315.jpg'}\n"
     ]
    }
   ],
   "source": [
    "remote_hashes = api.image.check_existing_hashes(images_hashes)\n",
    "already_uploaded_images = {hh: hash_to_image[hh] for hh in remote_hashes}\n",
    "pprint.pprint(already_uploaded_images)"
   ]
  },
  {
   "cell_type": "code",
   "execution_count": 49,
   "metadata": {},
   "outputs": [],
   "source": [
    "# Find hashes of images that should be uploaded"
   ]
  },
  {
   "cell_type": "code",
   "execution_count": 50,
   "metadata": {},
   "outputs": [
    {
     "name": "stdout",
     "output_type": "stream",
     "text": [
      "{'Y2H/xhCs61l8nwRr2howW71PJFtS/GGaRac3tOkxc/w=': 'images_to_upload/adorable-animal-blur-cat-617278.jpg',\n",
      " 'gNbD/201JoxZe2xGcxuAA6DEUcBIwQRGXBGehEYs8ZY=': 'images_to_upload/adorable-animal-breed-canine-434090.jpg',\n",
      " 'om8cqJRQTV2ir/hh8/B7NkQvabuj8CUNcSuGeW7i8WE=': 'images_to_upload/grey-and-white-short-fur-cat-104827.jpg',\n",
      " 'pB6T7Fn262CNnevD0YQFtfcJg4m53LZzLx8S9TmJ5No=': 'images_to_upload/adult-black-pug-1851164.jpg'}\n"
     ]
    }
   ],
   "source": [
    "# new_images - images that don't exist in the server storage\n",
    "new_hashes = set(images_hashes) - set(remote_hashes)\n",
    "new_images = {hh: hash_to_image[hh] for hh in new_hashes}\n",
    "pprint.pprint(new_images)"
   ]
  },
  {
   "cell_type": "markdown",
   "metadata": {},
   "source": [
    "# Create dataset for new images"
   ]
  },
  {
   "cell_type": "code",
   "execution_count": 73,
   "metadata": {},
   "outputs": [
    {
     "name": "stdout",
     "output_type": "stream",
     "text": [
      "Dataset: id=275583, name='batch X: 13-02-2020 08:05:25'\n"
     ]
    }
   ],
   "source": [
    "new_dataset_name = \"batch X: {}\".format(datetime.now().strftime(\"%d-%m-%Y %H:%M:%S\"))\n",
    "dataset = api.dataset.create(project.id, new_dataset_name, description=\"new images\", change_name_if_conflict=False)\n",
    "print(\"Dataset: id={}, name={!r}\".format(dataset.id, new_dataset_name))#dataset.name))"
   ]
  },
  {
   "cell_type": "markdown",
   "metadata": {},
   "source": [
    "# Upload images to the created dataset"
   ]
  },
  {
   "cell_type": "code",
   "execution_count": 65,
   "metadata": {},
   "outputs": [
    {
     "name": "stdout",
     "output_type": "stream",
     "text": [
      "['images_to_upload/grey-and-white-short-fur-cat-104827.jpg',\n",
      " 'images_to_upload/adult-black-pug-1851164.jpg',\n",
      " 'images_to_upload/adorable-animal-breed-canine-434090.jpg',\n",
      " 'images_to_upload/adorable-animal-blur-cat-617278.jpg']\n"
     ]
    }
   ],
   "source": [
    "paths_to_upload = list(new_images.values())\n",
    "pprint.pprint(paths_to_upload)"
   ]
  },
  {
   "cell_type": "code",
   "execution_count": 67,
   "metadata": {},
   "outputs": [
    {
     "name": "stdout",
     "output_type": "stream",
     "text": [
      "['grey-and-white-short-fur-cat-104827.jpg',\n",
      " 'adult-black-pug-1851164.jpg',\n",
      " 'adorable-animal-breed-canine-434090.jpg',\n",
      " 'adorable-animal-blur-cat-617278.jpg']\n"
     ]
    }
   ],
   "source": [
    "names_to_upload = [sly.fs.get_file_name_with_ext(path)  for path in paths_to_upload]\n",
    "pprint.pprint(names_to_upload)"
   ]
  },
  {
   "cell_type": "code",
   "execution_count": 62,
   "metadata": {},
   "outputs": [],
   "source": [
    "uploaded_images_infos = api.image.upload_paths(dataset.id, names_to_upload, paths_to_upload)"
   ]
  },
  {
   "cell_type": "code",
   "execution_count": 71,
   "metadata": {},
   "outputs": [
    {
     "name": "stdout",
     "output_type": "stream",
     "text": [
      "uploaded images:\n",
      "id=131702135, name='grey-and-white-short-fur-cat-104827.jpg'\n",
      "id=131702136, name='adult-black-pug-1851164.jpg'\n",
      "id=131702137, name='adorable-animal-breed-canine-434090.jpg'\n",
      "id=131702138, name='adorable-animal-blur-cat-617278.jpg'\n"
     ]
    }
   ],
   "source": [
    "print(\"uploaded images:\")\n",
    "for info in uploaded_images_infos:\n",
    "    print(\"id={}, name={!r}\".format(info.id, info.name))"
   ]
  },
  {
   "cell_type": "markdown",
   "metadata": {},
   "source": [
    "# Done!"
   ]
  },
  {
   "cell_type": "code",
   "execution_count": null,
   "metadata": {},
   "outputs": [],
   "source": []
  }
 ],
 "metadata": {
  "kernelspec": {
   "display_name": "Python 3",
   "language": "python",
   "name": "python3"
  },
  "language_info": {
   "codemirror_mode": {
    "name": "ipython",
    "version": 3
   },
   "file_extension": ".py",
   "mimetype": "text/x-python",
   "name": "python",
   "nbconvert_exporter": "python",
   "pygments_lexer": "ipython3",
   "version": "3.6.5"
  }
 },
 "nbformat": 4,
 "nbformat_minor": 2
}
