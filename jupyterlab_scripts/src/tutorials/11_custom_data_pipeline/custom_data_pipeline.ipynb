{
 "cells": [
  {
   "cell_type": "markdown",
   "metadata": {},
   "source": [
    "# Supervisely Tutorial #11"
   ]
  },
  {
   "cell_type": "markdown",
   "metadata": {},
   "source": [
    "Usecase description:\n",
    "\n",
    "We have to label cats and dogs on the same images that come every day. This tutorial illustrates SDK/API methods useful for organizing a custom data pipeline:\n",
    "\n",
    "1. Upload an incoming batch of images to the new dataset **“batch X: {date-time}”** in the **“INBOX”** project\n",
    "2. Copy created dataset to two labeling projects: **\"CATS\"** and **\"DOGS\"**. Project **“CATS”** will be used to create labeling jobs to annotate cats on images. Project **“DOGS”** will be used to create labeling jobs to annotate dogs on images.\n",
    "3. Once the corresponding labeling jobs are finished, annotations of cats and dogs on the same images will be merged and the merged data will be copied to project **“FINAL”** to dataset  **“batch X: {date-time}”**.\n",
    "\n",
    "This example allows us to organize and automate the data/labeling pipeline. The selected naming convention of projects and datasets helps to keep process simple and straightforward.\n"
   ]
  },
  {
   "cell_type": "markdown",
   "metadata": {},
   "source": [
    "# Imports"
   ]
  },
  {
   "cell_type": "code",
   "execution_count": 1,
   "metadata": {},
   "outputs": [],
   "source": [
    "import os\n",
    "import supervisely_lib as sly\n",
    "from datetime import datetime\n",
    "import pprint"
   ]
  },
  {
   "cell_type": "code",
   "execution_count": 2,
   "metadata": {},
   "outputs": [],
   "source": [
    "import numpy as np\n",
    "import requests"
   ]
  },
  {
   "cell_type": "markdown",
   "metadata": {},
   "source": [
    "# Initialize API access with your credentials"
   ]
  },
  {
   "cell_type": "code",
   "execution_count": 3,
   "metadata": {},
   "outputs": [
    {
     "name": "stdout",
     "output_type": "stream",
     "text": [
      "Server address:  http://192.168.1.69:5777/\n"
     ]
    }
   ],
   "source": [
    "address = os.environ['SERVER_ADDRESS']\n",
    "token = os.environ['API_TOKEN']\n",
    "\n",
    "print(\"Server address: \", address)\n",
    "#print(\"Your API token: \", token)"
   ]
  },
  {
   "cell_type": "markdown",
   "metadata": {},
   "source": [
    "# Initialize the API access object"
   ]
  },
  {
   "cell_type": "code",
   "execution_count": 4,
   "metadata": {},
   "outputs": [],
   "source": [
    "api = sly.Api(address, token)"
   ]
  },
  {
   "cell_type": "markdown",
   "metadata": {},
   "source": [
    "# Script parameters"
   ]
  },
  {
   "cell_type": "code",
   "execution_count": 5,
   "metadata": {},
   "outputs": [],
   "source": [
    "team_name = \"max\"\n",
    "workspace_name = \"Pipeline: Cats + Dogs\"\n",
    "project_name_inbox = \"inbox\"\n",
    "project_name_cats = \"cats\"\n",
    "project_name_dogs = \"dogs\"\n",
    "project_name_final = \"final\"\n",
    "\n",
    "# new batch images\n",
    "images_urls = [\n",
    "    \"https://m.media-amazon.com/images/M/MV5BMTkxNTIyNzMxMV5BMl5BanBnXkFtZTcwMTQ3OTczNQ@@._V1_SY1000_CR0,0,1487,1000_AL_.jpg\",\n",
    "    \"https://m.media-amazon.com/images/M/MV5BMTkyMTQ1Njk2Nl5BMl5BanBnXkFtZTcwOTQ3OTczNQ@@._V1_SY1000_CR0,0,672,1000_AL_.jpg\",\n",
    "    \"https://m.media-amazon.com/images/M/MV5BNDc4MjUzNTYwOF5BMl5BanBnXkFtZTcwNjM2NDkxNA@@._V1_.jpg\"\n",
    "    \"https://m.media-amazon.com/images/M/MV5BMTAyMDM5OTIzNDdeQTJeQWpwZ15BbWU3MDY0Nzk3MzU@._V1_SY1000_CR0,0,1487,1000_AL_.jpg\",\n",
    "    \"https://m.media-amazon.com/images/M/MV5BMTYxNzUxODEyMV5BMl5BanBnXkFtZTcwMzQ3OTczNQ@@._V1_SY1000_CR0,0,1487,1000_AL_.jpg\",\n",
    "    \n",
    "]"
   ]
  },
  {
   "cell_type": "markdown",
   "metadata": {},
   "source": [
    "# Verify of initialize parameters"
   ]
  },
  {
   "cell_type": "code",
   "execution_count": 6,
   "metadata": {},
   "outputs": [
    {
     "name": "stdout",
     "output_type": "stream",
     "text": [
      "Team: id=6, name='max'\n",
      "Workspace: id=13, name='Pipeline: Cats + Dogs'\n"
     ]
    }
   ],
   "source": [
    "team = api.team.get_info_by_name(team_name)\n",
    "if team is None:\n",
    "    raise RuntimeError(\"Team {!r} not found\".format(team_name))\n",
    "\n",
    "workspace = api.workspace.get_info_by_name(team.id, workspace_name)\n",
    "if workspace is None:\n",
    "    workspace = api.workspace.create(team.id, workspace_name)\n",
    "\n",
    "print(\"Team: id={}, name={!r}\".format(team.id, team.name))\n",
    "print(\"Workspace: id={}, name={!r}\".format(workspace.id, workspace.name))"
   ]
  },
  {
   "cell_type": "code",
   "execution_count": 7,
   "metadata": {},
   "outputs": [],
   "source": [
    "def get_or_create_project(api, workspace_id, project_name):\n",
    "    project = api.project.get_info_by_name(workspace_id, project_name)\n",
    "    if project is None:\n",
    "        project = api.project.create(workspace_id, project_name, change_name_if_conflict=True)\n",
    "    return project"
   ]
  },
  {
   "cell_type": "code",
   "execution_count": 8,
   "metadata": {},
   "outputs": [
    {
     "name": "stdout",
     "output_type": "stream",
     "text": [
      "id=30, name='inbox'\n",
      "id=31, name='cats'\n",
      "id=32, name='dogs'\n",
      "id=33, name='final'\n"
     ]
    }
   ],
   "source": [
    "project_inbox = get_or_create_project(api, workspace.id, project_name_inbox)\n",
    "project_cats = get_or_create_project(api, workspace.id, project_name_cats)\n",
    "project_dogs = get_or_create_project(api, workspace.id, project_name_dogs)\n",
    "project_final = get_or_create_project(api, workspace.id, project_name_final)\n",
    "\n",
    "print(\"id={}, name={!r}\".format(project_inbox.id, project_inbox.name))\n",
    "print(\"id={}, name={!r}\".format(project_cats.id, project_cats.name))\n",
    "print(\"id={}, name={!r}\".format(project_dogs.id, project_dogs.name))\n",
    "print(\"id={}, name={!r}\".format(project_final.id, project_final.name))"
   ]
  },
  {
   "cell_type": "markdown",
   "metadata": {},
   "source": [
    "### Populate projects \"cats\" and \"dogs\" with classes to label"
   ]
  },
  {
   "cell_type": "code",
   "execution_count": 9,
   "metadata": {},
   "outputs": [
    {
     "name": "stdout",
     "output_type": "stream",
     "text": [
      "ProjectMeta:\n",
      "Object Classes\n",
      "+------+-----------+---------------+\n",
      "| Name |   Shape   |     Color     |\n",
      "+------+-----------+---------------+\n",
      "| cat  | Rectangle | [15, 138, 60] |\n",
      "+------+-----------+---------------+\n",
      "Tags\n",
      "+------+------------+-----------------+\n",
      "| Name | Value type | Possible values |\n",
      "+------+------------+-----------------+\n",
      "+------+------------+-----------------+\n",
      "\n"
     ]
    }
   ],
   "source": [
    "project_meta_cats = sly.ProjectMeta.from_json(api.project.get_meta(project_cats.id))\n",
    "project_meta_cats = project_meta_cats.add_obj_class(sly.ObjClass(\"cat\", sly.Rectangle))\n",
    "print(project_meta_cats)\n",
    "api.project.update_meta(project_cats.id, project_meta_cats.to_json())"
   ]
  },
  {
   "cell_type": "code",
   "execution_count": 10,
   "metadata": {},
   "outputs": [
    {
     "name": "stdout",
     "output_type": "stream",
     "text": [
      "ProjectMeta:\n",
      "Object Classes\n",
      "+------+---------+---------------+\n",
      "| Name |  Shape  |     Color     |\n",
      "+------+---------+---------------+\n",
      "| dog  | Polygon | [138, 91, 15] |\n",
      "+------+---------+---------------+\n",
      "Tags\n",
      "+------+------------+-----------------+\n",
      "| Name | Value type | Possible values |\n",
      "+------+------------+-----------------+\n",
      "+------+------------+-----------------+\n",
      "\n"
     ]
    }
   ],
   "source": [
    "project_meta_dogs = sly.ProjectMeta.from_json(api.project.get_meta(project_dogs.id))\n",
    "project_meta_dogs = project_meta_dogs.add_obj_class(sly.ObjClass(\"dog\", sly.Polygon))\n",
    "print(project_meta_dogs)\n",
    "api.project.update_meta(project_dogs.id, project_meta_dogs.to_json())"
   ]
  },
  {
   "cell_type": "code",
   "execution_count": 11,
   "metadata": {},
   "outputs": [
    {
     "name": "stdout",
     "output_type": "stream",
     "text": [
      "ProjectMeta:\n",
      "Object Classes\n",
      "+------+-----------+---------------+\n",
      "| Name |   Shape   |     Color     |\n",
      "+------+-----------+---------------+\n",
      "| dog  |  Polygon  | [138, 91, 15] |\n",
      "| cat  | Rectangle | [15, 138, 60] |\n",
      "+------+-----------+---------------+\n",
      "Tags\n",
      "+------+------------+-----------------+\n",
      "| Name | Value type | Possible values |\n",
      "+------+------------+-----------------+\n",
      "+------+------------+-----------------+\n",
      "\n"
     ]
    }
   ],
   "source": [
    "project_meta_final = project_meta_cats.merge(project_meta_dogs)\n",
    "api.project.update_meta(project_final.id, project_meta_final.to_json())\n",
    "print(project_meta_final)"
   ]
  },
  {
   "cell_type": "markdown",
   "metadata": {},
   "source": [
    "# Create new dataset for new batch of data"
   ]
  },
  {
   "cell_type": "code",
   "execution_count": 12,
   "metadata": {},
   "outputs": [
    {
     "name": "stdout",
     "output_type": "stream",
     "text": [
      "New dataset is created: id=33, name='batch_001: 13-02-2020'\n"
     ]
    }
   ],
   "source": [
    "datasets = api.dataset.get_list(project_inbox.id)\n",
    "new_dataset_name = \"batch_{:03d}: {}\".format(len(datasets) + 1, datetime.now().strftime(\"%d-%m-%Y\"))\n",
    "\n",
    "new_dataset = api.dataset.create(project_inbox.id, new_dataset_name)\n",
    "print(\"New dataset is created: id={}, name={!r}\".format(new_dataset.id, new_dataset.name))"
   ]
  },
  {
   "cell_type": "markdown",
   "metadata": {},
   "source": [
    "# Upload new incoming data"
   ]
  },
  {
   "cell_type": "code",
   "execution_count": 13,
   "metadata": {},
   "outputs": [],
   "source": [
    "def download_image_by_url(image_url):\n",
    "    response = requests.get(image_url)\n",
    "    # Wrap the raw encoded image bytes.\n",
    "    # Decode the JPEG data. Make sure to use our decoding wrapper to\n",
    "    # guarantee the right number and order of color channels.\n",
    "    img = sly.image.read_bytes(response.content)\n",
    "    return img"
   ]
  },
  {
   "cell_type": "markdown",
   "metadata": {},
   "source": [
    "In this example we dicided to demonstrate, how to upload images in numpy format. If you are interested in other upload methods, please check following guids in Explore section: \"Upload local images to Supervisely Instance\", \"Upload project\", \"Create project using images urls\" or others.\n",
    "\n",
    "Please, notice, that all upload methods in SDK checks if image exists in Supervisely Storage. It means, that before uploading SKD methods check existence and upload data only for new images. Existing images will be uploaded by unique hashes. It allows to have same image in multiple datasets and project, but physically image is stored without duplicates. Also such mechanism allows to optimize image storage and network usage."
   ]
  },
  {
   "cell_type": "code",
   "execution_count": 14,
   "metadata": {},
   "outputs": [
    {
     "name": "stdout",
     "output_type": "stream",
     "text": [
      "Image has been successfully added: id = 1568, name = 'image_00000.jpg'\n",
      "Image has been successfully added: id = 1569, name = 'image_00001.jpg'\n",
      "Image has been successfully added: id = 1570, name = 'image_00002.jpg'\n",
      "Image has been successfully added: id = 1571, name = 'image_00003.jpg'\n"
     ]
    }
   ],
   "source": [
    "for idx, image_url in enumerate(images_urls):\n",
    "    name = \"image_{:05d}.jpg\".format(idx)\n",
    "    img = download_image_by_url(image_url)\n",
    "    img_info = api.image.upload_np(new_dataset.id, name, img)\n",
    "    print(\"Image has been successfully added: id = {}, name = {!r}\".format(img_info.id, img_info.name))"
   ]
  },
  {
   "cell_type": "markdown",
   "metadata": {},
   "source": [
    "# Copy uploaded data to labeling projects"
   ]
  },
  {
   "cell_type": "code",
   "execution_count": 15,
   "metadata": {},
   "outputs": [],
   "source": [
    "def copy_dataset(dst_project, src_dataset):\n",
    "    copied_dataset = api.dataset.copy(dst_project.id, \n",
    "                                      src_dataset.id, \n",
    "                                      src_dataset.name, \n",
    "                                      with_annotations=False,\n",
    "                                      change_name_if_conflict=False)\n",
    "\n",
    "    print(\"Dataset has been successfully copied to project {!r}: id = {}, name = {!r}\".format(dst_project.name, \n",
    "                                                                                              copied_dataset.id, \n",
    "                                                                                              copied_dataset.name))\n",
    "    return copied_dataset"
   ]
  },
  {
   "cell_type": "code",
   "execution_count": 16,
   "metadata": {},
   "outputs": [
    {
     "name": "stdout",
     "output_type": "stream",
     "text": [
      "Dataset has been successfully copied to project 'cats': id = 34, name = 'batch_001: 13-02-2020'\n"
     ]
    }
   ],
   "source": [
    "new_dataset_cats = copy_dataset(project_cats, new_dataset)"
   ]
  },
  {
   "cell_type": "code",
   "execution_count": 17,
   "metadata": {},
   "outputs": [
    {
     "name": "stdout",
     "output_type": "stream",
     "text": [
      "Dataset has been successfully copied to project 'dogs': id = 35, name = 'batch_001: 13-02-2020'\n"
     ]
    }
   ],
   "source": [
    "new_dataset_dogs = copy_dataset(project_dogs, new_dataset)"
   ]
  },
  {
   "cell_type": "markdown",
   "metadata": {},
   "source": [
    "# Create labeling jobs"
   ]
  },
  {
   "cell_type": "code",
   "execution_count": 18,
   "metadata": {},
   "outputs": [
    {
     "name": "stdout",
     "output_type": "stream",
     "text": [
      "Labeler #1: id=6 login='max'\n",
      "Labeler #2: id=7 login='john'\n"
     ]
    }
   ],
   "source": [
    "# Change here for your case. Take into account, that users have to be invited to the team\n",
    "members = api.user.get_team_members(team.id)\n",
    "#print(members)\n",
    "labeler01 = members[0]\n",
    "labeler02 = members[1]\n",
    "#########################\n",
    "\n",
    "print(\"Labeler #1: id={} login={!r}\".format(labeler01.id, labeler01.login))\n",
    "print(\"Labeler #2: id={} login={!r}\".format(labeler02.id, labeler02.login))"
   ]
  },
  {
   "cell_type": "code",
   "execution_count": 28,
   "metadata": {},
   "outputs": [],
   "source": [
    "def create_labeling_job_for_new_dataset(api, team, project, dataset_to_label, labeler_id):\n",
    "    project_related_jobs = api.labeling_job.get_list(team.id, project_id=project.id)\n",
    "    cnt_jobs = len(project_related_jobs)\n",
    "    \n",
    "    lj_01 = api.labeling_job.create(name=\"{}_{:03d} [{}]\".format(project.name, cnt_jobs + 1, dataset_to_label.name),\n",
    "                                    dataset_id=dataset_to_label.id,\n",
    "                                    user_ids=[labeler_id],\n",
    "                                    readme=\"\",\n",
    "                                    description=\"\")\n",
    "    \n",
    "    lj_01 = lj_01[0]\n",
    "    print(\"Labeling jobs has been created: id={} name={!r}\".format(lj_01.id, lj_01.name))\n",
    "    \n",
    "    # lj_01 is a list with one item in most cases. Number of created labeling jobs depends on the setting, \n",
    "    # for examaple: if we define several users during creation, dataset images will be equally splitted to these users and several labeling jobs will be created.\n",
    "    # WARNING: please, pass readme and description, even if you don't want to define them directly. Puclic API has a bug, that will be fixed in next release. "
   ]
  },
  {
   "cell_type": "code",
   "execution_count": 29,
   "metadata": {},
   "outputs": [
    {
     "name": "stdout",
     "output_type": "stream",
     "text": [
      "Labeling jobs has been created: id=9 name='cats_005 [batch_001: 13-02-2020]'\n"
     ]
    }
   ],
   "source": [
    "create_labeling_job_for_new_dataset(api, team, project_cats, new_dataset_cats, labeler01.id)"
   ]
  },
  {
   "cell_type": "code",
   "execution_count": 30,
   "metadata": {},
   "outputs": [
    {
     "name": "stdout",
     "output_type": "stream",
     "text": [
      "Labeling jobs has been created: id=10 name='dogs_002 [batch_001: 13-02-2020]'\n"
     ]
    }
   ],
   "source": [
    "create_labeling_job_for_new_dataset(api, team, project_dogs, new_dataset_dogs, labeler02.id)"
   ]
  },
  {
   "cell_type": "markdown",
   "metadata": {},
   "source": [
    "### Additional Info:\n",
    "Lear more about users/labeling jobs API in tutorial: https://github.com/supervisely/supervisely/blob/master/help/jupyterlab_scripts/src/tutorials/08_users_labeling_jobs_example/users_labeling_jobs_example.ipynb"
   ]
  },
  {
   "cell_type": "markdown",
   "metadata": {},
   "source": [
    "# Combine labeled cats and docs and copy dataset to the final project"
   ]
  },
  {
   "cell_type": "code",
   "execution_count": 34,
   "metadata": {},
   "outputs": [],
   "source": [
    "# new_dataset_cats and new_dataset_dogs are already labeled"
   ]
  },
  {
   "cell_type": "code",
   "execution_count": 36,
   "metadata": {},
   "outputs": [
    {
     "name": "stdout",
     "output_type": "stream",
     "text": [
      "ProjectMeta:\n",
      "Object Classes\n",
      "+------+-----------+---------------+\n",
      "| Name |   Shape   |     Color     |\n",
      "+------+-----------+---------------+\n",
      "| dog  |  Polygon  | [138, 91, 15] |\n",
      "| cat  | Rectangle | [15, 138, 60] |\n",
      "+------+-----------+---------------+\n",
      "Tags\n",
      "+------+------------+-----------------+\n",
      "| Name | Value type | Possible values |\n",
      "+------+------------+-----------------+\n",
      "+------+------------+-----------------+\n",
      "\n"
     ]
    }
   ],
   "source": [
    "project_meta_final = sly.ProjectMeta.from_json(api.project.get_meta(project_final.id))\n",
    "print(project_meta_final)"
   ]
  },
  {
   "cell_type": "code",
   "execution_count": 40,
   "metadata": {},
   "outputs": [
    {
     "name": "stdout",
     "output_type": "stream",
     "text": [
      "Dataset has been successfully copied to project 'final': id = 36, name = 'batch_001: 13-02-2020'\n"
     ]
    }
   ],
   "source": [
    "new_dataset_final = copy_dataset(project_final, new_dataset)"
   ]
  },
  {
   "cell_type": "code",
   "execution_count": 37,
   "metadata": {},
   "outputs": [],
   "source": [
    "# images names in both datasets (new_dataset_cats and new_dataset_dogs) are the same because they are copies of a single dataset in \"Inbox\" project"
   ]
  },
  {
   "cell_type": "code",
   "execution_count": 44,
   "metadata": {},
   "outputs": [],
   "source": [
    "imgs_cats = api.image.get_list(new_dataset_cats.id)\n",
    "imgs_dogs = api.image.get_list(new_dataset_cats.id)\n",
    "\n",
    "name_to_id_cats = {info.name : info.id for info in imgs_cats}\n",
    "name_to_id_dogs = {info.name : info.id for info in imgs_dogs}\n",
    "\n",
    "names = list(name_to_id_cats.keys())\n",
    "for name in names:\n",
    "    id_cat = name_to_id_cats[name]\n",
    "    id_dog = name_to_id_dogs[name]\n",
    "    \n",
    "    ann_cat = sly.Annotation.from_json(api.annotation.download(image_id=id_cat).annotation, project_meta_final) \n",
    "    ann_dog = sly.Annotation.from_json(api.annotation.download(image_id=id_dog).annotation, project_meta_final)\n",
    "    \n",
    "    ann_merged = ann_cat.add_labels(ann_dog.labels)\n",
    "    \n",
    "    #if you need to merge tags, just uncomment this line \n",
    "    #ann_merged = ann_merged.add_tags(ann_dog.tags())\n",
    "    \n",
    "    img_final = api.image.get_info_by_name(new_dataset_final.id, name)\n",
    "    api.annotation.upload_ann(img_final.id, ann_merged)"
   ]
  },
  {
   "cell_type": "markdown",
   "metadata": {},
   "source": [
    "# Done!"
   ]
  }
 ],
 "metadata": {
  "kernelspec": {
   "display_name": "Python 3",
   "language": "python",
   "name": "python3"
  },
  "language_info": {
   "codemirror_mode": {
    "name": "ipython",
    "version": 3
   },
   "file_extension": ".py",
   "mimetype": "text/x-python",
   "name": "python",
   "nbconvert_exporter": "python",
   "pygments_lexer": "ipython3",
   "version": "3.6.5"
  }
 },
 "nbformat": 4,
 "nbformat_minor": 2
}
