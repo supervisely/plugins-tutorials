{
 "cells": [
  {
   "cell_type": "markdown",
   "metadata": {},
   "source": [
    "# Imports"
   ]
  },
  {
   "cell_type": "code",
   "execution_count": 6,
   "metadata": {},
   "outputs": [],
   "source": [
    "import os\n",
    "import supervisely_lib as sly\n",
    "import pprint"
   ]
  },
  {
   "cell_type": "markdown",
   "metadata": {},
   "source": [
    "# Initialize API access with your credentials"
   ]
  },
  {
   "cell_type": "code",
   "execution_count": 7,
   "metadata": {},
   "outputs": [
    {
     "name": "stdout",
     "output_type": "stream",
     "text": [
      "Server address:  192.168.1.69:5555\n",
      "Your API token:  HfQ2owV8QjwojwnTiaPzIyEZtncIBjISnQqgBzKmDTjTL6WmV80kbd9J5DHu8PnCPVBqWBUXcOQlqjUBiCrQuUBxh562iaqAzqa4z80lJYjvxTFky5RbHDXregjOf2y8\n"
     ]
    }
   ],
   "source": [
    "address = os.environ['SERVER_ADDRESS']\n",
    "token = os.environ['API_TOKEN']\n",
    "\n",
    "print(\"Server address: \", address)\n",
    "print(\"Your API token: \", token)\n",
    "\n",
    "# Initialize the API access object.\n",
    "api = sly.Api(address, token)"
   ]
  },
  {
   "cell_type": "markdown",
   "metadata": {},
   "source": [
    "# Print all roles that are available on private Supervisely instance"
   ]
  },
  {
   "cell_type": "code",
   "execution_count": 8,
   "metadata": {},
   "outputs": [
    {
     "name": "stdout",
     "output_type": "stream",
     "text": [
      "[RoleInfo(id=1, role='admin', created_at='2019-04-11T10:52:06.517Z', updated_at='2019-04-11T10:52:06.517Z'),\n",
      " RoleInfo(id=2, role='developer', created_at='2019-04-11T10:52:06.517Z', updated_at='2019-04-11T10:52:06.517Z'),\n",
      " RoleInfo(id=3, role='annotator', created_at='2019-04-11T10:52:06.517Z', updated_at='2019-04-11T10:52:06.517Z'),\n",
      " RoleInfo(id=4, role='viewer', created_at='2019-04-11T10:52:06.517Z', updated_at='2019-04-11T10:52:06.517Z')]\n"
     ]
    }
   ],
   "source": [
    "roles = api.role.get_list()\n",
    "pprint.pprint(roles)"
   ]
  },
  {
   "cell_type": "markdown",
   "metadata": {},
   "source": [
    "# List all registered users"
   ]
  },
  {
   "cell_type": "code",
   "execution_count": 9,
   "metadata": {},
   "outputs": [
    {
     "name": "stdout",
     "output_type": "stream",
     "text": [
      "Total number of users:  22\n",
      "Id: 1     Login: admin                     logins_count: 88   \n",
      "Id: 2     Login: supervisely               logins_count: 0    \n",
      "Id: 3     Login: andrew                    logins_count: 18   \n",
      "Id: 4     Login: max                       logins_count: 7    \n",
      "Id: 5     Login: antonc                    logins_count: 24   \n",
      "Id: 6     Login: umar                      logins_count: 9    \n",
      "Id: 7     Login: dima                      logins_count: 2    \n",
      "Id: 8     Login: denis                     logins_count: 1    \n",
      "Id: 9     Login: xxx                       logins_count: 0    \n",
      "Id: 10    Login: test2                     logins_count: 1    \n",
      "Id: 11    Login: test3                     logins_count: 2    \n",
      "Id: 12    Login: umar1                     logins_count: 2    \n",
      "Id: 13    Login: anna                      logins_count: 1    \n",
      "Id: 14    Login: demo_user                 logins_count: 0    \n",
      "Id: 20    Login: demo_user1                logins_count: 0    \n",
      "Id: 22    Login: demo_user2                logins_count: 0    \n",
      "Id: 24    Login: demo_user3                logins_count: 0    \n",
      "Id: 25    Login: demo_user4                logins_count: 0    \n",
      "Id: 29    Login: labeler_01                logins_count: 0    \n",
      "Id: 30    Login: labeler_02                logins_count: 0    \n",
      "Id: 31    Login: labeler_03                logins_count: 0    \n",
      "Id: 32    Login: alex                      logins_count: 0    \n",
      "\n"
     ]
    }
   ],
   "source": [
    "users = api.user.get_list()\n",
    "print('Total number of users: ', len(users))\n",
    "for user in users:\n",
    "    print(\"Id: {:<5} Login: {:<25s} logins_count: {:<5}\".format(user.id, user.login, user.logins))\n",
    "print()"
   ]
  },
  {
   "cell_type": "markdown",
   "metadata": {},
   "source": [
    "# Get UserInfo by ID"
   ]
  },
  {
   "cell_type": "code",
   "execution_count": 10,
   "metadata": {},
   "outputs": [
    {
     "name": "stdout",
     "output_type": "stream",
     "text": [
      "UserInfo(id=14, login='demo_user', name='', email=None, logins=0, disabled=False, last_login=None, created_at='2019-07-18T15:57:27.271Z', updated_at='2019-07-18T15:57:27.271Z')\n"
     ]
    }
   ],
   "source": [
    "user14_info = api.user.get_info_by_id(14)\n",
    "print(user14_info)"
   ]
  },
  {
   "cell_type": "markdown",
   "metadata": {},
   "source": [
    "# Get UserInfo by login"
   ]
  },
  {
   "cell_type": "code",
   "execution_count": 11,
   "metadata": {},
   "outputs": [
    {
     "name": "stdout",
     "output_type": "stream",
     "text": [
      "UserInfo(id=4, login='max', name='max_k', email=None, logins=7, disabled=False, last_login='2019-08-02T09:18:09.155Z', created_at='2019-04-11T10:59:50.472Z', updated_at='2019-08-04T17:06:39.414Z')\n"
     ]
    }
   ],
   "source": [
    "user_info = api.user.get_info_by_login('max')\n",
    "print(user_info)"
   ]
  },
  {
   "cell_type": "markdown",
   "metadata": {},
   "source": [
    "# Update user info"
   ]
  },
  {
   "cell_type": "code",
   "execution_count": 12,
   "metadata": {},
   "outputs": [
    {
     "name": "stdout",
     "output_type": "stream",
     "text": [
      "UserInfo(id=4, login='max', name='max_k', email=None, logins=7, disabled=False, last_login='2019-08-02T09:18:09.155Z', created_at='2019-04-11T10:59:50.472Z', updated_at='2019-08-05T08:42:20.463Z')\n"
     ]
    }
   ],
   "source": [
    "new_password = '123321'\n",
    "new_name = 'max_k'\n",
    "user_info = api.user.update(user_info.id, password=new_password, name=new_name)\n",
    "print(user_info)"
   ]
  },
  {
   "cell_type": "markdown",
   "metadata": {},
   "source": [
    "# Get User Membership (list all user teams with corresponding roles)"
   ]
  },
  {
   "cell_type": "code",
   "execution_count": 13,
   "metadata": {},
   "outputs": [
    {
     "name": "stdout",
     "output_type": "stream",
     "text": [
      "\n",
      "Teams of user 'andrew':\n",
      "[team_id=7] team_x                    [role_id=1] admin\n",
      "[team_id=3] jupyter_tutorials         [role_id=1] admin\n",
      "\n"
     ]
    }
   ],
   "source": [
    "def print_user_teams(login):\n",
    "    user = api.user.get_info_by_login(login)\n",
    "    user_teams = api.user.get_teams(user.id)\n",
    "    print(\"\\nTeams of user {!r}:\".format(login))\n",
    "    for team in user_teams:\n",
    "        print(\"[team_id={}] {:<25s} [role_id={}] {}\".format(team.id, team.name, team.role_id, team.role))\n",
    "    print()\n",
    "\n",
    "print_user_teams('andrew')"
   ]
  },
  {
   "cell_type": "markdown",
   "metadata": {},
   "source": [
    "# Create new user"
   ]
  },
  {
   "cell_type": "code",
   "execution_count": 14,
   "metadata": {},
   "outputs": [
    {
     "name": "stdout",
     "output_type": "stream",
     "text": [
      "UserInfo(id=25, login='demo_user4', name='', email=None, logins=0, disabled=False, last_login=None, created_at='2019-07-19T09:44:45.750Z', updated_at='2019-08-03T16:17:15.228Z')\n"
     ]
    }
   ],
   "source": [
    "new_user = api.user.get_info_by_login('demo_user4')\n",
    "if new_user is None:\n",
    "    new_user = api.user.create(login='demo_user4', password='123abc', is_restricted=False)\n",
    "print(new_user)"
   ]
  },
  {
   "cell_type": "markdown",
   "metadata": {},
   "source": [
    "# Disable/Enable user"
   ]
  },
  {
   "cell_type": "code",
   "execution_count": 15,
   "metadata": {},
   "outputs": [],
   "source": [
    "api.user.disable(new_user.id)\n",
    "api.user.enable(new_user.id)"
   ]
  },
  {
   "cell_type": "markdown",
   "metadata": {},
   "source": [
    "# Invite user to team"
   ]
  },
  {
   "cell_type": "code",
   "execution_count": 16,
   "metadata": {},
   "outputs": [
    {
     "name": "stdout",
     "output_type": "stream",
     "text": [
      "\n",
      "Teams of user 'demo_user4':\n",
      "[team_id=22] demo_user4                [role_id=1] admin\n",
      "[team_id=4] max                       [role_id=3] annotator\n",
      "\n"
     ]
    }
   ],
   "source": [
    "user = api.user.get_info_by_login('demo_user4')\n",
    "team = api.team.get_info_by_name('max')\n",
    "if api.user.get_team_role(user.id, team.id) is None:\n",
    "    api.user.add_to_team(user.id, team.id, api.role.DefaultRole.ANNOTATOR) #TODO: {\"error\":\"NONUNIQUE\",\"details\":\"User already in this team\"\n",
    "print_user_teams(user.login)"
   ]
  },
  {
   "cell_type": "markdown",
   "metadata": {},
   "source": [
    "# List all team users with corresponding roles"
   ]
  },
  {
   "cell_type": "code",
   "execution_count": 17,
   "metadata": {},
   "outputs": [
    {
     "name": "stdout",
     "output_type": "stream",
     "text": [
      "\n",
      "All members in team 'max'\n",
      "[UserInfo(id=4, login='max', name='max_k', email=None, logins=7, disabled=False, last_login='2019-08-02T09:18:09.155Z', created_at='2019-04-11T10:59:50.472Z', updated_at='2019-08-05T08:42:20.463Z'),\n",
      " UserInfo(id=25, login='demo_user4', name='', email=None, logins=0, disabled=False, last_login=None, created_at='2019-07-19T09:44:45.750Z', updated_at='2019-08-05T08:42:21.934Z'),\n",
      " UserInfo(id=29, login='labeler_01', name='', email=None, logins=0, disabled=False, last_login=None, created_at='2019-07-20T15:12:51.898Z', updated_at='2019-07-20T16:55:19.917Z'),\n",
      " UserInfo(id=30, login='labeler_02', name='', email=None, logins=0, disabled=False, last_login=None, created_at='2019-07-20T15:12:52.448Z', updated_at='2019-07-20T15:12:52.448Z'),\n",
      " UserInfo(id=31, login='labeler_03', name='', email=None, logins=0, disabled=False, last_login=None, created_at='2019-07-20T15:12:52.779Z', updated_at='2019-07-20T15:12:52.779Z')]\n"
     ]
    }
   ],
   "source": [
    "team = api.team.get_info_by_name('max')\n",
    "members = api.user.get_team_members(team.id)\n",
    "print(\"\\nAll members in team {!r}\".format(team.name))\n",
    "pprint.pprint(members)"
   ]
  },
  {
   "cell_type": "markdown",
   "metadata": {},
   "source": [
    "# Change user role in team"
   ]
  },
  {
   "cell_type": "code",
   "execution_count": 18,
   "metadata": {},
   "outputs": [
    {
     "name": "stdout",
     "output_type": "stream",
     "text": [
      "\n",
      "Teams of user 'demo_user4':\n",
      "[team_id=22] demo_user4                [role_id=1] admin\n",
      "[team_id=4] max                       [role_id=4] viewer\n",
      "\n"
     ]
    }
   ],
   "source": [
    "user = api.user.get_info_by_login('demo_user4')\n",
    "team = api.team.get_info_by_name('max')\n",
    "api.user.change_team_role(user.id, team.id, api.role.DefaultRole.VIEWER)\n",
    "print_user_teams('demo_user4')"
   ]
  },
  {
   "cell_type": "markdown",
   "metadata": {},
   "source": [
    "# Remove user from team"
   ]
  },
  {
   "cell_type": "code",
   "execution_count": 19,
   "metadata": {},
   "outputs": [
    {
     "name": "stdout",
     "output_type": "stream",
     "text": [
      "\n",
      "Teams of user 'demo_user4':\n",
      "[team_id=22] demo_user4                [role_id=1] admin\n",
      "\n"
     ]
    }
   ],
   "source": [
    "team = api.team.get_info_by_name('max')\n",
    "user = api.user.get_info_by_login('demo_user4')\n",
    "api.user.remove_from_team(user.id, team.id)\n",
    "print_user_teams('demo_user4')"
   ]
  },
  {
   "cell_type": "markdown",
   "metadata": {},
   "source": [
    "# Labeling jobs"
   ]
  },
  {
   "cell_type": "code",
   "execution_count": 20,
   "metadata": {},
   "outputs": [],
   "source": [
    "# create accounts for annotators with restrictions (learn more here: https://docs.enterprise.supervise.ly/jobs/)\n",
    "# user will be able to login only after being added to at least one command"
   ]
  },
  {
   "cell_type": "code",
   "execution_count": 21,
   "metadata": {},
   "outputs": [],
   "source": [
    "labeler01 = api.user.get_info_by_login(login='labeler_01')\n",
    "if labeler01 is None:\n",
    "    labeler01 = api.user.create(login='labeler_01', password='labeler01pass', is_restricted=True)\n",
    "\n",
    "labeler02 = api.user.get_info_by_login(login='labeler_02')\n",
    "if labeler02 is None:\n",
    "    labeler02 = api.user.create(login='labeler_02', password='labeler02pass', is_restricted=True)"
   ]
  },
  {
   "cell_type": "markdown",
   "metadata": {},
   "source": [
    "## Step 1. Before creating labeling Job, it is needed to add annotators to team"
   ]
  },
  {
   "cell_type": "code",
   "execution_count": 22,
   "metadata": {},
   "outputs": [],
   "source": [
    "team = api.team.get_info_by_name('max')\n",
    "workspace = api.workspace.get_info_by_name(team.id, 'First Workspace')\n",
    "\n",
    "if api.user.get_team_role(labeler01.id, team.id) is None:\n",
    "    api.user.add_to_team(labeler01.id, team.id, api.role.DefaultRole.ANNOTATOR)\n",
    "if api.user.get_team_role(labeler02.id, team.id) is None:\n",
    "    api.user.add_to_team(labeler02.id, team.id, api.role.DefaultRole.ANNOTATOR)"
   ]
  },
  {
   "cell_type": "markdown",
   "metadata": {},
   "source": [
    "## Step 2. Define project and datasets to label"
   ]
  },
  {
   "cell_type": "code",
   "execution_count": 23,
   "metadata": {},
   "outputs": [
    {
     "name": "stdout",
     "output_type": "stream",
     "text": [
      "ProjectMeta:\n",
      "Object Classes\n",
      "+--------+-----------+----------------+\n",
      "|  Name  |   Shape   |     Color      |\n",
      "+--------+-----------+----------------+\n",
      "|  bike  | Rectangle | [246, 255, 0]  |\n",
      "|  car   |  Polygon  | [190, 85, 206] |\n",
      "|  dog   |  Polygon  |  [253, 0, 0]   |\n",
      "| person |   Bitmap  |  [0, 255, 18]  |\n",
      "+--------+-----------+----------------+\n",
      "Tags\n",
      "+---------------+--------------+-----------------------+\n",
      "|      Name     |  Value type  |    Possible values    |\n",
      "+---------------+--------------+-----------------------+\n",
      "|   car_color   |  any_string  |          None         |\n",
      "|  cars_number  |  any_number  |          None         |\n",
      "|      like     |     none     |          None         |\n",
      "| person_gender | oneof_string |   ['male', 'female']  |\n",
      "|    situated   | oneof_string | ['inside', 'outside'] |\n",
      "|  vehicle_age  | oneof_string | ['modern', 'vintage'] |\n",
      "+---------------+--------------+-----------------------+\n",
      "\n",
      "[DatasetInfo(id=1585, name='dataset_01', description='', size='1277440', project_id=511, images_count=3, created_at='2019-07-18T15:39:57.377Z', updated_at='2019-07-18T15:39:57.377Z'),\n",
      " DatasetInfo(id=1586, name='dataset_02', description='', size='704971', project_id=511, images_count=2, created_at='2019-07-18T15:39:57.377Z', updated_at='2019-07-18T15:39:57.377Z')]\n"
     ]
    }
   ],
   "source": [
    "project = api.project.get_info_by_name(workspace.id, 'tutorial_project')\n",
    "project_meta_json = api.project.get_meta(project.id)\n",
    "project_meta = sly.ProjectMeta.from_json(project_meta_json)\n",
    "print(project_meta)\n",
    "\n",
    "datasets = api.dataset.get_list(project.id)\n",
    "pprint.pprint(datasets)"
   ]
  },
  {
   "cell_type": "markdown",
   "metadata": {},
   "source": [
    "## Labeler1 will label cars on the first dataset"
   ]
  },
  {
   "cell_type": "code",
   "execution_count": 24,
   "metadata": {},
   "outputs": [
    {
     "name": "stdout",
     "output_type": "stream",
     "text": [
      "[LabelingJobInfo(id=37, name='labeler1_cars_task (#18)', readme='annotation manual for cars in markdown format here (optional)', description='short description is here (optional)', team_id=4, workspace_id=7, workspace_name='First Workspace', project_id=511, project_name='tutorial_project', dataset_id=1585, dataset_name='dataset_01', created_by_id=4, created_by_login='max', assigned_to_id=29, assigned_to_login='labeler_01', created_at='2019-08-05T08:42:30.588Z', started_at=None, finished_at=None, status='pending', disabled=False, images_count=3, finished_images_count=0, rejected_images_count=0, accepted_images_count=0, classes_to_label=[], tags_to_label=[], images_range=(None, None), objects_limit_per_image=None, tags_limit_per_image=None, filter_images_by_tags=[], include_images_with_tags=[], exclude_images_with_tags=[])]\n"
     ]
    }
   ],
   "source": [
    "created_jobs = api.labeling_job.create(name='labeler1_cars_task',\n",
    "                                       dataset_id=datasets[0].id,\n",
    "                                       user_ids=[labeler01.id],\n",
    "                                       readme='annotation manual for cars in markdown format here (optional)',\n",
    "                                       description='short description is here (optional)',\n",
    "                                       classes_to_label=[\"car\"])\n",
    "pprint.pprint(created_jobs)"
   ]
  },
  {
   "cell_type": "markdown",
   "metadata": {},
   "source": [
    "## Stop Labeling Job, job will be unavailable for labeler"
   ]
  },
  {
   "cell_type": "code",
   "execution_count": 25,
   "metadata": {},
   "outputs": [],
   "source": [
    "api.labeling_job.stop(created_jobs[0].id)"
   ]
  },
  {
   "cell_type": "markdown",
   "metadata": {},
   "source": [
    "## Labeler2 will label cars on the first dataset"
   ]
  },
  {
   "cell_type": "code",
   "execution_count": 26,
   "metadata": {},
   "outputs": [
    {
     "name": "stdout",
     "output_type": "stream",
     "text": [
      "[LabelingJobInfo(id=38, name='labeler2_task_with_complex_settings (#9)', readme='annotation manual for cars in markdown format here (optional)', description='short description is here (optional)', team_id=4, workspace_id=7, workspace_name='First Workspace', project_id=511, project_name='tutorial_project', dataset_id=1585, dataset_name='dataset_01', created_by_id=4, created_by_login='max', assigned_to_id=30, assigned_to_login='labeler_02', created_at='2019-08-05T08:42:36.092Z', started_at=None, finished_at=None, status='pending', disabled=False, images_count=3, finished_images_count=0, rejected_images_count=0, accepted_images_count=0, classes_to_label=[], tags_to_label=[], images_range=(None, None), objects_limit_per_image=2, tags_limit_per_image=5, filter_images_by_tags=[{'id': 4174, 'positive': False, 'name': 'situated'}], include_images_with_tags=[], exclude_images_with_tags=['situated'])]\n"
     ]
    }
   ],
   "source": [
    "created_jobs = api.labeling_job.create(name='labeler2_task_with_complex_settings',\n",
    "                                       dataset_id=datasets[0].id,\n",
    "                                       user_ids=[labeler02.id],\n",
    "                                       readme='annotation manual for cars in markdown format here (optional)',\n",
    "                                       description='short description is here (optional)',\n",
    "                                       classes_to_label=[\"car\", 'bike'],\n",
    "                                       objects_limit_per_image=2,\n",
    "                                       tags_to_label=[\"car_color\", \"vehicle_age\"],\n",
    "                                       tags_limit_per_image=5,\n",
    "                                       exclude_images_with_tags=[\"situated\"]\n",
    "                                       )\n",
    "pprint.pprint(created_jobs)"
   ]
  },
  {
   "cell_type": "markdown",
   "metadata": {},
   "source": [
    "# Get all labeling jobs in a team"
   ]
  },
  {
   "cell_type": "code",
   "execution_count": 27,
   "metadata": {},
   "outputs": [
    {
     "name": "stdout",
     "output_type": "stream",
     "text": [
      "[LabelingJobInfo(id=37, name='labeler1_cars_task (#18)', readme='annotation manual for cars in markdown format here (optional)', description='short description is here (optional)', team_id=4, workspace_id=7, workspace_name='First Workspace', project_id=511, project_name='tutorial_project', dataset_id=1585, dataset_name='dataset_01', created_by_id=4, created_by_login='max', assigned_to_id=29, assigned_to_login='labeler_01', created_at='2019-08-05T08:42:30.588Z', started_at=None, finished_at=None, status='stopped', disabled=False, images_count=3, finished_images_count=0, rejected_images_count=0, accepted_images_count=0, classes_to_label=[], tags_to_label=[], images_range=(None, None), objects_limit_per_image=None, tags_limit_per_image=None, filter_images_by_tags=[], include_images_with_tags=[], exclude_images_with_tags=[]),\n",
      " LabelingJobInfo(id=38, name='labeler2_task_with_complex_settings (#9)', readme='annotation manual for cars in markdown format here (optional)', description='short description is here (optional)', team_id=4, workspace_id=7, workspace_name='First Workspace', project_id=511, project_name='tutorial_project', dataset_id=1585, dataset_name='dataset_01', created_by_id=4, created_by_login='max', assigned_to_id=30, assigned_to_login='labeler_02', created_at='2019-08-05T08:42:36.092Z', started_at=None, finished_at=None, status='pending', disabled=False, images_count=3, finished_images_count=0, rejected_images_count=0, accepted_images_count=0, classes_to_label=[], tags_to_label=[], images_range=(None, None), objects_limit_per_image=2, tags_limit_per_image=5, filter_images_by_tags=[{'id': 4174, 'positive': False, 'title': 'situated'}], include_images_with_tags=[], exclude_images_with_tags=['situated'])]\n"
     ]
    }
   ],
   "source": [
    "jobs = api.labeling_job.get_list(team.id)\n",
    "pprint.pprint(jobs)"
   ]
  },
  {
   "cell_type": "markdown",
   "metadata": {},
   "source": [
    "## Labeling Jobs Filtering (filters [created_by_id, assigned_to_id, project_id, dataset_id] can be used in various combinations)"
   ]
  },
  {
   "cell_type": "markdown",
   "metadata": {},
   "source": [
    "## Get all labeling that were created by user 'max'"
   ]
  },
  {
   "cell_type": "code",
   "execution_count": 28,
   "metadata": {},
   "outputs": [
    {
     "name": "stdout",
     "output_type": "stream",
     "text": [
      "[LabelingJobInfo(id=37, name='labeler1_cars_task (#18)', readme='annotation manual for cars in markdown format here (optional)', description='short description is here (optional)', team_id=4, workspace_id=7, workspace_name='First Workspace', project_id=511, project_name='tutorial_project', dataset_id=1585, dataset_name='dataset_01', created_by_id=4, created_by_login='max', assigned_to_id=29, assigned_to_login='labeler_01', created_at='2019-08-05T08:42:30.588Z', started_at=None, finished_at=None, status='stopped', disabled=False, images_count=3, finished_images_count=0, rejected_images_count=0, accepted_images_count=0, classes_to_label=[], tags_to_label=[], images_range=(None, None), objects_limit_per_image=None, tags_limit_per_image=None, filter_images_by_tags=[], include_images_with_tags=[], exclude_images_with_tags=[]),\n",
      " LabelingJobInfo(id=38, name='labeler2_task_with_complex_settings (#9)', readme='annotation manual for cars in markdown format here (optional)', description='short description is here (optional)', team_id=4, workspace_id=7, workspace_name='First Workspace', project_id=511, project_name='tutorial_project', dataset_id=1585, dataset_name='dataset_01', created_by_id=4, created_by_login='max', assigned_to_id=30, assigned_to_login='labeler_02', created_at='2019-08-05T08:42:36.092Z', started_at=None, finished_at=None, status='pending', disabled=False, images_count=3, finished_images_count=0, rejected_images_count=0, accepted_images_count=0, classes_to_label=[], tags_to_label=[], images_range=(None, None), objects_limit_per_image=2, tags_limit_per_image=5, filter_images_by_tags=[{'id': 4174, 'positive': False, 'title': 'situated'}], include_images_with_tags=[], exclude_images_with_tags=['situated'])]\n"
     ]
    }
   ],
   "source": [
    "user = api.user.get_info_by_login('max')\n",
    "jobs = api.labeling_job.get_list(team.id, created_by_id=user.id)\n",
    "pprint.pprint(jobs)"
   ]
  },
  {
   "cell_type": "markdown",
   "metadata": {},
   "source": [
    "## Get all labeling that were created by user 'max' and were assigned to labeler02"
   ]
  },
  {
   "cell_type": "code",
   "execution_count": 29,
   "metadata": {},
   "outputs": [
    {
     "name": "stdout",
     "output_type": "stream",
     "text": [
      "[LabelingJobInfo(id=38, name='labeler2_task_with_complex_settings (#9)', readme='annotation manual for cars in markdown format here (optional)', description='short description is here (optional)', team_id=4, workspace_id=7, workspace_name='First Workspace', project_id=511, project_name='tutorial_project', dataset_id=1585, dataset_name='dataset_01', created_by_id=4, created_by_login='max', assigned_to_id=30, assigned_to_login='labeler_02', created_at='2019-08-05T08:42:36.092Z', started_at=None, finished_at=None, status='pending', disabled=False, images_count=3, finished_images_count=0, rejected_images_count=0, accepted_images_count=0, classes_to_label=[], tags_to_label=[], images_range=(None, None), objects_limit_per_image=2, tags_limit_per_image=5, filter_images_by_tags=[{'id': 4174, 'positive': False, 'title': 'situated'}], include_images_with_tags=[], exclude_images_with_tags=['situated'])]\n"
     ]
    }
   ],
   "source": [
    "jobs = api.labeling_job.get_list(team.id, created_by_id=user.id, assigned_to_id=labeler02.id)\n",
    "pprint.pprint(jobs)"
   ]
  },
  {
   "cell_type": "markdown",
   "metadata": {},
   "source": [
    "## Archive Labeling Job"
   ]
  },
  {
   "cell_type": "code",
   "execution_count": 30,
   "metadata": {},
   "outputs": [],
   "source": [
    "api.labeling_job.archive(jobs[0].id)"
   ]
  },
  {
   "cell_type": "markdown",
   "metadata": {},
   "source": [
    "## Get all active labeling jobs in a team"
   ]
  },
  {
   "cell_type": "code",
   "execution_count": 31,
   "metadata": {},
   "outputs": [
    {
     "name": "stdout",
     "output_type": "stream",
     "text": [
      "[LabelingJobInfo(id=37, name='labeler1_cars_task (#18)', readme='annotation manual for cars in markdown format here (optional)', description='short description is here (optional)', team_id=4, workspace_id=7, workspace_name='First Workspace', project_id=511, project_name='tutorial_project', dataset_id=1585, dataset_name='dataset_01', created_by_id=4, created_by_login='max', assigned_to_id=29, assigned_to_login='labeler_01', created_at='2019-08-05T08:42:30.588Z', started_at=None, finished_at=None, status='stopped', disabled=False, images_count=3, finished_images_count=0, rejected_images_count=0, accepted_images_count=0, classes_to_label=[], tags_to_label=[], images_range=(None, None), objects_limit_per_image=None, tags_limit_per_image=None, filter_images_by_tags=[], include_images_with_tags=[], exclude_images_with_tags=[])]\n"
     ]
    }
   ],
   "source": [
    "jobs = api.labeling_job.get_list(team.id)\n",
    "pprint.pprint(jobs)"
   ]
  },
  {
   "cell_type": "markdown",
   "metadata": {},
   "source": [
    "# Labeling Jobs Statuses"
   ]
  },
  {
   "cell_type": "markdown",
   "metadata": {},
   "source": [
    "`api.labeling_job.Status.PENDING` - labeling job is created, labeler still has not started\n",
    "\n",
    "`api.labeling_job.Status.IN_PROGRESS` - labeler started, but not finished\n",
    "\n",
    "`api.labeling_job.Status.ON_REVIEW` - labeler finished his job, reviewer is in progress\n",
    "\n",
    "`api.labeling_job.Status.COMPLETED` - reviewer completed job\n",
    "\n",
    "`api.labeling_job.Status.STOPPED` - job was stopped at some stage"
   ]
  },
  {
   "cell_type": "code",
   "execution_count": 33,
   "metadata": {},
   "outputs": [
    {
     "data": {
      "text/plain": [
       "<Status.STOPPED: 'stopped'>"
      ]
     },
     "execution_count": 33,
     "metadata": {},
     "output_type": "execute_result"
    }
   ],
   "source": [
    "job_id = 37\n",
    "api.labeling_job.get_status(job_id)"
   ]
  },
  {
   "cell_type": "code",
   "execution_count": 37,
   "metadata": {},
   "outputs": [
    {
     "data": {
      "text/plain": [
       "<Status.PENDING: 'pending'>"
      ]
     },
     "execution_count": 37,
     "metadata": {},
     "output_type": "execute_result"
    }
   ],
   "source": [
    "job_id = 39\n",
    "api.labeling_job.get_status(job_id)"
   ]
  },
  {
   "cell_type": "code",
   "execution_count": 38,
   "metadata": {},
   "outputs": [
    {
     "name": "stdout",
     "output_type": "stream",
     "text": [
      "Labeler finished his work\n",
      "Reviewer finished job review\n"
     ]
    }
   ],
   "source": [
    "api.labeling_job.wait(job_id, target_status=api.labeling_job.Status.ON_REVIEW) # it means that labeler is finished \n",
    "print('Labeler finished his work')\n",
    "api.labeling_job.wait(job_id, target_status=api.labeling_job.Status.COMPLETED) # it meant that reviewer is finished\n",
    "print('Reviewer finished job review')"
   ]
  },
  {
   "cell_type": "code",
   "execution_count": null,
   "metadata": {},
   "outputs": [],
   "source": []
  }
 ],
 "metadata": {
  "kernelspec": {
   "display_name": "Python 3",
   "language": "python",
   "name": "python3"
  },
  "language_info": {
   "codemirror_mode": {
    "name": "ipython",
    "version": 3
   },
   "file_extension": ".py",
   "mimetype": "text/x-python",
   "name": "python",
   "nbconvert_exporter": "python",
   "pygments_lexer": "ipython3",
   "version": "3.6.5"
  }
 },
 "nbformat": 4,
 "nbformat_minor": 2
}
