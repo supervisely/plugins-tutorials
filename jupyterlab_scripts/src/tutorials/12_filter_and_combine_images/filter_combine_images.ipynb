{
 "cells": [
  {
   "cell_type": "markdown",
   "metadata": {},
   "source": [
    "# Filter and combine images (custom scenario)\n",
    "\n",
    "This notebook shows how to filter images by names from different datasets and combine them to a single dataset.\n",
    "\n",
    "**Input**:\n",
    "\n",
    "We have a project with the following structure:\n",
    "```\n",
    "├── dataset_01\n",
    "│   ├── dataset_1_img_1.jpg\n",
    "│   ├── dataset_1_img_10.jpg\n",
    "│   ├── dataset_1_img_11.jpg\n",
    "│   ├── dataset_1_img_12.jpg\n",
    "│   ├── dataset_1_img_2.jpg\n",
    "│   ├── dataset_1_img_3.jpg\n",
    "│   ├── dataset_1_img_4.jpg\n",
    "│   ├── dataset_1_img_5.jpg\n",
    "│   ├── dataset_1_img_6.jpg\n",
    "│   ├── dataset_1_img_7.jpg\n",
    "│   ├── dataset_1_img_8.jpg\n",
    "│   └── dataset_1_img_9.jpg\n",
    "├── dataset_02\n",
    "│   ├── dataset_2_img_1.jpg\n",
    "│   ├── dataset_2_img_2.jpg\n",
    "│   └── dataset_2_img_3.jpg\n",
    "└── dataset_03\n",
    "    ├── dataset_3_img_1.jpg\n",
    "    ├── dataset_3_img_2.jpg\n",
    "    ├── dataset_3_img_3.jpg\n",
    "    ├── dataset_3_img_4.jpg\n",
    "    ├── dataset_3_img_5.jpg\n",
    "    ├── dataset_3_img_6.jpg\n",
    "    └── dataset_3_img_7.jpg\n",
    "```\n",
    "\n",
    "**Output**:\n",
    "- We would like to create a new project with only images that satisfy a custom criteria (e.g. images have names from dataset_1_img_3 to dataset_X_img_11). So the resulting project will contain:\n",
    "\n",
    "```\n",
    "├── dataset_01\n",
    "│   ├── dataset_1_img_10.jpg\n",
    "│   ├── dataset_1_img_11.jpg\n",
    "│   ├── dataset_1_img_3.jpg\n",
    "│   ├── dataset_1_img_4.jpg\n",
    "│   ├── dataset_1_img_5.jpg\n",
    "│   ├── dataset_1_img_6.jpg\n",
    "│   ├── dataset_1_img_7.jpg\n",
    "│   ├── dataset_1_img_8.jpg\n",
    "│   └── dataset_1_img_9.jpg\n",
    "├── dataset_02\n",
    "│   └── dataset_2_img_3.jpg\n",
    "└── dataset_03\n",
    "    ├── dataset_3_img_3.jpg\n",
    "    ├── dataset_3_img_4.jpg\n",
    "    ├── dataset_3_img_5.jpg\n",
    "    ├── dataset_3_img_6.jpg\n",
    "    └── dataset_3_img_7.jpg\n",
    "    \n",
    "```\n"
   ]
  },
  {
   "cell_type": "markdown",
   "metadata": {},
   "source": [
    "## Imports"
   ]
  },
  {
   "cell_type": "code",
   "execution_count": 98,
   "metadata": {},
   "outputs": [],
   "source": [
    "import supervisely_lib as sly\n",
    "import os"
   ]
  },
  {
   "cell_type": "code",
   "execution_count": 99,
   "metadata": {},
   "outputs": [],
   "source": [
    "import re"
   ]
  },
  {
   "cell_type": "markdown",
   "metadata": {},
   "source": [
    "## Initialize API access with your credentials"
   ]
  },
  {
   "cell_type": "code",
   "execution_count": 100,
   "metadata": {},
   "outputs": [],
   "source": [
    "# Obtain server address and your api_token from environment variables\n",
    "# Edit those values if you run this notebook on your own PC\n",
    "address = os.environ['SERVER_ADDRESS']\n",
    "token = os.environ['API_TOKEN']"
   ]
  },
  {
   "cell_type": "markdown",
   "metadata": {},
   "source": [
    "## Initialize the API access object"
   ]
  },
  {
   "cell_type": "code",
   "execution_count": 101,
   "metadata": {},
   "outputs": [],
   "source": [
    "api = sly.Api(address, token)"
   ]
  },
  {
   "cell_type": "markdown",
   "metadata": {},
   "source": [
    "## Script parameters"
   ]
  },
  {
   "cell_type": "code",
   "execution_count": 102,
   "metadata": {},
   "outputs": [],
   "source": [
    "team_name = \"max\"\n",
    "workspace_name = \"ipynb_filter_combine_images\"\n",
    "project_name = \"project_x\"\n",
    "\n",
    "result_project_name = \"project_filtered\"\n",
    "\n",
    "# if you put None then images will be puted to the datasets with original names in result project. \n",
    "# if you define name directly, the dataset with this name will be created in result project \n",
    "# and all filtered images will be combined and putted in it\n",
    "result_dataset_name = None #\"combined_ds\"\n",
    "\n",
    "image_ids_range = [3, 11]"
   ]
  },
  {
   "cell_type": "markdown",
   "metadata": {},
   "source": [
    "## Verify input values"
   ]
  },
  {
   "cell_type": "code",
   "execution_count": 103,
   "metadata": {},
   "outputs": [
    {
     "name": "stdout",
     "output_type": "stream",
     "text": [
      "Team: id=600, name=max\n",
      "Workspace: id=27434, name=ipynb_filter_combine_images\n",
      "Project: id=62482, name=project_x\n"
     ]
    }
   ],
   "source": [
    "team = api.team.get_info_by_name(team_name)\n",
    "if team is None:\n",
    "    raise RuntimeError(\"Team {!r} not found\".format(team_name))\n",
    "\n",
    "workspace = api.workspace.get_info_by_name(team.id, workspace_name)\n",
    "if workspace is None:\n",
    "    raise RuntimeError(\"Workspace {!r} not found\".format(workspace_name))\n",
    "    \n",
    "project = api.project.get_info_by_name(workspace.id, project_name)\n",
    "if project is None:\n",
    "    raise RuntimeError(\"Project {!r} not found\".format(project_name))\n",
    "    \n",
    "print(\"Team: id={}, name={}\".format(team.id, team.name))\n",
    "print(\"Workspace: id={}, name={}\".format(workspace.id, workspace.name))\n",
    "print(\"Project: id={}, name={}\".format(project.id, project.name))"
   ]
  },
  {
   "cell_type": "markdown",
   "metadata": {},
   "source": [
    "## Create resulting project"
   ]
  },
  {
   "cell_type": "code",
   "execution_count": 104,
   "metadata": {},
   "outputs": [
    {
     "name": "stdout",
     "output_type": "stream",
     "text": [
      "Resulting project: id=62502, name=project_filtered\n"
     ]
    }
   ],
   "source": [
    "res_project = api.project.create(workspace.id, result_project_name, change_name_if_conflict=True)\n",
    "print(\"Resulting project: id={}, name={}\".format(res_project.id, res_project.name))"
   ]
  },
  {
   "cell_type": "code",
   "execution_count": 105,
   "metadata": {},
   "outputs": [],
   "source": [
    "#clone project meta (list of classes and tags) from input project to the resulting one\n",
    "project_meta_json = api.project.get_meta(project.id)\n",
    "api.project.update_meta(res_project.id, project_meta_json)"
   ]
  },
  {
   "cell_type": "code",
   "execution_count": 106,
   "metadata": {},
   "outputs": [],
   "source": [
    "# create dataset in resulting project if needed\n",
    "res_dataset = None\n",
    "if result_dataset_name is not None:\n",
    "    res_dataset = api.dataset.create(res_project.id, result_dataset_name, change_name_if_conflict=False)"
   ]
  },
  {
   "cell_type": "markdown",
   "metadata": {},
   "source": [
    "## Iterate over all images, filter and combine them if needed"
   ]
  },
  {
   "cell_type": "code",
   "execution_count": 107,
   "metadata": {},
   "outputs": [],
   "source": [
    "# filtering funtion\n",
    "def filter_image_by_name(image_name, image_ids_range=[3, 11]):\n",
    "    need_keep = False\n",
    "    \n",
    "    numbers = list(map(int, re.findall(r'\\d+', image_name))) \n",
    "    image_id = numbers[1]\n",
    "    \n",
    "    if image_id >= image_ids_range[0] and image_id <= image_ids_range[1]:\n",
    "        need_keep = True \n",
    "        \n",
    "    return need_keep"
   ]
  },
  {
   "cell_type": "code",
   "execution_count": 108,
   "metadata": {},
   "outputs": [
    {
     "name": "stdout",
     "output_type": "stream",
     "text": [
      "Dataset: dataset_01\n",
      "Number of copied images = 9\n",
      "Dataset: dataset_03\n",
      "Number of copied images = 5\n",
      "Dataset: dataset_02\n",
      "Number of copied images = 1\n"
     ]
    }
   ],
   "source": [
    "for dataset in api.dataset.get_list(project.id):\n",
    "    print('Dataset: {}'.format(dataset.name), flush=True)\n",
    "    \n",
    "    dst_dataset = None\n",
    "    if result_dataset_name is None:\n",
    "        dst_dataset = api.dataset.create(res_project.id, dataset.name)\n",
    "    else:\n",
    "        dst_dataset = res_dataset\n",
    "        \n",
    "    images_in_dataset = api.image.get_list(dataset.id) \n",
    "    \n",
    "    filtered_image_ids = []\n",
    "    for image_info in images_in_dataset:    \n",
    "        need_keep = filter_image_by_name(image_info.name)\n",
    "        if need_keep == True:\n",
    "            filtered_image_ids.append(image_info.id)     \n",
    "    \n",
    "    if len(filtered_image_ids) > 0:\n",
    "        copied_images = api.image.copy_batch(dst_dataset.id, filtered_image_ids, change_name_if_conflict=False, with_annotations=True)\n",
    "    \n",
    "    print(\"Number of copied images = {}\".format(len(filtered_image_ids)))"
   ]
  },
  {
   "cell_type": "code",
   "execution_count": null,
   "metadata": {},
   "outputs": [],
   "source": []
  }
 ],
 "metadata": {
  "kernelspec": {
   "display_name": "Python 3",
   "language": "python",
   "name": "python3"
  },
  "language_info": {
   "codemirror_mode": {
    "name": "ipython",
    "version": 3
   },
   "file_extension": ".py",
   "mimetype": "text/x-python",
   "name": "python",
   "nbconvert_exporter": "python",
   "pygments_lexer": "ipython3",
   "version": "3.6.5"
  }
 },
 "nbformat": 4,
 "nbformat_minor": 2
}
