{
 "cells": [
  {
   "cell_type": "code",
   "execution_count": 6,
   "metadata": {},
   "outputs": [],
   "source": [
    "import supervisely_lib as sly\n",
    "import os"
   ]
  },
  {
   "cell_type": "code",
   "execution_count": 7,
   "metadata": {},
   "outputs": [],
   "source": [
    "address = os.environ['SERVER_ADDRESS']\n",
    "token = os.environ['API_TOKEN']"
   ]
  },
  {
   "cell_type": "code",
   "execution_count": 8,
   "metadata": {},
   "outputs": [
    {
     "name": "stdout",
     "output_type": "stream",
     "text": [
      "Server address:  http://192.168.1.69:5555\n",
      "Your API token:  OfaV5z24gEQ7ikv2DiVdYu1CXZhMavU7POtJw2iDtQtvGUux31DUyWTXW6mZ0wd3IRuXTNtMFS9pCggewQWRcqSTUi4EJXzly8kH7MJL1hm3uZeM2MCn5HaoEYwXejKT\n"
     ]
    }
   ],
   "source": [
    "print(\"Server address: \", address)\n",
    "print(\"Your API token: \", token)"
   ]
  },
  {
   "cell_type": "code",
   "execution_count": 9,
   "metadata": {},
   "outputs": [],
   "source": [
    "api = sly.Api(address, token)"
   ]
  },
  {
   "cell_type": "code",
   "execution_count": 10,
   "metadata": {},
   "outputs": [
    {
     "name": "stdout",
     "output_type": "stream",
     "text": [
      "Founded 14 teams:\n",
      "9    max            \n",
      "17   test_team_001  \n",
      "18   test_team_002  \n",
      "19   test_team_003  \n",
      "20   test_team_004  \n",
      "21   test_team_005  \n",
      "22   test_team_006  \n",
      "23   test_team_007  \n",
      "24   test_team_008  \n",
      "16   my_super_team  \n",
      "26   test_team_009  \n",
      "25   my_super_team_001\n",
      "27   my_super_team_002\n",
      "28   my_super_team_003\n"
     ]
    }
   ],
   "source": [
    "# get all user teams\n",
    "user_teams = api.team.get_list()\n",
    "print(\"Founded {} teams:\".format(len(user_teams)))\n",
    "for team in user_teams:\n",
    "    print(\"{:<5}{:<15s}\".format(team.id, team.name))"
   ]
  },
  {
   "cell_type": "code",
   "execution_count": 11,
   "metadata": {},
   "outputs": [
    {
     "name": "stdout",
     "output_type": "stream",
     "text": [
      "Team information:\n",
      "TeamInfo(id=9, name='max', description='', role='admin', created_at='2019-01-20T13:25:19.142Z', updated_at='2019-01-20T13:25:19.142Z')\n"
     ]
    }
   ],
   "source": [
    "# access to TeamInfo fields\n",
    "team = user_teams[0]\n",
    "print(\"Team information:\")\n",
    "print(team)"
   ]
  },
  {
   "cell_type": "code",
   "execution_count": 12,
   "metadata": {},
   "outputs": [
    {
     "name": "stdout",
     "output_type": "stream",
     "text": [
      "Team (id=29, name='test_team') has been successfully created: \n",
      "TeamInfo(id=29, name='test_team', description='test description', role='admin', created_at='2019-03-13T15:08:23.650Z', updated_at='2019-03-13T15:08:23.650Z')\n"
     ]
    }
   ],
   "source": [
    "# create new team\n",
    "team_name = 'test_team'\n",
    "team_description = 'test description'\n",
    "if api.team.exists(team_name):\n",
    "    team_name = api.team.get_free_name(team_name)\n",
    "created_team = api.team.create(team_name, team_description)\n",
    "print('Team (id={}, name={!r}) has been successfully created: '.format(created_team.id, created_team.name))\n",
    "print(created_team)"
   ]
  },
  {
   "cell_type": "code",
   "execution_count": 13,
   "metadata": {},
   "outputs": [
    {
     "name": "stdout",
     "output_type": "stream",
     "text": [
      "TeamInfo(id=29, name='test_team', description='test description', role='admin', created_at='2019-03-13T15:08:23.650Z', updated_at='2019-03-13T15:08:23.650Z')\n"
     ]
    }
   ],
   "source": [
    "# get team info by name\n",
    "team_name = 'test_team'\n",
    "team = api.team.get_info_by_name(team_name)\n",
    "if team is None:\n",
    "    print(\"Team {!r} not found\".format(team_name))\n",
    "else:\n",
    "    print(team)"
   ]
  },
  {
   "cell_type": "code",
   "execution_count": 14,
   "metadata": {},
   "outputs": [
    {
     "name": "stdout",
     "output_type": "stream",
     "text": [
      "TeamInfo(id=9, name='max', description='', role='admin', created_at='2019-01-20T13:25:19.142Z', updated_at='2019-01-20T13:25:19.142Z')\n"
     ]
    }
   ],
   "source": [
    "# get team info by id\n",
    "user_teams = api.team.get_list()\n",
    "some_team_id = user_teams[0].id\n",
    "team = api.team.get_info_by_id(some_team_id)\n",
    "if team is None:\n",
    "    print(\"Team with id={!r} not found\".format(some_team_id))\n",
    "else:\n",
    "    print(team)"
   ]
  },
  {
   "cell_type": "code",
   "execution_count": 17,
   "metadata": {},
   "outputs": [
    {
     "name": "stdout",
     "output_type": "stream",
     "text": [
      "Before update: TeamInfo(id=29, name='test_team', description='test description', role='admin', created_at='2019-03-13T15:08:23.650Z', updated_at='2019-03-13T15:08:23.650Z')\n",
      "After  update: TeamInfo(id=29, name='my_super_team_004', description='super description', role='admin', created_at='2019-03-13T15:08:23.650Z', updated_at='2019-03-13T15:08:23.650Z')\n"
     ]
    }
   ],
   "source": [
    "# update team name, description, or both\n",
    "new_name = 'my_super_team'\n",
    "new_description = 'super description'\n",
    "if api.team.exists(new_name):\n",
    "    new_name = api.team.get_free_name(new_name)\n",
    "updated_team = api.team.update(created_team.id, new_name, new_description)\n",
    "print(\"Before update: {}\".format(created_team))\n",
    "print(\"After  update: {}\".format(updated_team))"
   ]
  },
  {
   "cell_type": "code",
   "execution_count": null,
   "metadata": {},
   "outputs": [],
   "source": []
  }
 ],
 "metadata": {
  "kernelspec": {
   "display_name": "Python 3",
   "language": "python",
   "name": "python3"
  },
  "language_info": {
   "codemirror_mode": {
    "name": "ipython",
    "version": 3
   },
   "file_extension": ".py",
   "mimetype": "text/x-python",
   "name": "python",
   "nbconvert_exporter": "python",
   "pygments_lexer": "ipython3",
   "version": "3.6.5"
  }
 },
 "nbformat": 4,
 "nbformat_minor": 2
}
