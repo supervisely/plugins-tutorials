{
 "cells": [
  {
   "cell_type": "code",
   "execution_count": 1,
   "metadata": {},
   "outputs": [],
   "source": [
    "import supervisely_lib as sly\n",
    "import os"
   ]
  },
  {
   "cell_type": "code",
   "execution_count": 2,
   "metadata": {},
   "outputs": [],
   "source": [
    "address = os.environ['SERVER_ADDRESS']\n",
    "token = os.environ['API_TOKEN']"
   ]
  },
  {
   "cell_type": "code",
   "execution_count": 3,
   "metadata": {},
   "outputs": [
    {
     "name": "stdout",
     "output_type": "stream",
     "text": [
      "Server address:  http://192.168.1.69:5555\n",
      "Your API token:  OfaV5z24gEQ7ikv2DiVdYu1CXZhMavU7POtJw2iDtQtvGUux31DUyWTXW6mZ0wd3IRuXTNtMFS9pCggewQWRcqSTUi4EJXzly8kH7MJL1hm3uZeM2MCn5HaoEYwXejKT\n"
     ]
    }
   ],
   "source": [
    "print(\"Server address: \", address)\n",
    "print(\"Your API token: \", token)"
   ]
  },
  {
   "cell_type": "code",
   "execution_count": 4,
   "metadata": {},
   "outputs": [],
   "source": [
    "api = sly.Api(address, token)"
   ]
  },
  {
   "cell_type": "code",
   "execution_count": 5,
   "metadata": {},
   "outputs": [
    {
     "name": "stdout",
     "output_type": "stream",
     "text": [
      "Current team: id = 9, name = 'max'\n"
     ]
    }
   ],
   "source": [
    "# get some team\n",
    "team = api.team.get_list()[0]\n",
    "print(\"Current team: id = {}, name = {!r}\".format(team.id, team.name))"
   ]
  },
  {
   "cell_type": "code",
   "execution_count": 6,
   "metadata": {},
   "outputs": [
    {
     "name": "stdout",
     "output_type": "stream",
     "text": [
      "Team 'max' contains 15 workspaces:\n",
      "9    First Workspace\n",
      "10   region_pipeline\n",
      "34   script1        \n",
      "35   dtl_bug        \n",
      "39   script2        \n",
      "40   train_test     \n",
      "41   ws7            \n",
      "44   dfgd           \n",
      "45   test_dtl_segmentation\n",
      "56   test_workspace_001\n",
      "57   test_workspace_002\n",
      "55   my_super_workspace\n",
      "58   test_api       \n",
      "60   test_api2      \n",
      "67   my_super_workspace_001\n"
     ]
    }
   ],
   "source": [
    "# get all workspaces in selected team\n",
    "workspaces = api.workspace.get_list(team_id=team.id)\n",
    "print(\"Team {!r} contains {} workspaces:\".format(team.name, len(workspaces)))\n",
    "for workspace in workspaces:\n",
    "    print(\"{:<5}{:<15s}\".format(workspace.id, workspace.name))"
   ]
  },
  {
   "cell_type": "code",
   "execution_count": 7,
   "metadata": {},
   "outputs": [
    {
     "name": "stdout",
     "output_type": "stream",
     "text": [
      "Workspace information:\n",
      "WorkspaceInfo(id=9, name='First Workspace', description='', team_id=9, created_at='2019-01-20T13:25:19.142Z', updated_at='2019-01-20T13:25:19.142Z')\n"
     ]
    }
   ],
   "source": [
    "# access WorkspaceInfo fields\n",
    "workspace = workspaces[0]\n",
    "print(\"Workspace information:\")\n",
    "print(workspace)"
   ]
  },
  {
   "cell_type": "code",
   "execution_count": 8,
   "metadata": {},
   "outputs": [
    {
     "name": "stdout",
     "output_type": "stream",
     "text": [
      "WorkspaceInfo(id=69, name='test_workspace', description='test ws description', team_id=9, created_at='2019-03-13T15:15:04.039Z', updated_at='2019-03-13T15:15:04.039Z')\n"
     ]
    }
   ],
   "source": [
    "# create new workspace\n",
    "workspace_name = 'test_workspace'\n",
    "if api.workspace.exists(team.id, workspace_name):\n",
    "    workspace_name = api.workspace.get_free_name(team.id, workspace_name)\n",
    "created_workspace = api.workspace.create(team.id, workspace_name, 'test ws description')\n",
    "print(created_workspace)"
   ]
  },
  {
   "cell_type": "code",
   "execution_count": 9,
   "metadata": {},
   "outputs": [
    {
     "name": "stdout",
     "output_type": "stream",
     "text": [
      "WorkspaceInfo(id=69, name='test_workspace', description='test ws description', team_id=9, created_at='2019-03-13T15:15:04.039Z', updated_at='2019-03-13T15:15:04.039Z')\n"
     ]
    }
   ],
   "source": [
    "# get workspace info by name\n",
    "workspace_name = 'test_workspace'\n",
    "workspace = api.workspace.get_info_by_name(team.id, workspace_name)\n",
    "if workspace is None:\n",
    "    print(\"Workspace {!r} not found\".format(workspace_name))\n",
    "else:\n",
    "    print(workspace)"
   ]
  },
  {
   "cell_type": "code",
   "execution_count": 10,
   "metadata": {},
   "outputs": [
    {
     "name": "stdout",
     "output_type": "stream",
     "text": [
      "TeamInfo(id=9, name='max', description='', role='admin', created_at='2019-01-20T13:25:19.142Z', updated_at='2019-01-20T13:25:19.142Z')\n"
     ]
    }
   ],
   "source": [
    "# get workspace info by id\n",
    "some_workspace_id = api.workspace.get_list(team.id)[0].id\n",
    "workspace = api.team.get_info_by_id(some_workspace_id)\n",
    "if workspace is None:\n",
    "    print(\"Workspace with id={!r} not found\".format(some_workspace_id))\n",
    "else:\n",
    "    print(workspace)"
   ]
  },
  {
   "cell_type": "code",
   "execution_count": 11,
   "metadata": {},
   "outputs": [
    {
     "name": "stdout",
     "output_type": "stream",
     "text": [
      "Before update: TeamInfo(id=9, name='max', description='', role='admin', created_at='2019-01-20T13:25:19.142Z', updated_at='2019-01-20T13:25:19.142Z')\n",
      "After  update: WorkspaceInfo(id=9, name='my_super_workspace_002', description='super workspace description', team_id=9, created_at='2019-01-20T13:25:19.142Z', updated_at='2019-01-20T13:25:19.142Z')\n"
     ]
    }
   ],
   "source": [
    "# update workspace name, description, or both\n",
    "new_name = 'my_super_workspace'\n",
    "new_description = 'super workspace description'\n",
    "if api.workspace.exists(team.id, new_name):\n",
    "    new_name = api.workspace.get_free_name(team.id, new_name)\n",
    "updated_workspace = api.workspace.update(workspace.id, new_name, new_description)\n",
    "print(\"Before update: {}\".format(workspace))\n",
    "print(\"After  update: {}\".format(updated_workspace))"
   ]
  },
  {
   "cell_type": "code",
   "execution_count": null,
   "metadata": {},
   "outputs": [],
   "source": []
  }
 ],
 "metadata": {
  "kernelspec": {
   "display_name": "Python 3",
   "language": "python",
   "name": "python3"
  },
  "language_info": {
   "codemirror_mode": {
    "name": "ipython",
    "version": 3
   },
   "file_extension": ".py",
   "mimetype": "text/x-python",
   "name": "python",
   "nbconvert_exporter": "python",
   "pygments_lexer": "ipython3",
   "version": "3.6.5"
  }
 },
 "nbformat": 4,
 "nbformat_minor": 2
}
