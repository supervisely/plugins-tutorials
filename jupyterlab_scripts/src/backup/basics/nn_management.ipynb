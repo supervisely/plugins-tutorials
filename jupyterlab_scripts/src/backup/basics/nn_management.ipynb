{
 "cells": [
  {
   "cell_type": "code",
   "execution_count": 1,
   "metadata": {},
   "outputs": [],
   "source": [
    "import supervisely_lib as sly\n",
    "import os"
   ]
  },
  {
   "cell_type": "code",
   "execution_count": 2,
   "metadata": {},
   "outputs": [],
   "source": [
    "address = os.environ['SERVER_ADDRESS']\n",
    "token = os.environ['API_TOKEN']"
   ]
  },
  {
   "cell_type": "code",
   "execution_count": 3,
   "metadata": {},
   "outputs": [
    {
     "name": "stdout",
     "output_type": "stream",
     "text": [
      "Server address:  http://192.168.1.69:5555\n",
      "Your API token:  OfaV5z24gEQ7ikv2DiVdYu1CXZhMavU7POtJw2iDtQtvGUux31DUyWTXW6mZ0wd3IRuXTNtMFS9pCggewQWRcqSTUi4EJXzly8kH7MJL1hm3uZeM2MCn5HaoEYwXejKT\n"
     ]
    }
   ],
   "source": [
    "print(\"Server address: \", address)\n",
    "print(\"Your API token: \", token)"
   ]
  },
  {
   "cell_type": "code",
   "execution_count": 4,
   "metadata": {},
   "outputs": [],
   "source": [
    "api = sly.Api(address, token)"
   ]
  },
  {
   "cell_type": "code",
   "execution_count": 5,
   "metadata": {},
   "outputs": [
    {
     "name": "stdout",
     "output_type": "stream",
     "text": [
      "Current context: Team 'max', Workspace 'my_super_workspace_002'\n"
     ]
    }
   ],
   "source": [
    "# get some context - team and workspace\n",
    "team = api.team.get_list()[0]\n",
    "workspace = api.workspace.get_list(team.id)[0]\n",
    "print(\"Current context: Team {!r}, Workspace {!r}\".format(team.name, workspace.name))"
   ]
  },
  {
   "cell_type": "code",
   "execution_count": 6,
   "metadata": {},
   "outputs": [
    {
     "name": "stdout",
     "output_type": "stream",
     "text": [
      "Model has been sucessfully cloned from explore: \n",
      "ModelInfo(id=240, name='yolo_coco', description='Trained on COCO. Can be used for both training and inference', config=None, hash='0/o/I7/TaFtVZ8Yk5JXHkBaI9HRTbfqQglvvC7rW8yDqRcFmictKTNsu5oGDxfkVgkVHZ34rFn4dZgVEEexjEjrRcR1pIl2voLTgzKTf5nDRCHEMJLAWleyzFZVJrUEMg3R.tar', only_train=False, plugin_id=6, plugin_version='latest', size='248027648', weights_location='uploaded', readme='', task_id=None, user_id=9, team_id=9, workspace_id=9, created_at='2019-03-13T10:44:12.534Z', updated_at='2019-03-13T10:44:12.534Z')\n"
     ]
    }
   ],
   "source": [
    "# clone from explore\n",
    "model_name = 'yolo_coco'\n",
    "if not api.model.exists(workspace.id, model_name):\n",
    "    task_id = api.model.clone_from_explore('Supervisely/Model Zoo/YOLO v3 (COCO)', workspace.id, model_name)\n",
    "    api.task.wait(task_id, api.task.Status.FINISHED)\n",
    "model = api.model.get_info_by_name(workspace.id, model_name)\n",
    "print(\"Model has been sucessfully cloned from explore: \")\n",
    "print(model)"
   ]
  },
  {
   "cell_type": "code",
   "execution_count": 8,
   "metadata": {},
   "outputs": [
    {
     "name": "stdout",
     "output_type": "stream",
     "text": [
      "Workspace 'my_super_workspace_002' contains 8 models:\n",
      "31   UNet (VGG weights)\n",
      "32   YOLO v3 (COCO) \n",
      "33   nn_01          \n",
      "78   nn_03          \n",
      "79   nn-04          \n",
      "175  nn_x1          \n",
      "176  nn_x1 (#2)     \n",
      "240  yolo_coco      \n"
     ]
    }
   ],
   "source": [
    "# get all neural networks in selected workspace\n",
    "models = api.model.get_list(workspace.id)\n",
    "print(\"Workspace {!r} contains {} models:\".format(workspace.name, len(models)))\n",
    "for model in models:\n",
    "    print(\"{:<5}{:<15s}\".format(model.id, model.name))"
   ]
  },
  {
   "cell_type": "code",
   "execution_count": 10,
   "metadata": {},
   "outputs": [
    {
     "name": "stdout",
     "output_type": "stream",
     "text": [
      "ModelInfo(id=240, name='yolo_coco', description='Trained on COCO. Can be used for both training and inference', config=None, hash='0/o/I7/TaFtVZ8Yk5JXHkBaI9HRTbfqQglvvC7rW8yDqRcFmictKTNsu5oGDxfkVgkVHZ34rFn4dZgVEEexjEjrRcR1pIl2voLTgzKTf5nDRCHEMJLAWleyzFZVJrUEMg3R.tar', only_train=False, plugin_id=6, plugin_version='latest', size='248027648', weights_location='uploaded', readme='', task_id=None, user_id=9, team_id=9, workspace_id=9, created_at='2019-03-13T10:44:12.534Z', updated_at='2019-03-13T10:44:12.534Z')\n"
     ]
    }
   ],
   "source": [
    "# get model info by name\n",
    "model = api.model.get_info_by_name(workspace.id, model_name)\n",
    "if model is None:\n",
    "    print(\"Model {!r} not found\".format(model_name))\n",
    "else:\n",
    "    print(model)"
   ]
  },
  {
   "cell_type": "code",
   "execution_count": 11,
   "metadata": {},
   "outputs": [
    {
     "name": "stdout",
     "output_type": "stream",
     "text": [
      "ModelInfo(id=240, name='yolo_coco', description='Trained on COCO. Can be used for both training and inference', config=None, hash='0/o/I7/TaFtVZ8Yk5JXHkBaI9HRTbfqQglvvC7rW8yDqRcFmictKTNsu5oGDxfkVgkVHZ34rFn4dZgVEEexjEjrRcR1pIl2voLTgzKTf5nDRCHEMJLAWleyzFZVJrUEMg3R.tar', only_train=False, plugin_id=6, plugin_version='latest', size='248027648', weights_location='uploaded', readme='', task_id=None, user_id=9, team_id=9, workspace_id=9, created_at='2019-03-13T10:44:12.534Z', updated_at='2019-03-13T10:44:12.534Z')\n"
     ]
    }
   ],
   "source": [
    "# get model info by id\n",
    "some_team_id = model.id\n",
    "model = api.model.get_info_by_id(some_team_id)\n",
    "if model is None:\n",
    "    print(\"Model with id={!r} not found\".format(some_team_id))\n",
    "else:\n",
    "    print(model)"
   ]
  },
  {
   "cell_type": "code",
   "execution_count": null,
   "metadata": {},
   "outputs": [],
   "source": []
  }
 ],
 "metadata": {
  "kernelspec": {
   "display_name": "Python 3",
   "language": "python",
   "name": "python3"
  },
  "language_info": {
   "codemirror_mode": {
    "name": "ipython",
    "version": 3
   },
   "file_extension": ".py",
   "mimetype": "text/x-python",
   "name": "python",
   "nbconvert_exporter": "python",
   "pygments_lexer": "ipython3",
   "version": "3.6.5"
  }
 },
 "nbformat": 4,
 "nbformat_minor": 2
}
