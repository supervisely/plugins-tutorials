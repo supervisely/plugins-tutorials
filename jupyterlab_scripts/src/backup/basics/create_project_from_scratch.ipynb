{
 "cells": [
  {
   "cell_type": "code",
   "execution_count": 1,
   "metadata": {},
   "outputs": [],
   "source": [
    "import supervisely_lib as sly\n",
    "import os"
   ]
  },
  {
   "cell_type": "code",
   "execution_count": 2,
   "metadata": {},
   "outputs": [],
   "source": [
    "address = os.environ['SERVER_ADDRESS']\n",
    "token = os.environ['API_TOKEN']"
   ]
  },
  {
   "cell_type": "code",
   "execution_count": 3,
   "metadata": {},
   "outputs": [
    {
     "name": "stdout",
     "output_type": "stream",
     "text": [
      "Server address:  http://192.168.1.69:5555\n",
      "Your API token:  OfaV5z24gEQ7ikv2DiVdYu1CXZhMavU7POtJw2iDtQtvGUux31DUyWTXW6mZ0wd3IRuXTNtMFS9pCggewQWRcqSTUi4EJXzly8kH7MJL1hm3uZeM2MCn5HaoEYwXejKT\n"
     ]
    }
   ],
   "source": [
    "print(\"Server address: \", address)\n",
    "print(\"Your API token: \", token)"
   ]
  },
  {
   "cell_type": "code",
   "execution_count": 4,
   "metadata": {},
   "outputs": [],
   "source": [
    "api = sly.Api(address, token)"
   ]
  },
  {
   "cell_type": "code",
   "execution_count": 5,
   "metadata": {},
   "outputs": [
    {
     "name": "stdout",
     "output_type": "stream",
     "text": [
      "Current team: id = 9, name = 'max'\n",
      "Current workspace: id = 9, name = 'my_super_workspace_002'\n"
     ]
    }
   ],
   "source": [
    "team = api.team.get_list()[0]\n",
    "workspace = api.workspace.get_list(team.id)[0]\n",
    "print(\"Current team: id = {}, name = {!r}\".format(team.id, team.name))\n",
    "print(\"Current workspace: id = {}, name = {!r}\".format(workspace.id, workspace.name))"
   ]
  },
  {
   "cell_type": "code",
   "execution_count": 6,
   "metadata": {},
   "outputs": [
    {
     "name": "stdout",
     "output_type": "stream",
     "text": [
      "Project 'project_test_006' has been sucessfully created: \n",
      "ProjectInfo(id=769, name='project_test_006', description='project is created using IPython and Supervisely API', size='0', readme='', workspace_id=9, created_at='2019-03-13T15:44:18.754Z', updated_at='2019-03-13T15:44:18.754Z')\n"
     ]
    }
   ],
   "source": [
    "project_name = 'project_test'\n",
    "if api.project.exists(workspace.id, project_name):\n",
    "    project_name = api.project.get_free_name(workspace.id, project_name)\n",
    "project = api.project.create(workspace.id, project_name, 'project is created using IPython and Supervisely API')\n",
    "print('Project {!r} has been sucessfully created: '.format(project.name))\n",
    "print(project)"
   ]
  },
  {
   "cell_type": "code",
   "execution_count": 9,
   "metadata": {},
   "outputs": [
    {
     "data": {
      "text/plain": [
       "['/workdir/demo_data/images/cats.jpg',\n",
       " '/workdir/demo_data/images/gooses.jpg',\n",
       " '/workdir/demo_data/images/street.jpeg',\n",
       " '/workdir/demo_data/images/friends.jpeg']"
      ]
     },
     "execution_count": 9,
     "metadata": {},
     "output_type": "execute_result"
    }
   ],
   "source": [
    "images = sly.fs.list_files('/workdir/demo_data/images')\n",
    "images"
   ]
  },
  {
   "cell_type": "code",
   "execution_count": 10,
   "metadata": {},
   "outputs": [
    {
     "name": "stdout",
     "output_type": "stream",
     "text": [
      "Dataset 'ds1' has been sucessfully creates: id=819\n",
      "Image (id=81849, name=cats) has been sucessfully added\n",
      "Image (id=81850, name=gooses) has been sucessfully added\n",
      "Dataset 'ds2' has been sucessfully creates: id=820\n",
      "Image (id=81851, name=street) has been sucessfully added\n",
      "Image (id=81852, name=friends) has been sucessfully added\n"
     ]
    }
   ],
   "source": [
    "# let's put first two images to the first dataset \"ds1\", and the rest of the images - to the second dataset \"ds2\n",
    "datasets = ['ds1', 'ds2']\n",
    "dataset_images = [images[0:2], images[2:]]\n",
    "\n",
    "for ds_name, img_paths in zip(datasets, dataset_images):\n",
    "    ds = api.dataset.create(project.id, ds_name)\n",
    "    print('Dataset {!r} has been sucessfully creates: id={}'.format(ds.name, ds.id))\n",
    "    for img_path in img_paths:\n",
    "        img_hash = api.image.upload_path(img_path)\n",
    "        image_info = api.image.add(ds.id, sly.fs.get_file_name(img_path), img_hash)\n",
    "        print('Image (id={}, name={}) has been sucessfully added'.format(image_info.id, image_info.name))"
   ]
  },
  {
   "cell_type": "code",
   "execution_count": 11,
   "metadata": {},
   "outputs": [
    {
     "name": "stdout",
     "output_type": "stream",
     "text": [
      "Number of images in created projects:  4\n"
     ]
    }
   ],
   "source": [
    "print(\"Number of images in created projects: \", api.project.get_images_count(project.id))"
   ]
  },
  {
   "cell_type": "code",
   "execution_count": 12,
   "metadata": {},
   "outputs": [],
   "source": [
    "#define object classes\n",
    "class_person = sly.ObjClass('person', sly.Rectangle, color=[255, 0, 0])\n",
    "class_car = sly.ObjClass('car', sly.Polygon, color=[0, 255, 0])\n",
    "class_road = sly.ObjClass('road', sly.Bitmap, color=[0, 0, 255])\n",
    "obj_class_collection = sly.ObjClassCollection([class_person, class_car, class_road])"
   ]
  },
  {
   "cell_type": "code",
   "execution_count": 13,
   "metadata": {},
   "outputs": [],
   "source": [
    "#define tags for images\n",
    "tagmeta_weather = sly.TagMeta(name='weather',\n",
    "                              value_type=sly.TagValueType.ONEOF_STRING,\n",
    "                              possible_values=['rain', 'sun', 'cloud'],\n",
    "                              color=[153, 0, 153])\n",
    "tagmeta_annotate = sly.TagMeta('to_annotation', sly.TagValueType.NONE)"
   ]
  },
  {
   "cell_type": "code",
   "execution_count": 14,
   "metadata": {},
   "outputs": [],
   "source": [
    "#define tags for objects\n",
    "tagmeta_vehicle_type = sly.TagMeta('vehicle_type', sly.TagValueType.ONEOF_STRING, ['sedan', 'suv', 'hatchback'])\n",
    "tagmeta_confidence = sly.TagMeta('confidence', sly.TagValueType.ANY_NUMBER)\n",
    "\n",
    "tag_meta_collection = sly.TagMetaCollection(\n",
    "    [tagmeta_weather, tagmeta_annotate, tagmeta_vehicle_type, tagmeta_confidence])"
   ]
  },
  {
   "cell_type": "code",
   "execution_count": 15,
   "metadata": {},
   "outputs": [
    {
     "name": "stdout",
     "output_type": "stream",
     "text": [
      "ProjectMeta:\n",
      "\n",
      "Object Classes:\n",
      "Name:  person    Shape: Rectangle    Color: [255, 0, 0]\n",
      "Name:  car       Shape: Polygon      Color: [0, 255, 0]\n",
      "Name:  road      Shape: Bitmap       Color: [0, 0, 255]\n",
      "\n",
      "Image Tags\n",
      "Tag Metas:\n",
      "Name:  weather                  Value type:oneof_string  Possible values:['rain', 'sun', 'cloud']\n",
      "Name:  to_annotation            Value type:none          Possible values:None      \n",
      "\n",
      "Object Tags\n",
      "Tag Metas:\n",
      "Name:  vehicle_type             Value type:oneof_string  Possible values:['sedan', 'suv', 'hatchback']\n",
      "Name:  confidence               Value type:any_number    Possible values:None      \n",
      "\n",
      "\n"
     ]
    }
   ],
   "source": [
    "#combine everything to project meta\n",
    "meta = sly.ProjectMeta(obj_class_collection, tag_meta_collection)\n",
    "print(meta)\n",
    "api.project.update_meta(project.id, meta.to_json())"
   ]
  },
  {
   "cell_type": "code",
   "execution_count": null,
   "metadata": {},
   "outputs": [],
   "source": []
  }
 ],
 "metadata": {
  "kernelspec": {
   "display_name": "Python 3",
   "language": "python",
   "name": "python3"
  },
  "language_info": {
   "codemirror_mode": {
    "name": "ipython",
    "version": 3
   },
   "file_extension": ".py",
   "mimetype": "text/x-python",
   "name": "python",
   "nbconvert_exporter": "python",
   "pygments_lexer": "ipython3",
   "version": "3.6.5"
  }
 },
 "nbformat": 4,
 "nbformat_minor": 2
}
