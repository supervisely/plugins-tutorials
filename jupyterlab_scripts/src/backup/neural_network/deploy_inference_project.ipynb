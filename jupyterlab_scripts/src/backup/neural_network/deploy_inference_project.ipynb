{
 "cells": [
  {
   "cell_type": "code",
   "execution_count": 1,
   "metadata": {},
   "outputs": [],
   "source": [
    "%matplotlib inline"
   ]
  },
  {
   "cell_type": "code",
   "execution_count": 2,
   "metadata": {},
   "outputs": [],
   "source": [
    "import supervisely_lib as sly\n",
    "import os\n",
    "import matplotlib.pyplot as plt\n",
    "import numpy as np"
   ]
  },
  {
   "cell_type": "code",
   "execution_count": 3,
   "metadata": {},
   "outputs": [],
   "source": [
    "team_name = 'max'\n",
    "workspace_name = 'test_dtl_segmentation'\n",
    "project_name = 'demo_persons'\n",
    "dst_project_name = 'demo_persons_inf'\n",
    "agent_name = 'max_pycharm' # None\n",
    "model_name = 'yolo_coco'"
   ]
  },
  {
   "cell_type": "code",
   "execution_count": 4,
   "metadata": {},
   "outputs": [
    {
     "name": "stdout",
     "output_type": "stream",
     "text": [
      "Server address:  http://192.168.1.69:5555\n",
      "Your API token:  OfaV5z24gEQ7ikv2DiVdYu1CXZhMavU7POtJw2iDtQtvGUux31DUyWTXW6mZ0wd3IRuXTNtMFS9pCggewQWRcqSTUi4EJXzly8kH7MJL1hm3uZeM2MCn5HaoEYwXejKT\n"
     ]
    }
   ],
   "source": [
    "address = os.environ['SERVER_ADDRESS']\n",
    "token = os.environ['API_TOKEN']\n",
    "print(\"Server address: \", address)\n",
    "print(\"Your API token: \", token)"
   ]
  },
  {
   "cell_type": "code",
   "execution_count": 5,
   "metadata": {},
   "outputs": [],
   "source": [
    "api = sly.Api(address, token)"
   ]
  },
  {
   "cell_type": "code",
   "execution_count": 6,
   "metadata": {},
   "outputs": [
    {
     "name": "stdout",
     "output_type": "stream",
     "text": [
      "Current context: Team 'max', Workspace 'test_dtl_segmentation'\n"
     ]
    }
   ],
   "source": [
    "team = api.team.get_info_by_name(team_name)\n",
    "workspace = api.workspace.get_info_by_name(team.id, workspace_name)\n",
    "print(\"Current context: Team {!r}, Workspace {!r}\".format(team.name, workspace.name))"
   ]
  },
  {
   "cell_type": "code",
   "execution_count": 7,
   "metadata": {},
   "outputs": [
    {
     "name": "stdout",
     "output_type": "stream",
     "text": [
      "Model: id=245, name='yolo_coco'\n"
     ]
    }
   ],
   "source": [
    "model = api.model.get_or_clone_from_explore('Supervisely/Model Zoo/YOLO v3 (COCO)', workspace.id, model_name)\n",
    "print(\"Model: id={}, name={!r}\".format(model.id, model.name))"
   ]
  },
  {
   "cell_type": "code",
   "execution_count": 8,
   "metadata": {},
   "outputs": [
    {
     "name": "stdout",
     "output_type": "stream",
     "text": [
      "Project: id=819, name='demo_persons'\n"
     ]
    }
   ],
   "source": [
    "project = api.project.get_or_clone_from_explore('Supervisely/Demo/persons', workspace.id, project_name)\n",
    "print(\"Project: id={}, name={!r}\".format(project.id, project.name))"
   ]
  },
  {
   "cell_type": "code",
   "execution_count": 9,
   "metadata": {},
   "outputs": [
    {
     "name": "stdout",
     "output_type": "stream",
     "text": [
      "Agent: id=5, name='max_pycharm'\n"
     ]
    }
   ],
   "source": [
    "agent = api.agent.get_if_running(team.id, agent_name)\n",
    "print(\"Agent: id={}, name={!r}\".format(agent.id, agent.name))"
   ]
  },
  {
   "cell_type": "code",
   "execution_count": 10,
   "metadata": {},
   "outputs": [
    {
     "name": "stdout",
     "output_type": "stream",
     "text": [
      "Deploy task_id = 1420\n"
     ]
    }
   ],
   "source": [
    "task_id = api.task.deploy_model(agent.id, model.id)\n",
    "print('Deploy task_id = {}'.format(task_id))"
   ]
  },
  {
   "cell_type": "code",
   "execution_count": 11,
   "metadata": {},
   "outputs": [
    {
     "name": "stdout",
     "output_type": "stream",
     "text": [
      "ProjectMeta:\n",
      "Object Classes\n",
      "+----------------------+-----------+-----------------+\n",
      "|         Name         |   Shape   |      Color      |\n",
      "+----------------------+-----------+-----------------+\n",
      "|     person_model     | Rectangle | [146, 208, 134] |\n",
      "|    bicycle_model     | Rectangle | [116, 127, 233] |\n",
      "|      car_model       | Rectangle | [233, 189, 207] |\n",
      "|   motorbike_model    | Rectangle | [111, 190, 245] |\n",
      "|   aeroplane_model    | Rectangle |  [92, 126, 104] |\n",
      "|      bus_model       | Rectangle | [212, 239, 134] |\n",
      "|     train_model      | Rectangle | [140, 180, 183] |\n",
      "|     truck_model      | Rectangle | [231, 222, 180] |\n",
      "|      boat_model      | Rectangle |  [213, 86, 211] |\n",
      "| traffic light_model  | Rectangle | [137, 206, 104] |\n",
      "|  fire hydrant_model  | Rectangle | [194, 160, 183] |\n",
      "|   stop sign_model    | Rectangle | [131, 156, 191] |\n",
      "| parking meter_model  | Rectangle |  [96, 163, 96]  |\n",
      "|     bench_model      | Rectangle | [232, 202, 225] |\n",
      "|      bird_model      | Rectangle | [253, 192, 185] |\n",
      "|      cat_model       | Rectangle | [109, 250, 167] |\n",
      "|      dog_model       | Rectangle | [214, 227, 223] |\n",
      "|     horse_model      | Rectangle | [215, 164, 135] |\n",
      "|     sheep_model      | Rectangle | [208, 112, 181] |\n",
      "|      cow_model       | Rectangle | [100, 211, 137] |\n",
      "|    elephant_model    | Rectangle | [178, 189, 166] |\n",
      "|      bear_model      | Rectangle | [117, 129, 129] |\n",
      "|     zebra_model      | Rectangle | [160, 207, 150] |\n",
      "|    giraffe_model     | Rectangle |  [91, 155, 186] |\n",
      "|    backpack_model    | Rectangle | [228, 217, 157] |\n",
      "|    umbrella_model    | Rectangle | [136, 169, 229] |\n",
      "|    handbag_model     | Rectangle | [100, 181, 251] |\n",
      "|      tie_model       | Rectangle |  [95, 201, 229] |\n",
      "|    suitcase_model    | Rectangle | [182, 227, 200] |\n",
      "|    frisbee_model     | Rectangle |  [102, 168, 94] |\n",
      "|      skis_model      | Rectangle |  [116, 166, 87] |\n",
      "|   snowboard_model    | Rectangle | [231, 152, 160] |\n",
      "|  sports ball_model   | Rectangle | [253, 239, 246] |\n",
      "|      kite_model      | Rectangle | [107, 158, 211] |\n",
      "|  baseball bat_model  | Rectangle | [123, 100, 233] |\n",
      "| baseball glove_model | Rectangle | [225, 126, 184] |\n",
      "|   skateboard_model   | Rectangle | [216, 171, 174] |\n",
      "|   surfboard_model    | Rectangle | [144, 216, 188] |\n",
      "| tennis racket_model  | Rectangle | [182, 156, 250] |\n",
      "|     bottle_model     | Rectangle | [230, 209, 159] |\n",
      "|   wine glass_model   | Rectangle |  [183, 254, 98] |\n",
      "|      cup_model       | Rectangle | [215, 243, 120] |\n",
      "|      fork_model      | Rectangle | [148, 247, 126] |\n",
      "|     knife_model      | Rectangle | [175, 100, 183] |\n",
      "|     spoon_model      | Rectangle | [245, 171, 198] |\n",
      "|      bowl_model      | Rectangle |  [96, 216, 100] |\n",
      "|     banana_model     | Rectangle | [123, 135, 104] |\n",
      "|     apple_model      | Rectangle | [209, 147, 152] |\n",
      "|    sandwich_model    | Rectangle | [211, 209, 131] |\n",
      "|     orange_model     | Rectangle | [115, 132, 226] |\n",
      "|    broccoli_model    | Rectangle | [108, 234, 113] |\n",
      "|     carrot_model     | Rectangle | [136, 121, 238] |\n",
      "|    hot dog_model     | Rectangle |  [101, 87, 230] |\n",
      "|     pizza_model      | Rectangle | [128, 233, 240] |\n",
      "|     donut_model      | Rectangle | [217, 254, 187] |\n",
      "|      cake_model      | Rectangle | [118, 198, 160] |\n",
      "|     chair_model      | Rectangle |  [213, 96, 120] |\n",
      "|      sofa_model      | Rectangle | [240, 145, 177] |\n",
      "|  pottedplant_model   | Rectangle | [238, 211, 241] |\n",
      "|      bed_model       | Rectangle | [186, 198, 157] |\n",
      "|  diningtable_model   | Rectangle | [200, 219, 127] |\n",
      "|     toilet_model     | Rectangle | [175, 247, 104] |\n",
      "|   tvmonitor_model    | Rectangle | [121, 243, 189] |\n",
      "|     laptop_model     | Rectangle | [126, 239, 127] |\n",
      "|     mouse_model      | Rectangle | [171, 138, 156] |\n",
      "|     remote_model     | Rectangle | [251, 104, 192] |\n",
      "|    keyboard_model    | Rectangle | [128, 202, 223] |\n",
      "|   cell phone_model   | Rectangle | [108, 201, 122] |\n",
      "|   microwave_model    | Rectangle | [248, 218, 143] |\n",
      "|      oven_model      | Rectangle | [178, 158, 127] |\n",
      "|    toaster_model     | Rectangle |  [120, 119, 97] |\n",
      "|      sink_model      | Rectangle | [216, 216, 127] |\n",
      "|  refrigerator_model  | Rectangle |  [94, 129, 108] |\n",
      "|      book_model      | Rectangle | [178, 127, 145] |\n",
      "|     clock_model      | Rectangle |  [147, 86, 212] |\n",
      "|      vase_model      | Rectangle | [136, 159, 104] |\n",
      "|    scissors_model    | Rectangle | [183, 114, 216] |\n",
      "|   teddy bear_model   | Rectangle |  [99, 174, 203] |\n",
      "|   hair drier_model   | Rectangle | [148, 189, 224] |\n",
      "|   toothbrush_model   | Rectangle | [164, 225, 168] |\n",
      "+----------------------+-----------+-----------------+\n",
      "Image Tags\n",
      "+------+------------+-----------------+\n",
      "| Name | Value type | Possible values |\n",
      "+------+------------+-----------------+\n",
      "+------+------------+-----------------+\n",
      "Object Tags\n",
      "+------------+------------+-----------------+\n",
      "|    Name    | Value type | Possible values |\n",
      "+------------+------------+-----------------+\n",
      "| confidence | any_number |       None      |\n",
      "+------------+------------+-----------------+\n",
      "\n"
     ]
    }
   ],
   "source": [
    "output_meta_json = api.model.get_output_meta(model.id)\n",
    "output_meta = sly.ProjectMeta.from_json(output_meta_json)\n",
    "print(output_meta)"
   ]
  },
  {
   "cell_type": "code",
   "execution_count": 12,
   "metadata": {},
   "outputs": [
    {
     "name": "stdout",
     "output_type": "stream",
     "text": [
      "Destination Project: id=823, name='demo_persons_inf_003'\n"
     ]
    }
   ],
   "source": [
    "dst_project = api.project.create(workspace.id, dst_project_name, description=\"after inference\", meta=output_meta.to_json(), handle_name_collision=True)\n",
    "print(\"Destination Project: id={}, name={!r}\".format(dst_project.id, dst_project.name))"
   ]
  },
  {
   "cell_type": "code",
   "execution_count": 13,
   "metadata": {},
   "outputs": [],
   "source": [
    "for dataset in api.dataset.get_list(project.id):\n",
    "    dst_dataset = api.dataset.create(dst_project.id, dataset.name, dataset.description, handle_name_collision=True)\n",
    "    for image in api.image.get_list(dataset.id):\n",
    "        dst_image = api.image.add(dst_dataset.id, image.name, image.hash, handle_name_collision=True)\n",
    "        ann_json = api.model.inference_remote_image(model.id, image.hash)\n",
    "        #ann = sly.Annotation.from_json(ann_json, output_meta)\n",
    "        api.annotation.upload(dst_image.id, ann_json)"
   ]
  },
  {
   "cell_type": "code",
   "execution_count": 14,
   "metadata": {},
   "outputs": [
    {
     "name": "stdout",
     "output_type": "stream",
     "text": [
      "Inference finished. Please, project link: xxxx\n"
     ]
    }
   ],
   "source": [
    "print('Inference finished. Please, project link: xxxx')"
   ]
  },
  {
   "cell_type": "code",
   "execution_count": null,
   "metadata": {},
   "outputs": [],
   "source": []
  }
 ],
 "metadata": {
  "kernelspec": {
   "display_name": "Python 3",
   "language": "python",
   "name": "python3"
  },
  "language_info": {
   "codemirror_mode": {
    "name": "ipython",
    "version": 3
   },
   "file_extension": ".py",
   "mimetype": "text/x-python",
   "name": "python",
   "nbconvert_exporter": "python",
   "pygments_lexer": "ipython3",
   "version": "3.6.5"
  }
 },
 "nbformat": 4,
 "nbformat_minor": 2
}
