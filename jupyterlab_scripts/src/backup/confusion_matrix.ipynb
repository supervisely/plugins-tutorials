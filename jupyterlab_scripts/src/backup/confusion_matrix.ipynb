{
 "cells": [
  {
   "cell_type": "code",
   "execution_count": 13,
   "metadata": {},
   "outputs": [],
   "source": [
    "import itertools\n",
    "import numpy as np\n",
    "import pandas as pd\n",
    "import matplotlib.pyplot as plt\n",
    "\n",
    "import supervisely_lib as sly\n",
    "\n",
    "from tqdm import tqdm\n",
    "from collections import defaultdict\n",
    "\n",
    "%matplotlib inline"
   ]
  },
  {
   "cell_type": "code",
   "execution_count": 2,
   "metadata": {},
   "outputs": [],
   "source": [
    "address = 'http://192.168.1.69:5555'\n",
    "token = 'YGPDnuBkhFmcQ7VNzSEjhgavjg4eFR4Eq1C3jIY4HgV3SQq2JgkXCNtgZy1Fu2ftd4IKui8DsjrdtXjB853cMtBevpSJqFDYiaG1A5qphlH6fFiYYmcVZ5fMR8dDrt5l'\n",
    "team_name = 'dima'\n",
    "workspace_name = 'work'\n",
    "\n",
    "src_project_name = 'lemons_annotated'"
   ]
  },
  {
   "cell_type": "code",
   "execution_count": 3,
   "metadata": {},
   "outputs": [],
   "source": [
    "api = sly.Api(address, token)\n",
    "\n",
    "team_id = api.team.get_info_by_name(team_name)['id']\n",
    "workspace_id = api.workspace.get_info_by_name(workspace_name, team_id)['id']\n",
    "\n",
    "src_project_id = api.project.get_info_by_name(src_project_name, workspace_id)['id']\n",
    "\n",
    "src_meta_json = api.project.get_meta(src_project_id)\n",
    "src_meta = sly.ProjectMeta.from_json(src_meta_json)"
   ]
  },
  {
   "cell_type": "code",
   "execution_count": 4,
   "metadata": {},
   "outputs": [],
   "source": [
    "\n",
    "classes_mapping = {\n",
    "    'kiwi': 'kiwi',\n",
    "    'lemon': 'lemon'\n",
    "}\n",
    "iou_threshold = 0.5"
   ]
  },
  {
   "cell_type": "code",
   "execution_count": 5,
   "metadata": {},
   "outputs": [],
   "source": [
    "def compute_iou(mask_1, mask_2):\n",
    "    intersection = (mask_1 * mask_2).sum()\n",
    "    union = mask_1.sum() + mask_2.sum() - intersection\n",
    "    if union == 0:\n",
    "        return 0.0\n",
    "    return intersection / union\n",
    "\n",
    "\n",
    "def add_to_conf_matrix(confusion_matrix, gt_masks, gt_classes, pred_masks, pred_classes, iou_thresh):\n",
    "    matches = []\n",
    "\n",
    "    for i in range(len(gt_masks)):\n",
    "        for j in range(len(pred_masks)):\n",
    "            iou = compute_iou(gt_masks[i], pred_masks[j])\n",
    "\n",
    "            if iou > iou_thresh:\n",
    "                matches.append([i, j, iou])\n",
    "\n",
    "    matches = np.array(matches)\n",
    "    if matches.shape[0] > 0:\n",
    "        matches = matches[matches[:, 2].argsort()[::-1][:len(matches)]]\n",
    "\n",
    "        matches = matches[np.unique(matches[:, 1], return_index=True)[1]]\n",
    "\n",
    "        matches = matches[matches[:, 2].argsort()[::-1][:len(matches)]]\n",
    "\n",
    "        matches = matches[np.unique(matches[:, 0], return_index=True)[1]]\n",
    "\n",
    "    for i in range(len(gt_masks)):\n",
    "        if matches.shape[0] > 0 and matches[matches[:, 0] == i].shape[0] == 1:\n",
    "            confusion_matrix[gt_classes[i] - 1][pred_classes[int(matches[matches[:, 0] == i, 1][0])] - 1] += 1\n",
    "        else:\n",
    "            confusion_matrix[gt_classes[i] - 1][confusion_matrix.shape[1] - 1] += 1\n",
    "\n",
    "    for i in range(len(pred_masks)):\n",
    "        if matches.shape[0] > 0 and matches[matches[:, 1] == i].shape[0] == 0:\n",
    "            confusion_matrix[confusion_matrix.shape[0] - 1][pred_classes[i] - 1] += 1\n",
    "            \n",
    "            \n",
    "def process(ann, confusion_matrix, gt_cls_map, pred_cls_map, iou_threshold):\n",
    "    img_size = ann.img_size\n",
    "    for cls_gt, cls_pred in classes_mapping.items():\n",
    "        masks_gt, masks_pred = [], []\n",
    "        classes_gt, classes_pred = [], []\n",
    "        for label in ann.labels:\n",
    "            if label.obj_class.name == cls_gt:\n",
    "                mask = np.zeros(img_size, np.uint8)\n",
    "                label.geometry.draw(mask, 1)\n",
    "                masks_gt.append(mask)\n",
    "                classes_gt.append(gt_cls_map[label.obj_class.name])\n",
    "                \n",
    "            if label.obj_class.name == cls_pred:\n",
    "                mask = np.zeros(img_size, np.uint8)\n",
    "                label.geometry.draw(mask, 1)\n",
    "                masks_pred.append(mask)\n",
    "                classes_pred.append(pred_cls_map[label.obj_class.name])\n",
    "        add_to_conf_matrix(confusion_matrix, masks_gt, classes_gt, masks_pred, classes_pred, iou_threshold)"
   ]
  },
  {
   "cell_type": "code",
   "execution_count": 6,
   "metadata": {},
   "outputs": [
    {
     "name": "stderr",
     "output_type": "stream",
     "text": [
      "\r",
      "  0%|          | 0/6 [00:00<?, ?it/s]"
     ]
    },
    {
     "name": "stdout",
     "output_type": "stream",
     "text": [
      "Project/Dataset: lemons_annotated/ds1\n"
     ]
    },
    {
     "name": "stderr",
     "output_type": "stream",
     "text": [
      "100%|██████████| 6/6 [00:00<00:00, 13.12it/s]\n"
     ]
    }
   ],
   "source": [
    "gt_class_mapping, pred_class_mapping = {}, {}\n",
    "for i, (k, v) in enumerate(classes_mapping.items()):\n",
    "    gt_class_mapping[k] = i + 1\n",
    "    pred_class_mapping[v] = i + 1\n",
    "confusion_matrix = np.zeros((len(classes_mapping) + 1, len(classes_mapping) + 1), dtype=np.int32)\n",
    "\n",
    "for dataset_info in api.dataset.get_list(src_project_id):\n",
    "    src_dataset_id = dataset_info['id']\n",
    "    src_dataset_name = dataset_info['name']\n",
    "\n",
    "    print('Project/Dataset: {}/{}'.format(src_project_name, src_dataset_name))\n",
    "    \n",
    "    for image_info in tqdm(api.image.get_list(src_dataset_id)):\n",
    "        src_image_ext = image_info['meta']['mime'].split('/')[1]\n",
    "\n",
    "        ann_json = api.annotation.download(src_dataset_id, image_info['id'])\n",
    "        ann = sly.Annotation.from_json(ann_json, src_meta)\n",
    "        process(ann, confusion_matrix, gt_class_mapping, pred_class_mapping, iou_threshold)"
   ]
  },
  {
   "cell_type": "code",
   "execution_count": 7,
   "metadata": {},
   "outputs": [],
   "source": [
    "targets_names = list(gt_class_mapping.keys())\n",
    "targets_names.append('False Positives')\n",
    "pred_names = list(pred_class_mapping.keys())\n",
    "pred_names.append('False Negatives')\n",
    "df = pd.DataFrame(confusion_matrix, columns=pred_names, index=targets_names)"
   ]
  },
  {
   "cell_type": "code",
   "execution_count": 79,
   "metadata": {},
   "outputs": [
    {
     "data": {
      "text/html": [
       "<style  type=\"text/css\" >\n",
       "    #T_80fb8efc_38e3_11e9_bf10_ef03e2be4ef9 th {\n",
       "          text-align: center;\n",
       "    }    #T_80fb8efc_38e3_11e9_bf10_ef03e2be4ef9row0_col0 {\n",
       "            width:  10em;\n",
       "            text-align:  center;\n",
       "        }    #T_80fb8efc_38e3_11e9_bf10_ef03e2be4ef9row0_col1 {\n",
       "            width:  10em;\n",
       "            text-align:  center;\n",
       "        }    #T_80fb8efc_38e3_11e9_bf10_ef03e2be4ef9row0_col2 {\n",
       "            width:  10em;\n",
       "            text-align:  center;\n",
       "        }    #T_80fb8efc_38e3_11e9_bf10_ef03e2be4ef9row1_col0 {\n",
       "            width:  10em;\n",
       "            text-align:  center;\n",
       "        }    #T_80fb8efc_38e3_11e9_bf10_ef03e2be4ef9row1_col1 {\n",
       "            width:  10em;\n",
       "            text-align:  center;\n",
       "        }    #T_80fb8efc_38e3_11e9_bf10_ef03e2be4ef9row1_col2 {\n",
       "            width:  10em;\n",
       "            text-align:  center;\n",
       "        }    #T_80fb8efc_38e3_11e9_bf10_ef03e2be4ef9row2_col0 {\n",
       "            width:  10em;\n",
       "            text-align:  center;\n",
       "        }    #T_80fb8efc_38e3_11e9_bf10_ef03e2be4ef9row2_col1 {\n",
       "            width:  10em;\n",
       "            text-align:  center;\n",
       "        }    #T_80fb8efc_38e3_11e9_bf10_ef03e2be4ef9row2_col2 {\n",
       "            width:  10em;\n",
       "            text-align:  center;\n",
       "        }</style>  \n",
       "<table id=\"T_80fb8efc_38e3_11e9_bf10_ef03e2be4ef9\" > \n",
       "<thead>    <tr> \n",
       "        <th class=\"blank level0\" ></th> \n",
       "        <th class=\"col_heading level0 col0\" >kiwi</th> \n",
       "        <th class=\"col_heading level0 col1\" >lemon</th> \n",
       "        <th class=\"col_heading level0 col2\" >False Negatives</th> \n",
       "    </tr></thead> \n",
       "<tbody>    <tr> \n",
       "        <th id=\"T_80fb8efc_38e3_11e9_bf10_ef03e2be4ef9level0_row0\" class=\"row_heading level0 row0\" >kiwi</th> \n",
       "        <td id=\"T_80fb8efc_38e3_11e9_bf10_ef03e2be4ef9row0_col0\" class=\"data row0 col0\" >20</td> \n",
       "        <td id=\"T_80fb8efc_38e3_11e9_bf10_ef03e2be4ef9row0_col1\" class=\"data row0 col1\" >0</td> \n",
       "        <td id=\"T_80fb8efc_38e3_11e9_bf10_ef03e2be4ef9row0_col2\" class=\"data row0 col2\" >0</td> \n",
       "    </tr>    <tr> \n",
       "        <th id=\"T_80fb8efc_38e3_11e9_bf10_ef03e2be4ef9level0_row1\" class=\"row_heading level0 row1\" >lemon</th> \n",
       "        <td id=\"T_80fb8efc_38e3_11e9_bf10_ef03e2be4ef9row1_col0\" class=\"data row1 col0\" >0</td> \n",
       "        <td id=\"T_80fb8efc_38e3_11e9_bf10_ef03e2be4ef9row1_col1\" class=\"data row1 col1\" >6</td> \n",
       "        <td id=\"T_80fb8efc_38e3_11e9_bf10_ef03e2be4ef9row1_col2\" class=\"data row1 col2\" >0</td> \n",
       "    </tr>    <tr> \n",
       "        <th id=\"T_80fb8efc_38e3_11e9_bf10_ef03e2be4ef9level0_row2\" class=\"row_heading level0 row2\" >False Positives</th> \n",
       "        <td id=\"T_80fb8efc_38e3_11e9_bf10_ef03e2be4ef9row2_col0\" class=\"data row2 col0\" >0</td> \n",
       "        <td id=\"T_80fb8efc_38e3_11e9_bf10_ef03e2be4ef9row2_col1\" class=\"data row2 col1\" >0</td> \n",
       "        <td id=\"T_80fb8efc_38e3_11e9_bf10_ef03e2be4ef9row2_col2\" class=\"data row2 col2\" >0</td> \n",
       "    </tr></tbody> \n",
       "</table> "
      ],
      "text/plain": [
       "<pandas.io.formats.style.Styler at 0x7f99cd514a20>"
      ]
     },
     "execution_count": 79,
     "metadata": {},
     "output_type": "execute_result"
    }
   ],
   "source": [
    "options = dict(selector=\"th\", props=[('text-align', 'center')])\n",
    "df.style.set_properties(**{'width':'10em', 'text-align':'center'}).set_table_styles([options])"
   ]
  },
  {
   "cell_type": "code",
   "execution_count": 15,
   "metadata": {},
   "outputs": [
    {
     "data": {
      "image/png": "[encoded data removed]",
      "text/plain": [
       "<Figure size 720x720 with 2 Axes>"
      ]
     },
     "metadata": {
      "needs_background": "light"
     },
     "output_type": "display_data"
    }
   ],
   "source": [
    "def plot_confusion_matrix(cm, gt_classes, pred_classes, cmap=plt.cm.Blues):\n",
    "    _ = plt.figure(figsize=(10, 10))\n",
    "    plt.imshow(cm, interpolation='nearest', cmap=cmap)\n",
    "    plt.title('Confusion matrix')\n",
    "    plt.colorbar()\n",
    "    tick_marks = np.arange(len(gt_classes))\n",
    "    plt.xticks(tick_marks, pred_classes, rotation=45)\n",
    "    plt.yticks(tick_marks, gt_classes)\n",
    "\n",
    "    thresh = cm.max() / 2.\n",
    "    for i, j in itertools.product(range(cm.shape[0]), range(cm.shape[1])):\n",
    "        plt.text(j, i, format(cm[i, j], 'd'),\n",
    "                 horizontalalignment=\"center\",\n",
    "                 color=\"white\" if cm[i, j] > thresh else \"black\")\n",
    "\n",
    "    plt.ylabel('True classes')\n",
    "    plt.xlabel('Predicted classes')\n",
    "    plt.tight_layout()\n",
    "plot_confusion_matrix(confusion_matrix, targets_names, pred_names)"
   ]
  },
  {
   "cell_type": "code",
   "execution_count": null,
   "metadata": {},
   "outputs": [],
   "source": []
  }
 ],
 "metadata": {
  "kernelspec": {
   "display_name": "Python 3",
   "language": "python",
   "name": "python3"
  },
  "language_info": {
   "codemirror_mode": {
    "name": "ipython",
    "version": 3
   },
   "file_extension": ".py",
   "mimetype": "text/x-python",
   "name": "python",
   "nbconvert_exporter": "python",
   "pygments_lexer": "ipython3",
   "version": "3.6.5"
  }
 },
 "nbformat": 4,
 "nbformat_minor": 2
}
