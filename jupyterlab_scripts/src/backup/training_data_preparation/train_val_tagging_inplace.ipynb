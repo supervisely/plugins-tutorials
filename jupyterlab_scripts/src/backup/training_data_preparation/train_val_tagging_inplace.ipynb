{
 "cells": [
  {
   "cell_type": "code",
   "execution_count": 1,
   "metadata": {},
   "outputs": [],
   "source": [
    "%matplotlib inline"
   ]
  },
  {
   "cell_type": "code",
   "execution_count": 2,
   "metadata": {},
   "outputs": [],
   "source": [
    "import supervisely_lib as sly\n",
    "from tqdm import tqdm\n",
    "import random\n",
    "import os\n",
    "import matplotlib.pyplot as plt\n",
    "import numpy as np"
   ]
  },
  {
   "cell_type": "code",
   "execution_count": 3,
   "metadata": {},
   "outputs": [],
   "source": [
    "team_name = 'max'\n",
    "workspace_name = 'test_dtl_segmentation'\n",
    "\n",
    "project_name = 'lemons_annotated_detection_005'\n",
    "\n",
    "validation_portion = 0.1\n",
    "\n",
    "tag_meta_train = sly.TagMeta('train', sly.TagValueType.NONE)\n",
    "tag_meta_val = sly.TagMeta('val', sly.TagValueType.NONE)"
   ]
  },
  {
   "cell_type": "code",
   "execution_count": 4,
   "metadata": {},
   "outputs": [],
   "source": [
    "address = os.environ['SERVER_ADDRESS']\n",
    "token = os.environ['API_TOKEN']"
   ]
  },
  {
   "cell_type": "code",
   "execution_count": 5,
   "metadata": {},
   "outputs": [
    {
     "name": "stdout",
     "output_type": "stream",
     "text": [
      "Server address:  http://192.168.1.69:5555\n",
      "Your API token:  OfaV5z24gEQ7ikv2DiVdYu1CXZhMavU7POtJw2iDtQtvGUux31DUyWTXW6mZ0wd3IRuXTNtMFS9pCggewQWRcqSTUi4EJXzly8kH7MJL1hm3uZeM2MCn5HaoEYwXejKT\n"
     ]
    }
   ],
   "source": [
    "print(\"Server address: \", address)\n",
    "print(\"Your API token: \", token)"
   ]
  },
  {
   "cell_type": "code",
   "execution_count": 6,
   "metadata": {},
   "outputs": [],
   "source": [
    "api = sly.Api(address, token)"
   ]
  },
  {
   "cell_type": "code",
   "execution_count": 7,
   "metadata": {},
   "outputs": [
    {
     "name": "stdout",
     "output_type": "stream",
     "text": [
      "Current context: Team 'max', Workspace 'test_dtl_segmentation'\n"
     ]
    }
   ],
   "source": [
    "team = api.team.get_info_by_name(team_name)\n",
    "workspace = api.workspace.get_info_by_name(team.id, workspace_name)\n",
    "print(\"Current context: Team {!r}, Workspace {!r}\".format(team.name, workspace.name))"
   ]
  },
  {
   "cell_type": "code",
   "execution_count": 12,
   "metadata": {},
   "outputs": [],
   "source": [
    "project = api.project.get_info_by_name(workspace.id, project_name)\n",
    "meta_json = api.project.get_meta(project.id)\n",
    "meta = sly.ProjectMeta.from_json(meta_json)"
   ]
  },
  {
   "cell_type": "code",
   "execution_count": 13,
   "metadata": {},
   "outputs": [],
   "source": [
    "def process_meta(input_meta):\n",
    "    output_meta = input_meta.clone()\n",
    "    output_meta = output_meta.add_tag_meta(tag_meta_train)\n",
    "    output_meta = output_meta.add_tag_meta(tag_meta_val)\n",
    "    return output_meta"
   ]
  },
  {
   "cell_type": "code",
   "execution_count": 15,
   "metadata": {},
   "outputs": [
    {
     "name": "stdout",
     "output_type": "stream",
     "text": [
      "ProjectMeta:\n",
      "\n",
      "Object Classes:\n",
      "Name:  lemon_bboxShape: Rectangle    Color: [81, 198, 170]\n",
      "Name:  kiwi_bbox Shape: Rectangle    Color: [255, 0, 0]\n",
      "Name:  lemon     Shape: Bitmap       Color: [81, 198, 170]\n",
      "Name:  kiwi      Shape: Bitmap       Color: [255, 0, 0]\n",
      "\n",
      "Image Tags\n",
      "Tag Metas:\n",
      "Name:  train                    Value type:none          Possible values:None      \n",
      "Name:  val                      Value type:none          Possible values:None      \n",
      "\n",
      "Object Tags\n",
      "Tag Metas:\n",
      "Empty\n",
      "\n",
      "\n"
     ]
    }
   ],
   "source": [
    "dst_meta = process_meta(meta)\n",
    "print(dst_meta)\n",
    "api.project.update_meta(project.id, dst_meta.to_json())"
   ]
  },
  {
   "cell_type": "code",
   "execution_count": 17,
   "metadata": {},
   "outputs": [
    {
     "name": "stderr",
     "output_type": "stream",
     "text": [
      "  3%|▎         | 2/72 [00:00<00:04, 16.94it/s]"
     ]
    },
    {
     "name": "stdout",
     "output_type": "stream",
     "text": [
      "Project 'lemons_annotated_detection_005': train/val tagging (inplace)\n",
      "Dataset: ds1\n"
     ]
    },
    {
     "name": "stderr",
     "output_type": "stream",
     "text": [
      "100%|██████████| 72/72 [00:03<00:00, 19.22it/s]\n"
     ]
    }
   ],
   "source": [
    "print(\"Project {!r}: train/val tagging (inplace)\".format(project.name))\n",
    "for dataset in api.dataset.get_list(project.id):\n",
    "    print('Dataset: {}'.format(dataset.name))\n",
    "    for image in tqdm(api.image.get_list(dataset.id)):\n",
    "        tag = sly.Tag(tag_meta_val) if random.random() <= validation_portion else sly.Tag(tag_meta_train)\n",
    "        \n",
    "        ann_json = api.annotation.download(image.id).annotation\n",
    "        ann = sly.Annotation.from_json(ann_json, meta)\n",
    "        ann = ann.add_tag(tag)\n",
    "\n",
    "        api.annotation.upload(image.id, ann.to_json())"
   ]
  },
  {
   "cell_type": "code",
   "execution_count": null,
   "metadata": {},
   "outputs": [],
   "source": []
  }
 ],
 "metadata": {
  "kernelspec": {
   "display_name": "Python 3",
   "language": "python",
   "name": "python3"
  },
  "language_info": {
   "codemirror_mode": {
    "name": "ipython",
    "version": 3
   },
   "file_extension": ".py",
   "mimetype": "text/x-python",
   "name": "python",
   "nbconvert_exporter": "python",
   "pygments_lexer": "ipython3",
   "version": "3.6.5"
  }
 },
 "nbformat": 4,
 "nbformat_minor": 2
}
