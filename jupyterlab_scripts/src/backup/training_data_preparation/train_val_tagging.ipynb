{
 "cells": [
  {
   "cell_type": "code",
   "execution_count": 1,
   "metadata": {},
   "outputs": [],
   "source": [
    "%matplotlib inline"
   ]
  },
  {
   "cell_type": "code",
   "execution_count": 2,
   "metadata": {},
   "outputs": [],
   "source": [
    "import supervisely_lib as sly\n",
    "from tqdm import tqdm\n",
    "import random\n",
    "import os\n",
    "import matplotlib.pyplot as plt\n",
    "import numpy as np"
   ]
  },
  {
   "cell_type": "code",
   "execution_count": 3,
   "metadata": {},
   "outputs": [],
   "source": [
    "team_name = 'max'\n",
    "workspace_name = 'test_dtl_segmentation'\n",
    "\n",
    "src_project_name = 'lemons_annotated'\n",
    "dst_project_name = 'lemons_annotated_tagged'\n",
    "\n",
    "validation_portion = 0.1\n",
    "\n",
    "tag_meta_train = sly.TagMeta('train', sly.TagValueType.NONE)\n",
    "tag_meta_val = sly.TagMeta('val', sly.TagValueType.NONE)"
   ]
  },
  {
   "cell_type": "code",
   "execution_count": 4,
   "metadata": {},
   "outputs": [],
   "source": [
    "address = os.environ['SERVER_ADDRESS']\n",
    "token = os.environ['API_TOKEN']"
   ]
  },
  {
   "cell_type": "code",
   "execution_count": 5,
   "metadata": {},
   "outputs": [
    {
     "name": "stdout",
     "output_type": "stream",
     "text": [
      "Server address:  http://192.168.1.69:5555\n",
      "Your API token:  OfaV5z24gEQ7ikv2DiVdYu1CXZhMavU7POtJw2iDtQtvGUux31DUyWTXW6mZ0wd3IRuXTNtMFS9pCggewQWRcqSTUi4EJXzly8kH7MJL1hm3uZeM2MCn5HaoEYwXejKT\n"
     ]
    }
   ],
   "source": [
    "print(\"Server address: \", address)\n",
    "print(\"Your API token: \", token)"
   ]
  },
  {
   "cell_type": "code",
   "execution_count": 6,
   "metadata": {},
   "outputs": [],
   "source": [
    "api = sly.Api(address, token)"
   ]
  },
  {
   "cell_type": "code",
   "execution_count": 7,
   "metadata": {},
   "outputs": [
    {
     "name": "stdout",
     "output_type": "stream",
     "text": [
      "Current context: Team 'max', Workspace 'test_dtl_segmentation'\n"
     ]
    }
   ],
   "source": [
    "team = api.team.get_info_by_name(team_name)\n",
    "workspace = api.workspace.get_info_by_name(team.id, workspace_name)\n",
    "print(\"Current context: Team {!r}, Workspace {!r}\".format(team.name, workspace.name))"
   ]
  },
  {
   "cell_type": "code",
   "execution_count": 8,
   "metadata": {},
   "outputs": [],
   "source": [
    "src_project = api.project.get_info_by_name(workspace.id, src_project_name)\n",
    "src_meta_json = api.project.get_meta(src_project.id)\n",
    "src_meta = sly.ProjectMeta.from_json(src_meta_json)"
   ]
  },
  {
   "cell_type": "code",
   "execution_count": 9,
   "metadata": {},
   "outputs": [],
   "source": [
    "def process_meta(input_meta):\n",
    "    output_meta = input_meta.clone()\n",
    "    output_meta = output_meta.add_tag_meta(tag_meta_train)\n",
    "    output_meta = output_meta.add_tag_meta(tag_meta_val)\n",
    "    return output_meta"
   ]
  },
  {
   "cell_type": "code",
   "execution_count": 10,
   "metadata": {},
   "outputs": [
    {
     "name": "stdout",
     "output_type": "stream",
     "text": [
      "ProjectMeta:\n",
      "\n",
      "Object Classes:\n",
      "Name:  kiwi      Shape: Bitmap       Color: [255, 0, 0]\n",
      "Name:  lemon     Shape: Bitmap       Color: [81, 198, 170]\n",
      "\n",
      "Image Tags\n",
      "Tag Metas:\n",
      "Name:  train                    Value type:none          Possible values:None      \n",
      "Name:  val                      Value type:none          Possible values:None      \n",
      "\n",
      "Object Tags\n",
      "Tag Metas:\n",
      "Empty\n",
      "\n",
      "\n"
     ]
    }
   ],
   "source": [
    "dst_meta = process_meta(src_meta)\n",
    "print(dst_meta)"
   ]
  },
  {
   "cell_type": "code",
   "execution_count": 11,
   "metadata": {},
   "outputs": [
    {
     "name": "stdout",
     "output_type": "stream",
     "text": [
      "ProjectInfo(id=802, name='lemons_annotated_tagged_002', description='', size='0', readme='', workspace_id=45, created_at='2019-03-14T07:54:46.380Z', updated_at='2019-03-14T07:54:46.380Z')\n"
     ]
    }
   ],
   "source": [
    "if api.project.exists(workspace.id, dst_project_name):\n",
    "    dst_project_name = api.project.get_free_name(workspace.id, dst_project_name)\n",
    "dst_project = api.project.create(workspace.id, dst_project_name)\n",
    "print(dst_project)\n",
    "api.project.update_meta(dst_project.id, dst_meta.to_json())"
   ]
  },
  {
   "cell_type": "code",
   "execution_count": 12,
   "metadata": {},
   "outputs": [
    {
     "name": "stdout",
     "output_type": "stream",
     "text": [
      "Project 'lemons_annotated': train/val tagging\n"
     ]
    },
    {
     "name": "stderr",
     "output_type": "stream",
     "text": [
      "  0%|          | 0/6 [00:00<?, ?it/s]"
     ]
    },
    {
     "name": "stdout",
     "output_type": "stream",
     "text": [
      "Dataset: ds1\n"
     ]
    },
    {
     "name": "stderr",
     "output_type": "stream",
     "text": [
      "100%|██████████| 6/6 [00:00<00:00,  7.98it/s]\n"
     ]
    }
   ],
   "source": [
    "print(\"Project {!r}: train/val tagging\".format(src_project.name))\n",
    "for src_dataset in api.dataset.get_list(src_project.id):\n",
    "    print('Dataset: {}'.format(src_dataset.name))\n",
    "    dst_dataset = api.dataset.create(dst_project.id, src_dataset.name)\n",
    "\n",
    "    for image in tqdm(api.image.get_list(src_dataset.id)):\n",
    "        tag = sly.Tag(tag_meta_val) if random.random() <= validation_portion else sly.Tag(tag_meta_train)\n",
    "        \n",
    "        ann_json = api.annotation.download(image.id).annotation\n",
    "        ann = sly.Annotation.from_json(ann_json, src_meta)\n",
    "        ann = ann.add_tag(tag)\n",
    "        \n",
    "        dst_image = api.image.add(dst_dataset.id, image.name, image.hash)\n",
    "        api.annotation.upload(dst_image.id, ann.to_json())"
   ]
  },
  {
   "cell_type": "code",
   "execution_count": null,
   "metadata": {},
   "outputs": [],
   "source": []
  }
 ],
 "metadata": {
  "kernelspec": {
   "display_name": "Python 3",
   "language": "python",
   "name": "python3"
  },
  "language_info": {
   "codemirror_mode": {
    "name": "ipython",
    "version": 3
   },
   "file_extension": ".py",
   "mimetype": "text/x-python",
   "name": "python",
   "nbconvert_exporter": "python",
   "pygments_lexer": "ipython3",
   "version": "3.6.5"
  }
 },
 "nbformat": 4,
 "nbformat_minor": 2
}
