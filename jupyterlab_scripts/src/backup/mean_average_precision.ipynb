{
 "cells": [
  {
   "cell_type": "code",
   "execution_count": 1,
   "metadata": {},
   "outputs": [],
   "source": [
    "import numpy as np\n",
    "import matplotlib.pyplot as plt\n",
    "\n",
    "import supervisely_lib as sly\n",
    "\n",
    "from tqdm import tqdm\n",
    "from collections import defaultdict\n",
    "\n",
    "%matplotlib inline"
   ]
  },
  {
   "cell_type": "code",
   "execution_count": 2,
   "metadata": {},
   "outputs": [],
   "source": [
    "address = 'http://192.168.1.69:5555'\n",
    "token = 'YGPDnuBkhFmcQ7VNzSEjhgavjg4eFR4Eq1C3jIY4HgV3SQq2JgkXCNtgZy1Fu2ftd4IKui8DsjrdtXjB853cMtBevpSJqFDYiaG1A5qphlH6fFiYYmcVZ5fMR8dDrt5l'\n",
    "team_name = 'dima'\n",
    "workspace_name = 'work'\n",
    "\n",
    "src_project_name = 'roads_inf'"
   ]
  },
  {
   "cell_type": "code",
   "execution_count": 3,
   "metadata": {},
   "outputs": [],
   "source": [
    "api = sly.Api(address, token)\n",
    "\n",
    "team_id = api.team.get_info_by_name(team_name)['id']\n",
    "workspace_id = api.workspace.get_info_by_name(workspace_name, team_id)['id']\n",
    "\n",
    "src_project_id = api.project.get_info_by_name(src_project_name, workspace_id)['id']\n",
    "\n",
    "src_meta_json = api.project.get_meta(src_project_id)\n",
    "src_meta = sly.ProjectMeta.from_json(src_meta_json)"
   ]
  },
  {
   "cell_type": "code",
   "execution_count": 50,
   "metadata": {},
   "outputs": [],
   "source": [
    "classes_mapping = {\n",
    "    'road': 'road_unet'\n",
    "}\n",
    "iou_threshold = 0.7"
   ]
  },
  {
   "cell_type": "code",
   "execution_count": 51,
   "metadata": {},
   "outputs": [],
   "source": [
    "def iou(mask_1, mask_2):\n",
    "    intersection = (mask_1 * mask_2).sum()\n",
    "    union = mask_1.sum() + mask_2.sum() - intersection\n",
    "    if union == 0:\n",
    "        return 0.0\n",
    "    return intersection / union\n",
    "\n",
    "\n",
    "def compute_overlaps(masks1, masks2):\n",
    "    overlaps = np.zeros((masks1.shape[0], masks2.shape[0]))\n",
    "    for i in range(overlaps.shape[1]):\n",
    "        mask2 = masks2[i]\n",
    "        for j in range(overlaps.shape[0]):\n",
    "            mask1 = masks1[j]\n",
    "            overlaps[j, i] = iou(mask1, mask2)\n",
    "    return overlaps\n",
    "\n",
    "\n",
    "def compute_matches(gt_masks, pred_masks, iou_threshold):\n",
    "    overlaps = compute_overlaps(gt_masks, pred_masks)\n",
    "    pred_match = -1 * np.ones([pred_masks.shape[0]])\n",
    "    gt_match = -1 * np.ones([gt_masks.shape[0]])\n",
    "    for i in range(len(gt_masks)):\n",
    "        sorted_ixs = np.argsort(overlaps[i])[::-1]\n",
    "        for j in sorted_ixs:\n",
    "            if pred_match[j] > 0:\n",
    "                continue\n",
    "            iou = overlaps[i, j]\n",
    "            if iou < iou_threshold:\n",
    "                break\n",
    "            gt_match[i] = j\n",
    "            pred_match[j] = i\n",
    "            break\n",
    "\n",
    "    return gt_match, pred_match\n",
    "\n",
    "\n",
    "def compute_precision_recall(gt_masks, pred_masks, iou_threshold=0.5):\n",
    "    if len(gt_masks) == 0:\n",
    "        return [False] * len(pred_masks), 0\n",
    "    elif len(pred_masks) == 0:\n",
    "        return [], len(gt_masks)\n",
    "\n",
    "    gt_masks = np.stack(gt_masks, axis=0)\n",
    "    pred_masks = np.stack(pred_masks, axis=0)\n",
    "    _, pred_match = compute_matches(gt_masks, pred_masks, iou_threshold)\n",
    "\n",
    "    pred_match = pred_match > -1\n",
    "\n",
    "    return pred_match, len(gt_masks)\n",
    "\n",
    "\n",
    "def get_confidence_value(label):\n",
    "    confidence = None\n",
    "    if label.tags.has_key('confidence'):\n",
    "        tag = label.tags.get('confidence')\n",
    "        confidence = tag.value\n",
    "    return float(confidence)\n",
    "    \n",
    "\n",
    "def process(ann, metric_res):\n",
    "    img_size = ann.img_size\n",
    "    for cls_gt, cls_pred in classes_mapping.items():\n",
    "        masks_gt, masks_pred, pred_confs = [], [], []\n",
    "        for label in ann.labels:\n",
    "            if label.obj_class.name == cls_gt:\n",
    "                mask = np.zeros(img_size, np.uint8)\n",
    "                label.geometry.draw(mask, 1)\n",
    "                masks_gt.append(mask)\n",
    "                \n",
    "            if label.obj_class.name == cls_pred:\n",
    "                confidence = get_confidence_value(label)\n",
    "                if confidence is None:\n",
    "                    print('Confidence score is absent in figure. This figure will be skipped.')\n",
    "                    continue\n",
    "                    \n",
    "                mask = np.zeros(img_size, np.uint8)\n",
    "                label.geometry.draw(mask, 1)               \n",
    "                masks_pred.append(mask)\n",
    "                pred_confs.append(confidence)\n",
    "                \n",
    "        pred_match, num_gt = compute_precision_recall(masks_gt, masks_pred, iou_threshold)\n",
    "        pair_name = cls_gt + ':' + cls_pred\n",
    "        conf_results = np.column_stack((pred_confs, pred_match)).tolist()\n",
    "        metric_res[pair_name]['all-ground-truth'] += num_gt\n",
    "        metric_res[pair_name]['confidence-table'].extend(conf_results)"
   ]
  },
  {
   "cell_type": "code",
   "execution_count": 52,
   "metadata": {},
   "outputs": [
    {
     "name": "stderr",
     "output_type": "stream",
     "text": [
      " 30%|███       | 3/10 [00:00<00:00, 28.34it/s]"
     ]
    },
    {
     "name": "stdout",
     "output_type": "stream",
     "text": [
      "Project/Dataset: roads_inf/ds1\n"
     ]
    },
    {
     "name": "stderr",
     "output_type": "stream",
     "text": [
      "100%|██████████| 10/10 [00:00<00:00, 29.41it/s]\n"
     ]
    }
   ],
   "source": [
    "metric_results = defaultdict(lambda: {'confidence-table': [], 'all-ground-truth': 0})\n",
    "for dataset_info in api.dataset.get_list(src_project_id):\n",
    "    src_dataset_id = dataset_info['id']\n",
    "    src_dataset_name = dataset_info['name']\n",
    "\n",
    "    print('Project/Dataset: {}/{}'.format(src_project_name, src_dataset_name))\n",
    "    \n",
    "    for image_info in tqdm(api.image.get_list(src_dataset_id)):\n",
    "        src_image_ext = image_info['meta']['mime'].split('/')[1]\n",
    "\n",
    "        ann_json = api.annotation.download(src_dataset_id, image_info['id'])\n",
    "        ann = sly.Annotation.from_json(ann_json, src_meta)\n",
    "        process(ann, metric_results)"
   ]
  },
  {
   "cell_type": "markdown",
   "metadata": {},
   "source": [
    "Macro metric evaluation."
   ]
  },
  {
   "cell_type": "code",
   "execution_count": 68,
   "metadata": {},
   "outputs": [],
   "source": [
    "def evaluate_ap(metric_res): # 11 points interpolation case\n",
    "    for i, (pair_name, met_vals) in enumerate(metric_res.items()):\n",
    "        conf_table = met_vals['confidence-table']\n",
    "        if len(conf_table) == 0:\n",
    "            print('No samples for pair {!r} have been detected. '\n",
    "                  'MAP value for this pair will be set to 0.'.format(pair_name))\n",
    "            met_vals['AP'] = 0\n",
    "            continue\n",
    "        conf_table = np.array(conf_table)  # @TODO: maybe large memory consumption\n",
    "\n",
    "        num_gt = met_vals['all-ground-truth']\n",
    "\n",
    "        # working array (N, 7) sorted according confidence value,  columns = [confidence, is TP, is FP, Acc TP,\n",
    "        #  Acc FP, Precision, recall]\n",
    "        res_matrix = np.zeros((len(conf_table), 7))\n",
    "\n",
    "        res_matrix[:, 0] = conf_table[:, 0]\n",
    "        res_matrix[:, 1] = conf_table[:, 1]\n",
    "        res_matrix[:, 2] = 1 - conf_table[:, 1]\n",
    "        res_matrix = res_matrix[res_matrix[:, 0].argsort()[::-1]]\n",
    "\n",
    "        all_tp = np.cumsum(res_matrix[:, 1])\n",
    "        all_fp = np.cumsum(res_matrix[:, 2])\n",
    "        res_matrix[:, 3] = all_tp\n",
    "        res_matrix[:, 4] = all_fp\n",
    "        res_matrix[:, 5] = all_tp / (all_tp + all_fp)\n",
    "        res_matrix[:, 6] = all_tp / num_gt\n",
    "        precisions = []\n",
    "        for recall in np.linspace(0, 1, 11):\n",
    "            num_lines = (res_matrix[:, 6] >= recall).sum()\n",
    "            if num_lines == 0:\n",
    "                precisions.append(0)\n",
    "                continue\n",
    "\n",
    "            max_precision = res_matrix[:, 5][res_matrix[:, 6] >= recall].max()\n",
    "            precisions.append(max_precision)\n",
    "        \n",
    "        met_vals['matrix'] = res_matrix\n",
    "        met_vals['ap'] = np.mean(precisions)\n",
    "        \n",
    "        \n",
    "evaluate_ap(metric_results)"
   ]
  },
  {
   "cell_type": "code",
   "execution_count": 77,
   "metadata": {},
   "outputs": [
    {
     "name": "stdout",
     "output_type": "stream",
     "text": [
      "Average precision for classes 'road' and 'road_unet': 0.625\n",
      "Precision-Recall curve.\n"
     ]
    },
    {
     "data": {
      "image/png": "[encoded data removed]",
      "text/plain": [
       "<Figure size 432x288 with 1 Axes>"
      ]
     },
     "metadata": {
      "needs_background": "light"
     },
     "output_type": "display_data"
    },
    {
     "name": "stdout",
     "output_type": "stream",
     "text": [
      "Mean Average Precision for all classes: 0.625\n"
     ]
    }
   ],
   "source": [
    "def draw_pr_curve(x, y):\n",
    "    x.insert(0, 0)\n",
    "    y.insert(0, 1)\n",
    "    x.append(x[-1])\n",
    "    y.append(0)\n",
    "    plt.plot(x, y, color='b')\n",
    "    plt.fill_between(x, y, alpha=0.2, color='b')\n",
    "    plt.ylim([0.0, 1.05])\n",
    "    plt.xlim([0.0, 1.0])\n",
    "    plt.xlabel('Recall')\n",
    "    plt.ylabel('Precision')\n",
    "    plt.show()\n",
    "\n",
    "all_ap = []\n",
    "for cls_pair in metric_results:\n",
    "    met_vals = metric_results[cls_pair]\n",
    "    ap = met_vals['ap']\n",
    "    all_ap.append(ap)\n",
    "    print('Average precision for classes {!r} and {!r}: {}'.format(*cls_pair.split(':'), ap))\n",
    "    print('Precision-Recall curve.')\n",
    "    res_matrix = met_vals['matrix']\n",
    "    draw_pr_curve(res_matrix[:, 6].tolist(), res_matrix[:, 5].tolist())\n",
    "    \n",
    "print('Mean Average Precision for all classes: {}'.format(np.mean(all_ap)))"
   ]
  },
  {
   "cell_type": "code",
   "execution_count": null,
   "metadata": {},
   "outputs": [],
   "source": []
  }
 ],
 "metadata": {
  "kernelspec": {
   "display_name": "Python 3",
   "language": "python",
   "name": "python3"
  },
  "language_info": {
   "codemirror_mode": {
    "name": "ipython",
    "version": 3
   },
   "file_extension": ".py",
   "mimetype": "text/x-python",
   "name": "python",
   "nbconvert_exporter": "python",
   "pygments_lexer": "ipython3",
   "version": "3.6.5"
  }
 },
 "nbformat": 4,
 "nbformat_minor": 2
}
