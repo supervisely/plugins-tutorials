{
 "cells": [
  {
   "cell_type": "code",
   "execution_count": 1,
   "metadata": {},
   "outputs": [],
   "source": [
    "import numpy as np\n",
    "import matplotlib.pyplot as plt\n",
    "\n",
    "import supervisely_lib as sly\n",
    "\n",
    "from tqdm import tqdm\n",
    "from collections import defaultdict, Counter\n",
    "\n",
    "%matplotlib inline"
   ]
  },
  {
   "cell_type": "code",
   "execution_count": 2,
   "metadata": {},
   "outputs": [],
   "source": [
    "address = 'http://192.168.1.69:5555'\n",
    "token = 'YGPDnuBkhFmcQ7VNzSEjhgavjg4eFR4Eq1C3jIY4HgV3SQq2JgkXCNtgZy1Fu2ftd4IKui8DsjrdtXjB853cMtBevpSJqFDYiaG1A5qphlH6fFiYYmcVZ5fMR8dDrt5l'\n",
    "team_name = 'dima'\n",
    "workspace_name = 'work'\n",
    "\n",
    "src_project_name = 'lemons_annotated'"
   ]
  },
  {
   "cell_type": "code",
   "execution_count": 3,
   "metadata": {},
   "outputs": [],
   "source": [
    "api = sly.Api(address, token)\n",
    "\n",
    "team_id = api.team.get_info_by_name(team_name)['id']\n",
    "workspace_id = api.workspace.get_info_by_name(workspace_name, team_id)['id']\n",
    "\n",
    "src_project_id = api.project.get_info_by_name(src_project_name, workspace_id)['id']\n",
    "\n",
    "src_meta_json = api.project.get_meta(src_project_id)\n",
    "src_meta = sly.ProjectMeta.from_json(src_meta_json)"
   ]
  },
  {
   "cell_type": "code",
   "execution_count": 4,
   "metadata": {},
   "outputs": [],
   "source": [
    "research_classes = ['kiwi', 'lemon']"
   ]
  },
  {
   "cell_type": "code",
   "execution_count": 5,
   "metadata": {},
   "outputs": [],
   "source": [
    "def process_ann(ann, classes, res_count, res_area):\n",
    "    img_size = ann.img_size\n",
    "    for cls_name in classes:\n",
    "        count = 0\n",
    "        area = 0\n",
    "        for label in ann.labels:\n",
    "            if label.obj_class.name == cls_name:\n",
    "                count += 1\n",
    "                area += label.area / (img_size[0] * img_size[1])\n",
    "        res_area[cls_name].append(area)\n",
    "        res_count[cls_name].append(count)"
   ]
  },
  {
   "cell_type": "code",
   "execution_count": 6,
   "metadata": {},
   "outputs": [
    {
     "name": "stderr",
     "output_type": "stream",
     "text": [
      " 67%|██████▋   | 4/6 [00:00<00:00, 32.09it/s]"
     ]
    },
    {
     "name": "stdout",
     "output_type": "stream",
     "text": [
      "Project/Dataset: lemons_annotated/ds1\n"
     ]
    },
    {
     "name": "stderr",
     "output_type": "stream",
     "text": [
      "100%|██████████| 6/6 [00:00<00:00, 33.32it/s]\n"
     ]
    }
   ],
   "source": [
    "res_count = defaultdict(list)\n",
    "res_area = defaultdict(list)\n",
    "\n",
    "for dataset_info in api.dataset.get_list(src_project_id):\n",
    "    src_dataset_id = dataset_info['id']\n",
    "    src_dataset_name = dataset_info['name']\n",
    "\n",
    "    print('Project/Dataset: {}/{}'.format(src_project_name, src_dataset_name))\n",
    "    \n",
    "    for image_info in tqdm(api.image.get_list(src_dataset_id)):\n",
    "        src_image_ext = image_info['meta']['mime'].split('/')[1]\n",
    "\n",
    "        ann_json = api.annotation.download(src_dataset_id, image_info['id'])\n",
    "        ann = sly.Annotation.from_json(ann_json, src_meta)\n",
    "        process_ann(ann, research_classes, res_count, res_area)"
   ]
  },
  {
   "cell_type": "code",
   "execution_count": 7,
   "metadata": {},
   "outputs": [
    {
     "name": "stdout",
     "output_type": "stream",
     "text": [
      "Resulting distributions for class - 'kiwi'.\n",
      "\n"
     ]
    },
    {
     "data": {
      "image/png": "[encoded data removed]",
      "text/plain": [
       "<Figure size 864x216 with 2 Axes>"
      ]
     },
     "metadata": {
      "needs_background": "light"
     },
     "output_type": "display_data"
    },
    {
     "name": "stdout",
     "output_type": "stream",
     "text": [
      "\n",
      "Resulting distributions for class - 'lemon'.\n",
      "\n"
     ]
    },
    {
     "data": {
      "image/png": "[encoded data removed]",
      "text/plain": [
       "<Figure size 864x216 with 2 Axes>"
      ]
     },
     "metadata": {
      "needs_background": "light"
     },
     "output_type": "display_data"
    },
    {
     "name": "stdout",
     "output_type": "stream",
     "text": [
      "\n"
     ]
    }
   ],
   "source": [
    "for cls_name in research_classes:\n",
    "    print('Resulting distributions for class - {!r}.'.format(cls_name))\n",
    "    print()\n",
    "    fig, ax = plt.subplots(1, 2, figsize=(12, 3))\n",
    "    counter = Counter(res_count[cls_name])\n",
    "    indexes = np.arange(max(res_count[cls_name]) + 1)\n",
    "    values = [counter[x] for x in indexes]\n",
    "    ax[0].set_title('Distribution of the number of objects.')\n",
    "    ax[0].set_xticks(indexes)\n",
    "    ax[0].bar(indexes, values, 0.5, color='b')\n",
    "    \n",
    "    ax[1].set_title('Distribution of the area of objects.(relative value)')\n",
    "    ax[1].hist(res_area[cls_name], range=(0, 1), color='g')\n",
    "    plt.show()\n",
    "    print()"
   ]
  },
  {
   "cell_type": "code",
   "execution_count": null,
   "metadata": {},
   "outputs": [],
   "source": []
  }
 ],
 "metadata": {
  "kernelspec": {
   "display_name": "Python 3",
   "language": "python",
   "name": "python3"
  },
  "language_info": {
   "codemirror_mode": {
    "name": "ipython",
    "version": 3
   },
   "file_extension": ".py",
   "mimetype": "text/x-python",
   "name": "python",
   "nbconvert_exporter": "python",
   "pygments_lexer": "ipython3",
   "version": "3.6.5"
  }
 },
 "nbformat": 4,
 "nbformat_minor": 2
}
