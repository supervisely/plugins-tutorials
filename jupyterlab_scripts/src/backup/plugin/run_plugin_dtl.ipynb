{
 "cells": [
  {
   "cell_type": "code",
   "execution_count": 1,
   "metadata": {},
   "outputs": [],
   "source": [
    "import supervisely_lib as sly\n",
    "import os\n",
    "import json"
   ]
  },
  {
   "cell_type": "code",
   "execution_count": 3,
   "metadata": {},
   "outputs": [],
   "source": [
    "team_name = 'max'\n",
    "workspace_name = 'test_dtl_segmentation'\n",
    "agent_name = 'max_pytharm' # None\n",
    "src_project_name = 'lemons_annotated'\n",
    "dst_project_name = 'lemons_annotated_segmentation'"
   ]
  },
  {
   "cell_type": "code",
   "execution_count": 4,
   "metadata": {},
   "outputs": [
    {
     "name": "stdout",
     "output_type": "stream",
     "text": [
      "DTL graph:\n",
      "[\n",
      "    {\n",
      "        \"dst\": \"$sample\",\n",
      "        \"src\": [\n",
      "            \"lemons_annotated/*\"\n",
      "        ],\n",
      "        \"action\": \"data\",\n",
      "        \"settings\": {\n",
      "            \"classes_mapping\": \"default\"\n",
      "        }\n",
      "    },\n",
      "    {\n",
      "        \"dst\": \"$fv\",\n",
      "        \"src\": [\n",
      "            \"$sample\"\n",
      "        ],\n",
      "        \"action\": \"flip\",\n",
      "        \"settings\": {\n",
      "            \"axis\": \"vertical\"\n",
      "        }\n",
      "    },\n",
      "    {\n",
      "        \"dst\": \"$data\",\n",
      "        \"src\": [\n",
      "            \"$fv\",\n",
      "            \"$sample\"\n",
      "        ],\n",
      "        \"action\": \"dummy\",\n",
      "        \"settings\": {}\n",
      "    },\n",
      "    {\n",
      "        \"dst\": \"$data2\",\n",
      "        \"src\": [\n",
      "            \"$data\"\n",
      "        ],\n",
      "        \"action\": \"multiply\",\n",
      "        \"settings\": {\n",
      "            \"multiply\": 5\n",
      "        }\n",
      "    },\n",
      "    {\n",
      "        \"dst\": \"$data3\",\n",
      "        \"src\": [\n",
      "            \"$data2\"\n",
      "        ],\n",
      "        \"action\": \"crop\",\n",
      "        \"settings\": {\n",
      "            \"random_part\": {\n",
      "                \"width\": {\n",
      "                    \"max_percent\": 90,\n",
      "                    \"min_percent\": 70\n",
      "                },\n",
      "                \"height\": {\n",
      "                    \"max_percent\": 90,\n",
      "                    \"min_percent\": 70\n",
      "                },\n",
      "                \"keep_aspect_ratio\": false\n",
      "            }\n",
      "        }\n",
      "    },\n",
      "    {\n",
      "        \"dst\": [\n",
      "            \"$totrain\",\n",
      "            \"$toval\"\n",
      "        ],\n",
      "        \"src\": [\n",
      "            \"$data3\",\n",
      "            \"$data\"\n",
      "        ],\n",
      "        \"action\": \"if\",\n",
      "        \"settings\": {\n",
      "            \"condition\": {\n",
      "                \"probability\": 0.85\n",
      "            }\n",
      "        }\n",
      "    },\n",
      "    {\n",
      "        \"dst\": \"$train\",\n",
      "        \"src\": [\n",
      "            \"$totrain\"\n",
      "        ],\n",
      "        \"action\": \"tag\",\n",
      "        \"settings\": {\n",
      "            \"tag\": \"train\",\n",
      "            \"action\": \"add\"\n",
      "        }\n",
      "    },\n",
      "    {\n",
      "        \"dst\": \"$val\",\n",
      "        \"src\": [\n",
      "            \"$toval\"\n",
      "        ],\n",
      "        \"action\": \"tag\",\n",
      "        \"settings\": {\n",
      "            \"tag\": \"val\",\n",
      "            \"action\": \"add\"\n",
      "        }\n",
      "    },\n",
      "    {\n",
      "        \"dst\": \"$data_with_bg\",\n",
      "        \"src\": [\n",
      "            \"$train\",\n",
      "            \"$val\"\n",
      "        ],\n",
      "        \"action\": \"background\",\n",
      "        \"settings\": {\n",
      "            \"class\": \"bg\"\n",
      "        }\n",
      "    },\n",
      "    {\n",
      "        \"dst\": \"lemons_annotated_segmentation\",\n",
      "        \"src\": [\n",
      "            \"$data_with_bg\"\n",
      "        ],\n",
      "        \"action\": \"supervisely\",\n",
      "        \"settings\": {}\n",
      "    }\n",
      "]\n"
     ]
    }
   ],
   "source": [
    "path_dtl_graph = '/workdir/demo_data/dtl_segmentation_graph.json'\n",
    "with open(path_dtl_graph, 'r') as file:\n",
    "    dtl_graph_str = file.read()\n",
    "dtl_graph_str = dtl_graph_str.replace('%SRC_PROJECT_NAME%', src_project_name)\n",
    "dtl_graph_str = dtl_graph_str.replace('%DST_PROJECT_NAME%', dst_project_name)\n",
    "dtl_graph = json.loads(dtl_graph_str)\n",
    "print('DTL graph:')\n",
    "print(json.dumps(dtl_graph, indent=4))"
   ]
  },
  {
   "cell_type": "code",
   "execution_count": 5,
   "metadata": {},
   "outputs": [],
   "source": [
    "address = os.environ['SERVER_ADDRESS']\n",
    "token = os.environ['API_TOKEN']"
   ]
  },
  {
   "cell_type": "code",
   "execution_count": 6,
   "metadata": {},
   "outputs": [
    {
     "name": "stdout",
     "output_type": "stream",
     "text": [
      "Server address:  http://192.168.1.69:5555\n",
      "Your API token:  OfaV5z24gEQ7ikv2DiVdYu1CXZhMavU7POtJw2iDtQtvGUux31DUyWTXW6mZ0wd3IRuXTNtMFS9pCggewQWRcqSTUi4EJXzly8kH7MJL1hm3uZeM2MCn5HaoEYwXejKT\n"
     ]
    }
   ],
   "source": [
    "print(\"Server address: \", address)\n",
    "print(\"Your API token: \", token)"
   ]
  },
  {
   "cell_type": "code",
   "execution_count": 7,
   "metadata": {},
   "outputs": [],
   "source": [
    "api = sly.Api(address, token)"
   ]
  },
  {
   "cell_type": "code",
   "execution_count": 8,
   "metadata": {},
   "outputs": [
    {
     "name": "stdout",
     "output_type": "stream",
     "text": [
      "Current context: Team 'max', Workspace 'test_dtl_segmentation'\n"
     ]
    }
   ],
   "source": [
    "team = api.team.get_info_by_name(team_name)\n",
    "workspace = api.workspace.get_info_by_name(team.id, workspace_name)\n",
    "print(\"Current context: Team {!r}, Workspace {!r}\".format(team.name, workspace.name))"
   ]
  },
  {
   "cell_type": "code",
   "execution_count": 9,
   "metadata": {},
   "outputs": [],
   "source": [
    "agent = api.agent.get_info_by_name(team.id, agent_name)\n",
    "if agent is not None and agent.status is api.agent.Status.WAITING:\n",
    "    agent = None\n",
    "agent_id = None if agent is None else agent.id"
   ]
  },
  {
   "cell_type": "code",
   "execution_count": 10,
   "metadata": {},
   "outputs": [
    {
     "name": "stdout",
     "output_type": "stream",
     "text": [
      "DTL task (id=1378) is started\n"
     ]
    }
   ],
   "source": [
    "task_id = api.task.run_dtl(workspace.id, dtl_graph, agent_id)\n",
    "print('DTL task (id={}) is started'.format(task_id))\n",
    "\n",
    "#api.task.wait(task_id, api.task.Status.FINISHED)\n",
    "#print('DTL task (id={}) has been successfully finished'.format(task_id))"
   ]
  },
  {
   "cell_type": "code",
   "execution_count": null,
   "metadata": {},
   "outputs": [],
   "source": []
  }
 ],
 "metadata": {
  "kernelspec": {
   "display_name": "Python 3",
   "language": "python",
   "name": "python3"
  },
  "language_info": {
   "codemirror_mode": {
    "name": "ipython",
    "version": 3
   },
   "file_extension": ".py",
   "mimetype": "text/x-python",
   "name": "python",
   "nbconvert_exporter": "python",
   "pygments_lexer": "ipython3",
   "version": "3.6.5"
  }
 },
 "nbformat": 4,
 "nbformat_minor": 2
}
