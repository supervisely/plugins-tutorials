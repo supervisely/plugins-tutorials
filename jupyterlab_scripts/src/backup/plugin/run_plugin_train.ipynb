{
 "cells": [
  {
   "cell_type": "code",
   "execution_count": 1,
   "metadata": {},
   "outputs": [],
   "source": [
    "import supervisely_lib as sly\n",
    "import os"
   ]
  },
  {
   "cell_type": "code",
   "execution_count": 2,
   "metadata": {},
   "outputs": [],
   "source": [
    "team_name = 'max'\n",
    "workspace_name = 'test_dtl_segmentation'\n",
    "agent_name = 'max_pycharm' # None\n",
    "init_model_name = 'UNet (VGG weights)'\n",
    "input_project_name = 'lemons_annotated_segmentation_013'\n",
    "result_model_name = 'nn_01'"
   ]
  },
  {
   "cell_type": "code",
   "execution_count": 3,
   "metadata": {},
   "outputs": [],
   "source": [
    "training_config = {\n",
    "  \"lr\": 0.001,\n",
    "  \"epochs\": 3,\n",
    "  \"val_every\": 0.5,\n",
    "  \"batch_size\": {\n",
    "    \"val\": 6,\n",
    "    \"train\": 12\n",
    "  },\n",
    "  \"input_size\": {\n",
    "    \"width\": 256,\n",
    "    \"height\": 256\n",
    "  },\n",
    "  \"gpu_devices\": [\n",
    "    0\n",
    "  ],\n",
    "  \"data_workers\": {\n",
    "    \"val\": 0,\n",
    "    \"train\": 3\n",
    "  },\n",
    "  \"dataset_tags\": {\n",
    "    \"val\": \"val\",\n",
    "    \"train\": \"train\"\n",
    "  },\n",
    "  \"special_classes\": {\n",
    "    \"neutral\": \"neutral\",\n",
    "    \"background\": \"bg\"\n",
    "  },\n",
    "  \"weights_init_type\": \"transfer_learning\"\n",
    "}"
   ]
  },
  {
   "cell_type": "code",
   "execution_count": 4,
   "metadata": {},
   "outputs": [],
   "source": [
    "address = os.environ['SERVER_ADDRESS']\n",
    "token = os.environ['API_TOKEN']"
   ]
  },
  {
   "cell_type": "code",
   "execution_count": 5,
   "metadata": {},
   "outputs": [
    {
     "name": "stdout",
     "output_type": "stream",
     "text": [
      "Server address:  http://192.168.1.69:5555\n",
      "Your API token:  OfaV5z24gEQ7ikv2DiVdYu1CXZhMavU7POtJw2iDtQtvGUux31DUyWTXW6mZ0wd3IRuXTNtMFS9pCggewQWRcqSTUi4EJXzly8kH7MJL1hm3uZeM2MCn5HaoEYwXejKT\n"
     ]
    }
   ],
   "source": [
    "print(\"Server address: \", address)\n",
    "print(\"Your API token: \", token)"
   ]
  },
  {
   "cell_type": "code",
   "execution_count": 6,
   "metadata": {},
   "outputs": [],
   "source": [
    "api = sly.Api(address, token)"
   ]
  },
  {
   "cell_type": "code",
   "execution_count": 7,
   "metadata": {},
   "outputs": [
    {
     "name": "stdout",
     "output_type": "stream",
     "text": [
      "Current context: Team 'max', Workspace 'test_dtl_segmentation'\n"
     ]
    }
   ],
   "source": [
    "team = api.team.get_info_by_name(team_name)\n",
    "workspace = api.workspace.get_info_by_name(team.id, workspace_name)\n",
    "print(\"Current context: Team {!r}, Workspace {!r}\".format(team.name, workspace.name))"
   ]
  },
  {
   "cell_type": "code",
   "execution_count": 8,
   "metadata": {},
   "outputs": [],
   "source": [
    "model = api.model.get_info_by_name(workspace.id, init_model_name)\n",
    "if model is None:\n",
    "    raise RuntimeError(\"Model {!r} not found\".format(init_model_name))"
   ]
  },
  {
   "cell_type": "code",
   "execution_count": 9,
   "metadata": {},
   "outputs": [],
   "source": [
    "project = api.project.get_info_by_name(workspace.id, input_project_name)\n",
    "if project is None:\n",
    "    raise RuntimeError(\"Project {!r} not found\".format(input_project_name))"
   ]
  },
  {
   "cell_type": "code",
   "execution_count": 10,
   "metadata": {},
   "outputs": [],
   "source": [
    "agent = api.agent.get_info_by_name(team.id, agent_name)\n",
    "if agent is None:\n",
    "    raise RuntimeError(\"Agent {!r} not found\".format(agent_name))\n",
    "if agent.status is api.agent.Status.WAITING:\n",
    "    raise RuntimeError(\"Agent {!r} is not running\".format(agent_name))"
   ]
  },
  {
   "cell_type": "code",
   "execution_count": 11,
   "metadata": {},
   "outputs": [
    {
     "name": "stdout",
     "output_type": "stream",
     "text": [
      "Train task (id=1379) is started\n"
     ]
    }
   ],
   "source": [
    "task_id = api.task.run_train(agent.id, project.id, model.id, result_model_name, training_config)\n",
    "print('Train task (id={}) is started'.format(task_id))"
   ]
  },
  {
   "cell_type": "code",
   "execution_count": null,
   "metadata": {},
   "outputs": [],
   "source": []
  }
 ],
 "metadata": {
  "kernelspec": {
   "display_name": "Python 3",
   "language": "python",
   "name": "python3"
  },
  "language_info": {
   "codemirror_mode": {
    "name": "ipython",
    "version": 3
   },
   "file_extension": ".py",
   "mimetype": "text/x-python",
   "name": "python",
   "nbconvert_exporter": "python",
   "pygments_lexer": "ipython3",
   "version": "3.6.5"
  }
 },
 "nbformat": 4,
 "nbformat_minor": 2
}
